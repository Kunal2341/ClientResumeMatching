{
 "cells": [
  {
   "cell_type": "code",
   "execution_count": 1,
   "metadata": {},
   "outputs": [],
   "source": [
    "import spacy\n",
    "#it means that the Python environment the model was installed in is not the same as your Jupyter environment."
   ]
  },
  {
   "cell_type": "code",
   "execution_count": 2,
   "metadata": {},
   "outputs": [
    {
     "name": "stderr",
     "output_type": "stream",
     "text": [
      "C:\\Users\\kunal\\Anaconda3\\lib\\site-packages\\spacy\\util.py:275: UserWarning: [W031] Model 'en_core_web_sm' (2.2.0) requires spaCy v2.2 and is incompatible with the current spaCy version (2.3.1). This may lead to unexpected results or runtime errors. To resolve this, download a newer compatible model or retrain your custom model with the current spaCy version. For more details and available updates, run: python -m spacy validate\n",
      "  warnings.warn(warn_msg)\n"
     ]
    }
   ],
   "source": [
    "import en_core_web_sm\n",
    "nlp = en_core_web_sm.load()\n",
    "#nlp = spacy.load(\"en_core_web_sm\") \n",
    "#nlp = en_core_web_sm.load()"
   ]
  },
  {
   "cell_type": "code",
   "execution_count": 3,
   "metadata": {},
   "outputs": [],
   "source": [
    "doc = nlp(\"Use of Cayenne web application to detect temperature and provides a siren at thresholds.\")"
   ]
  },
  {
   "cell_type": "code",
   "execution_count": 4,
   "metadata": {},
   "outputs": [],
   "source": [
    "text = \"\"\"NISARGA HASSAN SREEDHAR\n",
    "San Jose, California | +1 (925) 789-8911| nisarga.nishu20@gmail.com | www.linkedin.com/in/nisarga-sreedhar-39938516b\n",
    "EDUCATION:\n",
    "Master’s in Electrical Engineering (Computer Networking), San Jose State University, California, USA. May 2020\n",
    "Coursework: Internetworking, Broadband communications, Network Security, Internet of Things (IoT), Voice over IP\n",
    "Bachelor of Engineering in Telecommunication Engineering, Dayananda Sagar College of Engineering, Visvesvaraya\n",
    "Technological University, India June 2017\n",
    "TECHNICAL SKILLS:\n",
    "Network technologies: HTTP, DNS, DHCP, HTTPS, TLS-SSL, TCP/IP, UDP, IPv4, IPv6, ICMP, OSPF, BGP, ARP, VLAN, STP,\n",
    "SIP, IPS, IDS, NAT, IS-IS, 802.11, MPLS, WPA2, WPA3, Packet level troubleshooting\n",
    "Programming: Python\n",
    "OS Platform: Linux (Ubuntu, CentOS), Kali Linux, Cisco IOS\n",
    "Tools and IDE: Advanced Design System (ADS), Wireshark, VMware Workstation, VirtualBox, GNS3, Cisco Packet Tracer, PuTTY\n",
    "CERTIFICATION:\n",
    "• Cisco Certified Network Associate (CCNA) 200-301 (In Progress)\n",
    "• AWS Certified Cloud Practitioner (CLF-C01) (In progress)\n",
    "EXPERIENCE:\n",
    "Marmon Food & Beverages Technologies, Cornelius, India June 2019 - July 2019\n",
    "Network Engineer Intern\n",
    "• Python based Serial Communication (IoT)\n",
    "• Used an Iot Dongle to read a file, convert it into a packet by adding header and footer and transmit serially.\n",
    "• Python code was written to send the file from dongle to Food Holding Bin.\n",
    "ACADEMIC PROJECTS:\n",
    "Secure routing in IoT networks Aug 2019 - current\n",
    "• Design and configure an IoT based network using Cisco Packet Tracer.\n",
    "• Perform a Man in the Middle attack to one of the devices using Kali Linux.\n",
    "• Detection of the attack and solution to the problem faced.\n",
    "Illumino: IoT Smart Light Aug 2019 - Dec 2019\n",
    "• Create a hardware of an IoT smart light using Arduino ESP8266 and Cayenne IoT Platform.\n",
    "• Designed to operate in three modes: Auto mode, Lamp mode, Security mode.\n",
    "• Use of Cayenne web application to detect temperature and provides a siren at thresholds.\n",
    "Voice over IP for Wireless Ad Hoc Networks (WANET) Aug 2019 - Dec 2019\n",
    "• Simple Call Establishment between two clients in a WANET that have registered with the Asterisk server.\n",
    "• Call on Hold with one user client to attend another client.\n",
    "• Call Conferencing between all three clients, all performed using X-Lite softphone software.\n",
    "Experiencing Virtualization using Virtual Box Jan 2019 - April 2019\n",
    "• Worked on Open vSwitch in Virtual Box on an Ubuntu machine to run ovs and its versions successfully.\n",
    "• Demonstrated how the VLANs are implemented, three VMs and one virtual switch is created.\n",
    "• Attempted to communicate between the VMs and observed the PING result.\n",
    "Corporate Company Network Design Aug 2018 - Dec 2018\n",
    "• Designed and implemented a basic corporate network topology for the interconnection between offices with\n",
    "switches, routers, and hosts.\n",
    "• Implemented the design using routing protocols such as OSPF, BGP, DNS, VLAN, STP, IP, DHCP and HSRP.\n",
    "• Tested and troubleshot configurations in the console to check the communication between the networks.\n",
    "Design of X-Band 8PSK Modulator using ADS Jan 2017 - April 2017\n",
    "• Designed various components of the modulator used in a satellite at ISRO (Indian Space Research Organization), Bangalore.\n",
    "• Performed optimization of the components at 8.75GHz frequency using the tools available in ADS to obtain the desired results of\n",
    "Insertion loss, Return loss and Isolation loss.\n",
    "\"\"\""
   ]
  },
  {
   "cell_type": "code",
   "execution_count": 5,
   "metadata": {},
   "outputs": [],
   "source": [
    "from collections import Counter\n",
    "from string import punctuation"
   ]
  },
  {
   "cell_type": "code",
   "execution_count": 6,
   "metadata": {},
   "outputs": [],
   "source": [
    "import en_core_web_lg\n",
    "nlp = en_core_web_lg.load()"
   ]
  },
  {
   "cell_type": "code",
   "execution_count": 7,
   "metadata": {},
   "outputs": [],
   "source": [
    "def get_hotwords(text):\n",
    "    result = []\n",
    "    pos_tag = ['PROPN', 'ADJ', 'NOUN'] # 1\n",
    "    doc = nlp(text.lower()) # 2\n",
    "    for token in doc:\n",
    "        # 3\n",
    "        if(token.text in nlp.Defaults.stop_words or token.text in punctuation):\n",
    "            continue\n",
    "        # 4\n",
    "        if(token.pos_ in pos_tag):\n",
    "            result.append(token.text)\n",
    "                \n",
    "    return result # 5"
   ]
  },
  {
   "cell_type": "code",
   "execution_count": 8,
   "metadata": {},
   "outputs": [],
   "source": [
    "output = set(get_hotwords(text))"
   ]
  },
  {
   "cell_type": "code",
   "execution_count": 9,
   "metadata": {},
   "outputs": [
    {
     "name": "stdout",
     "output_type": "stream",
     "text": [
      "{'sreedhar', 'design', 'centos', 'result', 'vswitch', 'switch', 'icmp', 'vmware', 'corporate', 'asterisk', 'indian', 'x', 'nisarga', 'advanced', 'footer', 'simple', 'company', 'virtual', 'certification', 'internet', 'june', 'code', 'programming', 'jose', 'tcp', 'india', 'aws', 'lamp', 'web', 'wireless', 'modulator', 'vlans', 'hardware', 'optimization', 'dhcp', 'technological', 'c01', 'insertion', 'ips', 'technical', 'hassan', 'practitioner', 'networks', 'ssl', 'secure', 'computer', 'https', 'wireshark', 'bin', 'detection', 'technologies', 'configurations', 'bgp', 'experience', 'components', 'bachelor', 'tls', 'beverages', 'research', 'hosts', 'application', 'internetworking', 'dec', 'available', 'university', 'machine', 'nat', 'ads', 'bangalore', 'linux', 'california', 'electrical', 'progress', 'man', 'www.linkedin.com/in/nisarga-sreedhar-39938516b', 'networking', 'voice', 'os', 'ios', 'workstation', 'tracer', 'isro', 'frequency', 'gns3', 'satellite', 'hold', 'file', 'console', 'smart', 'ide', 'communication', 'academic', 'april', 'engineering', 'ip', 'header', 'devices', 'softphone', 'level', 'network', 'college', 'siren', 'dns', 'cisco', 'use', 'cayenne', 'isolation', 'iot', 'mpls', 'food', 'packet', 'tools', 'master', 'system', 'box', 'thresholds', 'offices', 'vms', 'arduino', 'usa', 'ospf', 'middle', 'establishment', 'virtualbox', '+1', 'loss', 'current', 'hsrp', 'wanet', 'results', 'intern', 'switches', 'space', 'serial', 'education', 'wpa2', 'solution', 'cloud', 'telecommunication', 'protocols', 'stp', 'modes', 'engineer', 'dayananda', 'ping', 'light', 'topology', 'state', 'temperature', 'server', 'lite', 'conferencing', 'user', 'marmon', 'interconnection', 'organization', 'july', 'dongle', 'clf', 'clients', 'skills', 'http', 'vlan', 'udp', 'problem', 'broadband', 'versions', 'python', 'aug', 'platform', 'virtualization', 'associate', 'projects', 'san', 'client', '802.11', 'ovs', 'ids', 'coursework', 'band', 'visvesvaraya', 'ubuntu', 'ccna', 'software', 'attack', 'routers', 'mode', 'sagar', 'basic', 'arp', 'auto', 'routing', '•', 'cornelius', 'communications', 'esp8266', 'putty', 'kali', 'open', 'things', 'security', 'jan'}\n"
     ]
    }
   ],
   "source": [
    "print(output)"
   ]
  },
  {
   "cell_type": "code",
   "execution_count": 10,
   "metadata": {},
   "outputs": [
    {
     "name": "stdout",
     "output_type": "stream",
     "text": [
      "#sreedhar #design #centos #result #vswitch #switch #icmp #vmware #corporate #asterisk\n"
     ]
    }
   ],
   "source": [
    "hashtags = [('#' + x[0]) for x in Counter(output).most_common(10)]\n",
    "print(' '.join(hashtags))"
   ]
  },
  {
   "cell_type": "code",
   "execution_count": null,
   "metadata": {},
   "outputs": [],
   "source": []
  },
  {
   "cell_type": "code",
   "execution_count": 11,
   "metadata": {},
   "outputs": [
    {
     "name": "stdout",
     "output_type": "stream",
     "text": [
      "Loaded language vocabulary\n",
      "['aug current • design', 'sreedhar', 'design', 'centos', 'broadband communications', 'result', 'vswitch', 'switch', 'icmp', 'python os platform', 'transmit', 'vmware', 'asterisk', 'corporate', 'indian', 'illumino', 'x', 'footer', 'nisarga', 'advanced', 'simple', 'company', 'virtual', 'certification', 'internet', 'lamp mode', 'troubleshot', 'june', 'code', 'nisarga hassan sreedhar san jose', 'telecommunication engineering', 'technical skills', 'programming', 'modulator', 'optimization', 'jose', 'india', 'tcp', 'vlans', 'hardware', 'cayenne web application', 'aws', 'dhcp', 'various components', 'technological', 'c01', 'x band modulator', 'virtual box jan', 'wireless networks', 'open vswitch', 'ipv6', 'insertion', 'ips', 'technical', 'hassan', 'practitioner', 'networks', 'ssl', 'secure', 'https', 'wireshark', 'computer', 'bin', 'network technologies', 'detection', 'indian space research organization', 'technologies', 'configurations', 'bgp', 'experience', 'components', 'bachelor', 'virtual box', 'tls', 'beverages', 'wireless', 'research', 'sip', 'hosts', 'security mode', 'application', 'dec', 'available', 'electrical engineering', 'university', 'machine', 'nat', 'ads', 'bangalore', 'linux', 'california', 'electrical', 'progress', 'man', 'www.linkedin.com/in/nisarga-sreedhar-39938516b', 'voice', '• use', 'networking', 'os', 'marmon food beverages technologies', 'workstation', 'tracer', 'iot dongle', 'isro', 'frequency', 'gns3', 'satellite', 'hold', 'file', 'clf c01', 'console', 'may', 'ide', 'april', 'communication', 'academic', 'smart', 'engineering', 'ip', 'nisarga.nishu20@gmail.com', 'header', 'devices', 'insertion loss', 'softphone', 'level', 'network', 'college', 'iot smart light', 'siren', 'dns', 'cisco', 'lamp', 'dec • simple call establishment', 'cayenne', 'use', 'isolation', 'iot', 'mpls', 'food', 'ubuntu machine', 'packet', 'tools', 'master', 'cayenne iot platform', '8911|', 'thresholds', 'offices', 'system', 'box', 'vms', 'virtual switch', 'india june', 'isolation loss', 'arduino', 'ospf', 'usa', 'middle', 'corporate company network design', 'establishment', 'iot network', 'virtualbox', '+1', 'loss', 'current', 'python code', 'hsrp', 'packet level', 'nisarga.nishu20@gmail.com |', 'web', 'wanet', 'results', 'ubuntu centos', 'switches', 'intern', 'network security', 'serial', 'education', 'space', 'wpa2', 'solution', 'advanced design system', 'cisco packet tracer', 'auto mode', 'user client', 'vlan stp', 'protocols', 'telecommunication', 'cloud', 'stp', '• call', 'modes', 'engineer', 'dayananda', 'ping', 'troubleshot configurations', 'july network engineer intern • python serial communication', 'light', 'topology', 'state', 'putty certification', 'dayananda sagar college', 'temperature', 'server', 'academic projects', 'lite', 'interconnection', 'user', 'marmon', 'conferencing', 'organization', 'dongle', 'july', 'asterisk server', 'vmware workstation', 'clf', 'clients', 'skills', 'http', 'kali linux', 'san jose state university', 'udp', 'vlan', 'problem', 'broadband', 'visvesvaraya technological university', 'versions', 'lite softphone software', 'aug', 'python', 'computer networking', 'www.linkedin.com/in/nisarga-sreedhar-39938516b education', 'ipv4', 'platform', 'associate', 'projects', 'san', 'wpa3', 'client', 'ids', 'middle attack', 'coursework', 'california |', 'iot networks', 'ccna', 'visvesvaraya', 'ubuntu', 'software', 'band', 'attack', 'master ’s', 'tcp ip', 'routers', 'mode', 'basic corporate network topology', 'sagar', 'basic', 'arp', '• detection', 'routing', 'auto', 'cornelius', '•', 'esp8266', 'communications', 'putty', 'kali', 'open', 'things', 'ping result', 'security', 'jan']\n"
     ]
    }
   ],
   "source": [
    "import spacy\n",
    "import subprocess\n",
    "from string import punctuation\n",
    "\n",
    "\n",
    "def extract_keywords(nlp, sequence, special_tags: list = None):\n",
    "    \"\"\" Takes a Spacy core language model,\n",
    "    string sequence of text and optional\n",
    "    list of special tags as arguments.\n",
    "    \n",
    "    If any of the words in the string are \n",
    "    in the list of special tags they are immediately \n",
    "    added to the result.  \n",
    "    \n",
    "    Arguments:\n",
    "        sequence {str} -- string sequence to have keywords extracted from\n",
    "    \n",
    "    Keyword Arguments:\n",
    "        tags {list} --  list of tags to be automatically added (default: {None})\n",
    "    \n",
    "    Returns:\n",
    "        {list} -- list of the unique keywords extracted from a string\n",
    "    \"\"\"\n",
    "    result = []\n",
    "\n",
    "    # custom list of part of speech tags we are interested in\n",
    "    # we are interested in proper nouns, nouns, and adjectives\n",
    "    # edit this list of POS tags according to your needs.\n",
    "    pos_tag = ['PROPN', 'NOUN', 'ADJ']\n",
    "\n",
    "    # create a spacy doc object by calling the nlp object on the input sequence\n",
    "    doc = nlp(sequence.lower())\n",
    "\n",
    "    # if special tags are given and exist in the input sequence\n",
    "    # add them to results by default\n",
    "    if special_tags:\n",
    "        tags = [tag.lower() for tag in special_tags]\n",
    "        for token in doc:\n",
    "            if token.text in tags:\n",
    "                result.append(token.text)\n",
    "\n",
    "    for chunk in doc.noun_chunks:\n",
    "        final_chunk = \"\"\n",
    "        for token in chunk:\n",
    "            if (token.pos_ in pos_tag):\n",
    "                final_chunk = final_chunk + token.text + \" \"\n",
    "        if final_chunk:\n",
    "            result.append(final_chunk.strip())\n",
    "\n",
    "    for token in doc:\n",
    "        if (token.text in nlp.Defaults.stop_words\n",
    "                or token.text in punctuation):\n",
    "            continue\n",
    "        if (token.pos_ in pos_tag):\n",
    "            result.append(token.text)\n",
    "    return list(set(result))\n",
    "\n",
    "\n",
    "if __name__ == \"__main__\":\n",
    "    \"\"\"\n",
    "  install the langauge model using the subprocess package\n",
    "  useful when hosting the service in the cloud as it prevents against\n",
    "  us forgetting to do this via the CLI\n",
    "  \"\"\"\n",
    "    #subprocess.call(\"python -m spacy download en_core_web_sm\",shell=True)\n",
    "\n",
    "    # load the small english language model,\n",
    "    nlp = spacy.load(\"en_core_web_sm\")\n",
    "\n",
    "    print(\"Loaded language vocabulary\")\n",
    "    print(\n",
    "        extract_keywords(\n",
    "            nlp, text\n",
    "        ))"
   ]
  },
  {
   "cell_type": "code",
   "execution_count": null,
   "metadata": {},
   "outputs": [],
   "source": []
  },
  {
   "cell_type": "code",
   "execution_count": null,
   "metadata": {},
   "outputs": [],
   "source": []
  },
  {
   "cell_type": "code",
   "execution_count": null,
   "metadata": {},
   "outputs": [],
   "source": []
  },
  {
   "cell_type": "code",
   "execution_count": null,
   "metadata": {},
   "outputs": [],
   "source": []
  },
  {
   "cell_type": "code",
   "execution_count": null,
   "metadata": {},
   "outputs": [],
   "source": []
  },
  {
   "cell_type": "code",
   "execution_count": null,
   "metadata": {},
   "outputs": [],
   "source": []
  },
  {
   "cell_type": "code",
   "execution_count": null,
   "metadata": {},
   "outputs": [],
   "source": []
  },
  {
   "cell_type": "code",
   "execution_count": null,
   "metadata": {},
   "outputs": [],
   "source": []
  },
  {
   "cell_type": "code",
   "execution_count": 12,
   "metadata": {},
   "outputs": [],
   "source": [
    "import spacy\n",
    "from spacy import displacy\n",
    "from collections import Counter\n",
    "import en_core_web_sm\n",
    "nlp = en_core_web_sm.load()"
   ]
  },
  {
   "cell_type": "code",
   "execution_count": 13,
   "metadata": {},
   "outputs": [
    {
     "name": "stdout",
     "output_type": "stream",
     "text": [
      "[('San Jose', 'GPE'), ('California', 'GPE'), ('925', 'CARDINAL'), ('789', 'CARDINAL'), ('San Jose State University', 'GPE'), ('California', 'GPE'), ('USA', 'GPE'), ('May 2020', 'DATE'), ('Internetworking', 'GPE'), ('Broadband', 'GPE'), ('Network Security', 'ORG'), ('IoT', 'ORG'), ('Voice', 'ORG'), ('IP\\nBachelor of Engineering', 'ORG'), ('Telecommunication Engineering', 'ORG'), ('Dayananda Sagar College of Engineering,', 'ORG'), ('Visvesvaraya\\nTechnological University', 'ORG'), ('India', 'GPE'), ('June 2017', 'DATE'), ('HTTP', 'ORG'), ('HTTPS', 'ORG'), ('TLS-SSL', 'ORG'), ('TCP/IP', 'ORG'), ('UDP', 'ORG'), ('ICMP', 'ORG'), ('OSPF', 'ORG'), ('BGP', 'ORG'), ('ARP', 'ORG'), ('VLAN', 'ORG'), ('STP', 'ORG'), ('IPS', 'ORG'), ('IDS', 'ORG'), ('NAT', 'ORG'), ('IS-IS', 'ORG'), ('802.11', 'CARDINAL'), ('MPLS', 'ORG'), ('WPA2', 'ORG'), ('WPA3', 'ORG'), ('Packet', 'PERSON'), ('Linux', 'PERSON'), ('Kali Linux', 'PERSON'), ('Cisco IOS\\nTools', 'ORG'), ('IDE', 'ORG'), ('Advanced Design System', 'ORG'), ('ADS', 'ORG'), ('Wireshark', 'ORG'), ('VMware Workstation', 'ORG'), ('VirtualBox', 'ORG'), ('GNS3', 'ORG'), ('Cisco Packet Tracer', 'PERSON'), ('Cisco Certified Network Associate', 'ORG'), ('200-301', 'CARDINAL'), ('AWS', 'ORG'), ('Cloud Practitioner', 'PERSON'), ('CLF-C01', 'ORG'), ('Cornelius', 'GPE'), ('India', 'GPE'), ('June 2019 - July 2019', 'DATE'), ('Python', 'ORG'), ('Serial Communication', 'ORG'), ('IoT', 'ORG'), ('Iot Dongle', 'PERSON'), ('Python', 'ORG'), ('IoT', 'ORG'), ('IoT', 'ORG'), ('Cisco Packet Tracer', 'PERSON'), ('Perform a Man in the Middle attack', 'WORK_OF_ART'), ('Kali Linux', 'PERSON'), ('IoT', 'ORG'), ('Light Aug 2019', 'PERSON'), ('IoT', 'ORG'), ('Arduino ESP8266', 'PERSON'), ('Cayenne IoT Platform', 'ORG'), ('three', 'CARDINAL'), ('IP', 'GPE'), ('WANET', 'ORG'), ('two', 'CARDINAL'), ('WANET', 'ORG'), ('Asterisk', 'PERSON'), ('one', 'CARDINAL'), ('three', 'CARDINAL'), ('X-Lite', 'ORG'), ('Virtual Box Jan 2019', 'ORG'), ('Worked on Open vSwitch in Virtual Box', 'WORK_OF_ART'), ('three', 'CARDINAL'), ('one', 'CARDINAL'), ('PING', 'ORG'), ('OSPF', 'ORG'), ('BGP', 'ORG'), ('DNS', 'ORG'), ('VLAN', 'ORG'), ('STP', 'ORG'), ('IP', 'ORG'), ('HSRP', 'ORG'), ('ADS', 'ORG'), ('2017', 'DATE'), ('Indian Space Research Organization', 'ORG'), ('Bangalore', 'GPE'), ('ADS', 'ORG'), ('Return', 'ORG'), ('Isolation', 'ORG')]\n"
     ]
    }
   ],
   "source": [
    "doc = nlp(text)\n",
    "print([(X.text, X.label_) for X in doc.ents])"
   ]
  },
  {
   "cell_type": "code",
   "execution_count": 14,
   "metadata": {},
   "outputs": [
    {
     "name": "stdout",
     "output_type": "stream",
     "text": [
      "Pretty printing has been turned OFF\n"
     ]
    }
   ],
   "source": [
    "pprint([(X, X.ent_iob_, X.ent_type_) for X in doc])"
   ]
  },
  {
   "cell_type": "code",
   "execution_count": 15,
   "metadata": {},
   "outputs": [],
   "source": [
    "from bs4 import BeautifulSoup\n",
    "import requests\n",
    "import re"
   ]
  },
  {
   "cell_type": "code",
   "execution_count": 16,
   "metadata": {},
   "outputs": [
    {
     "name": "stdout",
     "output_type": "stream",
     "text": [
      "GPE  |  San Jose\n",
      "GPE  |  California\n",
      "CARDINAL  |  925\n",
      "CARDINAL  |  789\n",
      "GPE  |  San Jose State University\n",
      "GPE  |  California\n",
      "GPE  |  USA\n",
      "DATE  |  May 2020\n",
      "GPE  |  Internetworking\n",
      "GPE  |  Broadband\n",
      "ORG  |  Network Security\n",
      "ORG  |  IoT\n",
      "ORG  |  Voice\n",
      "ORG  |  IP\n",
      "Bachelor of Engineering\n",
      "ORG  |  Telecommunication Engineering\n",
      "ORG  |  Dayananda Sagar College of Engineering,\n",
      "ORG  |  Visvesvaraya\n",
      "Technological University\n",
      "GPE  |  India\n",
      "DATE  |  June 2017\n",
      "ORG  |  HTTP\n",
      "ORG  |  HTTPS\n",
      "ORG  |  TLS-SSL\n",
      "ORG  |  TCP/IP\n",
      "ORG  |  UDP\n",
      "ORG  |  ICMP\n",
      "ORG  |  OSPF\n",
      "ORG  |  BGP\n",
      "ORG  |  ARP\n",
      "ORG  |  VLAN\n",
      "ORG  |  STP\n",
      "ORG  |  IPS\n",
      "ORG  |  IDS\n",
      "ORG  |  NAT\n",
      "ORG  |  IS-IS\n",
      "CARDINAL  |  802.11\n",
      "ORG  |  MPLS\n",
      "ORG  |  WPA2\n",
      "ORG  |  WPA3\n",
      "PERSON  |  Packet\n",
      "PERSON  |  Linux\n",
      "PERSON  |  Kali Linux\n",
      "ORG  |  Cisco IOS\n",
      "Tools\n",
      "ORG  |  IDE\n",
      "ORG  |  Advanced Design System\n",
      "ORG  |  ADS\n",
      "ORG  |  Wireshark\n",
      "ORG  |  VMware Workstation\n",
      "ORG  |  VirtualBox\n",
      "ORG  |  GNS3\n",
      "PERSON  |  Cisco Packet Tracer\n",
      "ORG  |  Cisco Certified Network Associate\n",
      "CARDINAL  |  200-301\n",
      "ORG  |  AWS\n",
      "PERSON  |  Cloud Practitioner\n",
      "ORG  |  CLF-C01\n",
      "GPE  |  Cornelius\n",
      "GPE  |  India\n",
      "DATE  |  June 2019 - July 2019\n",
      "ORG  |  Python\n",
      "ORG  |  Serial Communication\n",
      "ORG  |  IoT\n",
      "PERSON  |  Iot Dongle\n",
      "ORG  |  Python\n",
      "ORG  |  IoT\n",
      "ORG  |  IoT\n",
      "PERSON  |  Cisco Packet Tracer\n",
      "WORK_OF_ART  |  Perform a Man in the Middle attack\n",
      "PERSON  |  Kali Linux\n",
      "ORG  |  IoT\n",
      "PERSON  |  Light Aug 2019\n",
      "ORG  |  IoT\n",
      "PERSON  |  Arduino ESP8266\n",
      "ORG  |  Cayenne IoT Platform\n",
      "CARDINAL  |  three\n",
      "GPE  |  IP\n",
      "ORG  |  WANET\n",
      "CARDINAL  |  two\n",
      "ORG  |  WANET\n",
      "PERSON  |  Asterisk\n",
      "CARDINAL  |  one\n",
      "CARDINAL  |  three\n",
      "ORG  |  X-Lite\n",
      "ORG  |  Virtual Box Jan 2019\n",
      "WORK_OF_ART  |  Worked on Open vSwitch in Virtual Box\n",
      "CARDINAL  |  three\n",
      "CARDINAL  |  one\n",
      "ORG  |  PING\n",
      "ORG  |  OSPF\n",
      "ORG  |  BGP\n",
      "ORG  |  DNS\n",
      "ORG  |  VLAN\n",
      "ORG  |  STP\n",
      "ORG  |  IP\n",
      "ORG  |  HSRP\n",
      "ORG  |  ADS\n",
      "DATE  |  2017\n",
      "ORG  |  Indian Space Research Organization\n",
      "GPE  |  Bangalore\n",
      "ORG  |  ADS\n",
      "ORG  |  Return\n",
      "ORG  |  Isolation\n"
     ]
    }
   ],
   "source": [
    "for entity in doc.ents:\n",
    "  print(entity.label_, ' | ', entity.text)\n"
   ]
  },
  {
   "cell_type": "code",
   "execution_count": null,
   "metadata": {},
   "outputs": [],
   "source": []
  },
  {
   "cell_type": "code",
   "execution_count": null,
   "metadata": {},
   "outputs": [],
   "source": [
    "nlp = spacy.blank('en')  # new, empty model. Let’s say it’s for the English language\n",
    "nlp.vocab.vectors.name = 'example_model_training'   # give a name to our list of vectors\n",
    "# add NER pipeline\n",
    "ner = nlp.create_pipe('ner')  # our pipeline would just do NER\n",
    "nlp.add_pipe(ner, last=True)  # we add the pipeline to the model"
   ]
  },
  {
   "cell_type": "code",
   "execution_count": null,
   "metadata": {},
   "outputs": [],
   "source": [
    "DATA = [\n",
    "  (u\"Search Analytics: Business Value & BigData NoSQL Backend, Otis Gospodnetic \", {'entities': [ (58,75,'PERSON') ] }),\n",
    "  (u\"Introduction to Elasticsearch by Radu \", {'entities': [ (16,29,'TECH'), (32, 36, 'PERSON') ] }),\n",
    "  # …\n",
    "]"
   ]
  },
  {
   "cell_type": "code",
   "execution_count": null,
   "metadata": {},
   "outputs": [],
   "source": [
    "nlp.entity.add_label('PERSON')\n",
    "nlp.entity.add_label('TECH')\n",
    "# ..."
   ]
  },
  {
   "cell_type": "code",
   "execution_count": null,
   "metadata": {},
   "outputs": [],
   "source": [
    "optimizer = nlp.begin_training()"
   ]
  },
  {
   "cell_type": "code",
   "execution_count": null,
   "metadata": {},
   "outputs": [],
   "source": [
    "nlp.update([text], [annotations], sgd=optimizer)"
   ]
  },
  {
   "cell_type": "code",
   "execution_count": null,
   "metadata": {},
   "outputs": [],
   "source": [
    "for i in range(20):\n",
    "    random.shuffle(DATA)\n",
    "    for text, annotations in DATA:\n",
    "        nlp.update([text], [annotations], sgd=optimizer)"
   ]
  },
  {
   "cell_type": "code",
   "execution_count": null,
   "metadata": {},
   "outputs": [],
   "source": [
    "doc = nlp(u\"#bbuzz 2016: Rafał Kuć - Running High Performance And Fault Tolerant Elasticsearch\")\n",
    "for entity in doc.ents:\n",
    "    print(entity.label_, ' | ', entity.text)"
   ]
  },
  {
   "cell_type": "code",
   "execution_count": null,
   "metadata": {},
   "outputs": [],
   "source": []
  }
 ],
 "metadata": {
  "kernelspec": {
   "display_name": "Python 3",
   "language": "python",
   "name": "python3"
  },
  "language_info": {
   "codemirror_mode": {
    "name": "ipython",
    "version": 3
   },
   "file_extension": ".py",
   "mimetype": "text/x-python",
   "name": "python",
   "nbconvert_exporter": "python",
   "pygments_lexer": "ipython3",
   "version": "3.7.4"
  },
  "toc": {
   "base_numbering": 1,
   "nav_menu": {},
   "number_sections": true,
   "sideBar": true,
   "skip_h1_title": false,
   "title_cell": "Table of Contents",
   "title_sidebar": "Contents",
   "toc_cell": false,
   "toc_position": {},
   "toc_section_display": true,
   "toc_window_display": false
  }
 },
 "nbformat": 4,
 "nbformat_minor": 2
}
