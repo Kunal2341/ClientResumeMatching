{
 "cells": [
  {
   "cell_type": "code",
   "execution_count": 1,
   "metadata": {},
   "outputs": [],
   "source": [
    "imageFile = \"/Users/kunal/Documents/VdartResumeProject/VisionAPi/Document_44_1.jpg\"\n",
    "documentFile = \"/Users/kunal/Documents/VdartResumeProject/VisionAPi/Document_44.pdf\""
   ]
  },
  {
   "cell_type": "code",
   "execution_count": 2,
   "metadata": {},
   "outputs": [],
   "source": [
    "def polygonContainsOtherPoly(bigPoly, smallPoly, draw):\n",
    "    #print(bigPoly)\n",
    "    #print(smallPoly)\n",
    "    p1=Polygon([smallPoly[0], smallPoly[1], smallPoly[2], smallPoly[3]])\n",
    "    p2=Polygon([bigPoly[0], bigPoly[1], bigPoly[2], bigPoly[3]])\n",
    "    p3=p2.intersection(p1)\n",
    "    if draw:\n",
    "        image = Image.new(\"RGB\", (bigPoly[2][0]+50, bigPoly[2][1]+50))\n",
    "        draw = ImageDraw.Draw(image)\n",
    "        points = bigPoly\n",
    "        draw.polygon((points), fill=100)\n",
    "        points2 = smallPoly\n",
    "        draw.polygon((points2), fill=200)\n",
    "        fig, ax = plt.subplots()\n",
    "        ax.imshow(image)\n",
    "        ax.set_xlabel(\"X - \" + str(bigPoly[2][0]+50))\n",
    "        ax.set_ylabel(\"Y - \" + str(bigPoly[2][1]+50))  \n",
    "        plt.show()\n",
    "    return (p3.area/p1.area)*100\n",
    "    #middlePt = (int((smallPoly[1][0]-smallPoly[0][0])/2)+smallPoly[0][0], \n",
    "                #int((smallPoly[2][1]-smallPoly[0][1])/2)+smallPoly[0][1])\n",
    "    #point = Point(middlePt)\n",
    "    #polygon = Polygon([bigPoly])\n",
    "    #return (polygon.contains(point))"
   ]
  },
  {
   "cell_type": "code",
   "execution_count": 3,
   "metadata": {},
   "outputs": [],
   "source": [
    "#From other file\n",
    "lstofArray = []"
   ]
  },
  {
   "cell_type": "code",
   "execution_count": null,
   "metadata": {},
   "outputs": [],
   "source": []
  }
 ],
 "metadata": {
  "kernelspec": {
   "display_name": "Python 3",
   "language": "python",
   "name": "python3"
  },
  "language_info": {
   "codemirror_mode": {
    "name": "ipython",
    "version": 3
   },
   "file_extension": ".py",
   "mimetype": "text/x-python",
   "name": "python",
   "nbconvert_exporter": "python",
   "pygments_lexer": "ipython3",
   "version": "3.7.4"
  },
  "toc": {
   "base_numbering": 1,
   "nav_menu": {},
   "number_sections": true,
   "sideBar": true,
   "skip_h1_title": false,
   "title_cell": "Table of Contents",
   "title_sidebar": "Contents",
   "toc_cell": false,
   "toc_position": {},
   "toc_section_display": true,
   "toc_window_display": false
  }
 },
 "nbformat": 4,
 "nbformat_minor": 2
}
