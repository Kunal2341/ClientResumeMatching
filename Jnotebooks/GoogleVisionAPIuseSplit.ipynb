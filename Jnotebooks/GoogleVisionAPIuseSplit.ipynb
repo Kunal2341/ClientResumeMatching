{
 "cells": [
  {
   "cell_type": "markdown",
   "metadata": {},
   "source": [
    "# IMPORT"
   ]
  },
  {
   "cell_type": "code",
   "execution_count": 1,
   "metadata": {},
   "outputs": [],
   "source": [
    "import os, shutil #Controlling Files and paths and folder control\n",
    "from shutil import copyfile\n",
    "from pdf2image import convert_from_path #Libary convert pdf file to img file\n",
    "from google.oauth2 import service_account #Control API Keys\n",
    "from google.cloud import vision # Vision API from Google\n",
    "import io\n",
    "import string, random\n",
    "import pandas as pd\n",
    "# Imports the Google Cloud client library\n",
    "from google.cloud import language_v1\n",
    "from google.cloud.language_v1 import enums"
   ]
  },
  {
   "cell_type": "code",
   "execution_count": 2,
   "metadata": {},
   "outputs": [],
   "source": [
    "#from __future__ import unicode_literals, print_function\n",
    "#from spacy.lang.en import English # updated"
   ]
  },
  {
   "cell_type": "markdown",
   "metadata": {},
   "source": [
    "# PDF TO TEXT"
   ]
  },
  {
   "cell_type": "code",
   "execution_count": 3,
   "metadata": {},
   "outputs": [],
   "source": [
    "#Paths that have all folders which use everything\n",
    "pdfIMGPopplerPath = '/Users/kunal/Documents/VdartResumeProject/Poppler/poppler-0.68.0_x86/poppler-0.68.0/bin/'\n",
    "imgTxtVisionAPIPath = \"/Users/kunal/Documents/VdartResumeProject/APIKEYSGOOGLE/resumeMatcher-pdf2img.json\"\n",
    "runningDocumentPath = '/Users/kunal/Documents/VdartResumeProject/runningDoc/'\n",
    "sourceFolderResumesPath = '/Users/kunal/Documents/VdartResumeProject/50_resumes/'\n",
    "excelFilesPath = '/Users/kunal/Documents/VdartResumeProject/ExcelFiles/'\n",
    "nlpAutoAPIPath = \"/Users/kunal/Documents/VdartResumeProject/APIKEYSGOOGLE/resumeMatcher-NLP_create_data.json\"\n",
    "jsonFolderPath = '/Users/kunal/Documents/VdartResumeProject/JSONLFILES/'"
   ]
  },
  {
   "cell_type": "code",
   "execution_count": 4,
   "metadata": {},
   "outputs": [],
   "source": [
    "def convert_pdf_2_image(uploaded_image_path, uploaded_image):\n",
    "    #Using the convert_from_path function\n",
    "    #Same name as pdf but converted to img\n",
    "    #Watch out for poppler -- necceasary to function\n",
    "    os.chdir(uploaded_image_path) # Change the working diretory to path that contains the PDF file\n",
    "    file_name = str(uploaded_image).replace('.pdf','') # file name for png still going to get changed later\n",
    "    pages = convert_from_path(uploaded_image, 200,poppler_path=pdfIMGPopplerPath) #function to change pdf to img\n",
    "    pageNumCount = 1 #numbering for all the different images if pdf is multiple pages\n",
    "    outputNames = []\n",
    "    for page in pages:\n",
    "        output_file = file_name+\"_\"+str(pageNumCount) + '.jpg'#uptaded name for image\n",
    "        page.save(output_file, 'JPEG')#save img\n",
    "        pageNumCount +=1\n",
    "        outputNames.append(output_file)\n",
    "    return outputNames #names of img"
   ]
  },
  {
   "cell_type": "code",
   "execution_count": 5,
   "metadata": {},
   "outputs": [],
   "source": [
    "def convert_img_2_text(imagePath):\n",
    "    #Using API from Google\n",
    "    #Returns a JSON file but text is extracted from it\n",
    "    keyDIR = imgTxtVisionAPIPath #JSON key file to call the api\n",
    "    credentials = service_account.Credentials.from_service_account_file(keyDIR) #using service account to go through google\n",
    "    client = vision.ImageAnnotatorClient(credentials=credentials) # client api\n",
    "    with io.open(imagePath, 'rb') as image_file: #opening and reading img\n",
    "        content = image_file.read() \n",
    "    image = vision.types.Image(content=content) # calling and running the client Visison API\n",
    "    response = client.text_detection(image=image) # JSON return with all values\n",
    "    texts = response.text_annotations # Go through Json and extract the text detected\n",
    "    totalString = ''\n",
    "    for text in texts:\n",
    "        totalString+=text.description\n",
    "    totalString = totalString.rsplit(' ', 1)[0] # throws away all the metadata with location -- could be used later\n",
    "    return totalString #TEXT detected"
   ]
  },
  {
   "cell_type": "code",
   "execution_count": 6,
   "metadata": {},
   "outputs": [],
   "source": [
    "def deleteIMG(path):\n",
    "    #Deletes all the images from a folder\n",
    "    for i in os.listdir(path):\n",
    "        if i.endswith(\".jpg\"):\n",
    "            os.remove(folder_pdf + i)\n",
    "def deleteEverythingInFolder(folder_pdf):\n",
    "    #deletes everything in the folder including folders and files\n",
    "    for file in os.listdir(folder_pdf):\n",
    "        try:\n",
    "            shutil.rmtree(folder_pdf+ file) #remove folder\n",
    "        except NotADirectoryError:\n",
    "            try:\n",
    "                os.remove(folder_pdf+ file) # if it is not a folder than it is a file so it removes it also\n",
    "            except:\n",
    "                pass\n",
    "def moveRenameAllFiles(sourceFolderResumes, folder_pdf):\n",
    "    #Moves all files from source and renames them starting from 100\n",
    "    #If start from 1 then the ordering will be off\n",
    "    for realFile in os.listdir(sourceFolderResumes):\n",
    "        copyfile(sourceFolderResumes + realFile, folder_pdf + realFile) #duplicates all the files from source\n",
    "    os.chdir(folder_pdf) # move them to the running folder\n",
    "    documentcounter = 100 # names \"Dociment_[num].pdf\" start from 100 cause that is how numbering is listed correctly\n",
    "    for i in os.listdir(folder_pdf):\n",
    "        fileNameCreator = \"Document_\" + str(documentcounter) + \".pdf\"\n",
    "        print(i + \"   changed to  \" + fileNameCreator)\n",
    "        os.rename(i, fileNameCreator)  # change name of file\n",
    "        documentcounter+=1"
   ]
  },
  {
   "cell_type": "code",
   "execution_count": 7,
   "metadata": {},
   "outputs": [],
   "source": [
    "folder_pdf = runningDocumentPath # set var\n",
    "sourceFolderResumes = sourceFolderResumesPath"
   ]
  },
  {
   "cell_type": "code",
   "execution_count": 8,
   "metadata": {
    "scrolled": true
   },
   "outputs": [
    {
     "name": "stdout",
     "output_type": "stream",
     "text": [
      "Document_402.pdf   changed to  Document_100.pdf\n",
      "Document_403.pdf   changed to  Document_101.pdf\n",
      "Document_405.pdf   changed to  Document_102.pdf\n",
      "Document_406.pdf   changed to  Document_103.pdf\n",
      "Document_407.pdf   changed to  Document_104.pdf\n",
      "Document_408.pdf   changed to  Document_105.pdf\n",
      "Document_409.pdf   changed to  Document_106.pdf\n",
      "Document_410.pdf   changed to  Document_107.pdf\n",
      "Document_411.pdf   changed to  Document_108.pdf\n",
      "Document_412.pdf   changed to  Document_109.pdf\n",
      "Document_413.pdf   changed to  Document_110.pdf\n",
      "Document_414.pdf   changed to  Document_111.pdf\n",
      "Document_415.pdf   changed to  Document_112.pdf\n",
      "Document_417.pdf   changed to  Document_113.pdf\n",
      "Document_418.pdf   changed to  Document_114.pdf\n",
      "Document_419.pdf   changed to  Document_115.pdf\n",
      "Document_420.pdf   changed to  Document_116.pdf\n",
      "Document_421.pdf   changed to  Document_117.pdf\n",
      "Document_422.pdf   changed to  Document_118.pdf\n",
      "Document_423.pdf   changed to  Document_119.pdf\n",
      "Document_424.pdf   changed to  Document_120.pdf\n",
      "Document_425.pdf   changed to  Document_121.pdf\n",
      "Document_426.pdf   changed to  Document_122.pdf\n",
      "Document_427.pdf   changed to  Document_123.pdf\n",
      "Document_428.pdf   changed to  Document_124.pdf\n",
      "Document_429.pdf   changed to  Document_125.pdf\n",
      "Document_430.pdf   changed to  Document_126.pdf\n",
      "Document_431.pdf   changed to  Document_127.pdf\n",
      "Document_432.pdf   changed to  Document_128.pdf\n",
      "Document_433.pdf   changed to  Document_129.pdf\n",
      "Document_434.pdf   changed to  Document_130.pdf\n",
      "Document_435.pdf   changed to  Document_131.pdf\n",
      "Document_436.pdf   changed to  Document_132.pdf\n",
      "Document_437.pdf   changed to  Document_133.pdf\n",
      "Document_438.pdf   changed to  Document_134.pdf\n",
      "Document_474.pdf   changed to  Document_135.pdf\n",
      "Document_475.pdf   changed to  Document_136.pdf\n",
      "Document_476.pdf   changed to  Document_137.pdf\n",
      "Document_477.pdf   changed to  Document_138.pdf\n",
      "Document_478.pdf   changed to  Document_139.pdf\n",
      "Document_479.pdf   changed to  Document_140.pdf\n",
      "Document_480.pdf   changed to  Document_141.pdf\n",
      "Document_481.pdf   changed to  Document_142.pdf\n",
      "Document_482.pdf   changed to  Document_143.pdf\n",
      "Document_483.pdf   changed to  Document_144.pdf\n",
      "Document_484.pdf   changed to  Document_145.pdf\n",
      "Document_485.pdf   changed to  Document_146.pdf\n",
      "Document_486.pdf   changed to  Document_147.pdf\n",
      "Document_487.pdf   changed to  Document_148.pdf\n",
      "Document_488.pdf   changed to  Document_149.pdf\n"
     ]
    }
   ],
   "source": [
    "deleteEverythingInFolder(folder_pdf)\n",
    "moveRenameAllFiles(sourceFolderResumes, folder_pdf)\n",
    "numberOfFiles = len([name for name in os.listdir(folder_pdf) if os.path.isfile(name)]) \n",
    "#PNGFilesExist = checkifPNGExists(folder_pdf)\n",
    "#deletes everything in the folder, copy and moves all files and renames them starting from 100"
   ]
  },
  {
   "cell_type": "code",
   "execution_count": 9,
   "metadata": {},
   "outputs": [
    {
     "name": "stdout",
     "output_type": "stream",
     "text": [
      "Which Document do you wanna run?125\n",
      "True\n",
      "You choose a specific number so your document is Document_125.pdf\n"
     ]
    }
   ],
   "source": [
    "#Asks the user which document they want to run and if they don't input anything, its a random document\n",
    "doubleCheckDocumentInputCount = 0\n",
    "while True:\n",
    "    documentRun = input(\"Which Document do you wanna run?\")\n",
    "    if documentRun == \"\" and doubleCheckDocumentInputCount >= 1:\n",
    "        documentRun = (random.choice(os.listdir(folder_pdf)))\n",
    "        print(\"You choose RANDOM so your document is \" + documentRun)\n",
    "        break\n",
    "    elif documentRun == \"\":\n",
    "        print(\"This is a double check if you want a random document?\")\n",
    "        doubleCheckDocumentInputCount+=1\n",
    "    elif documentRun == \"BREAK\":\n",
    "        print(\"Exiting\")\n",
    "        documentRun = \"INVALID\"\n",
    "        break\n",
    "    else:\n",
    "        documentRun = \"Document_\" + documentRun + \".pdf\"\n",
    "        print(os.path.isfile(folder_pdf + documentRun))\n",
    "        if os.path.isfile(folder_pdf + documentRun):\n",
    "            print(\"You choose a specific number so your document is \" + documentRun)\n",
    "            break\n",
    "        else:\n",
    "            print(\"Document was invalid. Input >>> BREAK <<< to stop\")\n",
    "            continue"
   ]
  },
  {
   "cell_type": "code",
   "execution_count": 10,
   "metadata": {},
   "outputs": [
    {
     "name": "stdout",
     "output_type": "stream",
     "text": [
      "/Users/kunal/Documents/VdartResumeProject/runningDoc/Fold_Document_125/\n",
      "Document_125.pdf\n",
      "Running Number: 2\n",
      "Document_125_1.jpg Document_125_2.jpg \n"
     ]
    }
   ],
   "source": [
    "#Makes a folder and create images of each page in PDF document\n",
    "textList = []\n",
    "numberPagesList = []\n",
    "for i in os.listdir(folder_pdf): \n",
    "    if i == documentRun:# only runs the file that was choosen by user\n",
    "        os.chdir(folder_pdf) \n",
    "        folderNameCreate = folder_pdf+\"Fold_\"+i[:-4]+\"/\" \n",
    "        print(folderNameCreate)\n",
    "        os.mkdir(folderNameCreate) #Create folder\n",
    "        shutil.move(i,folderNameCreate) #MovePDF into folder\n",
    "        os.chdir(folderNameCreate)\n",
    "        for j in os.listdir(folderNameCreate):\n",
    "            print(j)\n",
    "            if j.endswith(\".pdf\"): \n",
    "                imgName = convert_pdf_2_image(folderNameCreate, j) #call pdf2img function\n",
    "                print(\"Running Number: \" + str(len(imgName))) \n",
    "                printString = \"\"\n",
    "                for docName in imgName: # for making the printing better\n",
    "                    printString += docName + \" \" \n",
    "                print(printString) \n",
    "            for q in range(len(imgName)):\n",
    "                text = convert_img_2_text(folderNameCreate + i[:-4] + \"_\" + str(q+1) + \".jpg\")\n",
    "                textList.append(text)     #Convert to text and append all the text to list\n",
    "                numberPagesList.append(len(imgName))   \n",
    "    else:\n",
    "        os.chdir(folder_pdf) #delete any other file that exists\n",
    "        os.remove(i)"
   ]
  },
  {
   "cell_type": "markdown",
   "metadata": {},
   "source": [
    "## Convert to Excel"
   ]
  },
  {
   "cell_type": "code",
   "execution_count": 11,
   "metadata": {},
   "outputs": [],
   "source": [
    "df = pd.DataFrame()  # creates a tabel with all the text and pages\n",
    "df['Text Extracted'] = textList\n",
    "df['DocumentNum'] = numberPagesList"
   ]
  },
  {
   "cell_type": "code",
   "execution_count": 12,
   "metadata": {},
   "outputs": [],
   "source": [
    "os.chdir(excelFilesPath)"
   ]
  },
  {
   "cell_type": "code",
   "execution_count": 13,
   "metadata": {},
   "outputs": [],
   "source": [
    "EXCELFILENAME = documentRun[:-4] + \"_text.xlsx\"\n",
    "df.to_excel(EXCELFILENAME, index = False) # save the text to the excel file folder"
   ]
  },
  {
   "cell_type": "markdown",
   "metadata": {},
   "source": [
    "## Read Excel"
   ]
  },
  {
   "cell_type": "code",
   "execution_count": 14,
   "metadata": {},
   "outputs": [],
   "source": [
    "EXCELFILENAME = documentRun[:-4] + \"_text.xlsx\" # read the same file"
   ]
  },
  {
   "cell_type": "code",
   "execution_count": 15,
   "metadata": {},
   "outputs": [],
   "source": [
    "os.chdir(excelFilesPath) # change working path to excel files folder"
   ]
  },
  {
   "cell_type": "code",
   "execution_count": 16,
   "metadata": {},
   "outputs": [],
   "source": [
    "text = pd.ExcelFile(EXCELFILENAME) \n",
    "dftext = text.parse(\"Sheet1\") # read the file to see what was saved"
   ]
  },
  {
   "cell_type": "code",
   "execution_count": 17,
   "metadata": {
    "scrolled": true
   },
   "outputs": [
    {
     "data": {
      "text/html": [
       "<div>\n",
       "<style scoped>\n",
       "    .dataframe tbody tr th:only-of-type {\n",
       "        vertical-align: middle;\n",
       "    }\n",
       "\n",
       "    .dataframe tbody tr th {\n",
       "        vertical-align: top;\n",
       "    }\n",
       "\n",
       "    .dataframe thead th {\n",
       "        text-align: right;\n",
       "    }\n",
       "</style>\n",
       "<table border=\"1\" class=\"dataframe\">\n",
       "  <thead>\n",
       "    <tr style=\"text-align: right;\">\n",
       "      <th></th>\n",
       "      <th>Text Extracted</th>\n",
       "      <th>DocumentNum</th>\n",
       "    </tr>\n",
       "  </thead>\n",
       "  <tbody>\n",
       "    <tr>\n",
       "      <td>0</td>\n",
       "      <td>Benjamin Meena\\nDenver, CO 80202\\nWeb Develope...</td>\n",
       "      <td>2</td>\n",
       "    </tr>\n",
       "    <tr>\n",
       "      <td>1</td>\n",
       "      <td>Managed a new and used vehicle inventory of gr...</td>\n",
       "      <td>2</td>\n",
       "    </tr>\n",
       "  </tbody>\n",
       "</table>\n",
       "</div>"
      ],
      "text/plain": [
       "                                      Text Extracted  DocumentNum\n",
       "0  Benjamin Meena\\nDenver, CO 80202\\nWeb Develope...            2\n",
       "1  Managed a new and used vehicle inventory of gr...            2"
      ]
     },
     "execution_count": 17,
     "metadata": {},
     "output_type": "execute_result"
    }
   ],
   "source": [
    "dftext"
   ]
  },
  {
   "cell_type": "code",
   "execution_count": 18,
   "metadata": {},
   "outputs": [],
   "source": [
    "text_list = dftext[\"Text Extracted\"].tolist() # converts both columns to lists \n",
    "pagesList = dftext[\"DocumentNum\"].tolist()"
   ]
  },
  {
   "cell_type": "markdown",
   "metadata": {},
   "source": [
    "## Check for Recommendation letters"
   ]
  },
  {
   "cell_type": "code",
   "execution_count": 19,
   "metadata": {},
   "outputs": [],
   "source": [
    "count=0\n",
    "numb = 0\n",
    "recNumList=[]\n",
    "for i in text_list: # for all the text files scan if the word recommendation is in there\n",
    "    if \"Recommendation\" in str(i): \n",
    "        recNumList.append(numb)\n",
    "    numb+=1"
   ]
  },
  {
   "cell_type": "code",
   "execution_count": 20,
   "metadata": {},
   "outputs": [
    {
     "data": {
      "text/plain": [
       "[]"
      ]
     },
     "execution_count": 20,
     "metadata": {},
     "output_type": "execute_result"
    }
   ],
   "source": [
    "recNumList # print all the page numbers with the word in it"
   ]
  },
  {
   "cell_type": "markdown",
   "metadata": {},
   "source": [
    "# Converts the text files to an array but still split into pages"
   ]
  },
  {
   "cell_type": "code",
   "execution_count": 21,
   "metadata": {
    "scrolled": true
   },
   "outputs": [],
   "source": [
    "runningTextFINAL = '\\n'.join(textList) # the text is combined"
   ]
  },
  {
   "cell_type": "markdown",
   "metadata": {},
   "source": [
    "# Create Sentences"
   ]
  },
  {
   "cell_type": "code",
   "execution_count": 22,
   "metadata": {
    "scrolled": true
   },
   "outputs": [
    {
     "name": "stdout",
     "output_type": "stream",
     "text": [
      "Benjamin Meena\n",
      "Denver, CO 80202\n",
      "Web Developer\n",
      "Github: bmeena57.github.io\n",
      "LinkedIn: linkedin.com/in/benjaminmeena\n",
      "(757) 234-5481\n",
      "ben.meena16@gmail.co\n",
      "m\n",
      "EXPERIENCE\n",
      "Technical Highlights\n",
      "HTML\n",
      "- Certificate of Web\n",
      "The Tech Academy, Denver\n",
      "Development\n",
      "CSS\n",
      "JavaScript\n",
      "AJAX\n",
      "jquery\n",
      "November 2019 - March 2020\n",
      "Software Development\n",
      "REACT\n",
      "Bootstrap\n",
      "Comprehensive overview of software development with courses in HTML5,\n",
      "CSS3, JavaScript/jQuery, SQL/MS SQL Server, MVC, Source Control (Git),\n",
      "and Agile product development methods (Scrum).\n",
      "Non-Technical Highlights\n",
      "Participated in a 2 week long live project with google meetings; updating\n",
      "web pages for their client.\n",
      "Self-driven\n",
      "Strong Leadership\n",
      "5 Guys Enterprise, Greenwood Village-Manager\n",
      "November 2019- PRESENT\n",
      "Management\n",
      "Time efficient\n",
      "Ensure that the Occupational Safety and Health Act, local health and safety codes,\n",
      "and company safety and security policies are followed.\n",
      "Coachable\n",
      "Assist with recruiting, interviewing, and hiring of Crew Members\n",
      "Sociable\n",
      "Works as a team player to support other employees in completing their\n",
      "Team oriented\n",
      "tasks.\n",
      "Organized\n",
      "Assist General Manager in day to day operations with tasks including\n",
      "scheduling, ordering, and team development.\n",
      "Communicative\n",
      "Uber/Lyft- Self Employed\n",
      "June 2018-November 2019\n",
      "Schomp Automotive, Highlands Ranch\n",
      "- Sales\n",
      "May 2017 - June 2018\n",
      "Effectively managed a high volume of work.\n",
      "Took clients through a thorough analysis of needs and made suitable\n",
      "product\n",
      "Managed a new and used vehicle inventory of greater than $12 million.\n",
      "EDUCATION\n",
      "University Of Missouri: Saint Louis, Saint Louis\n",
      "Bachelor of Communications\n",
      "August 2012 - December\n"
     ]
    }
   ],
   "source": [
    "print(runningTextFINAL) "
   ]
  }
 ],
 "metadata": {
  "kernelspec": {
   "display_name": "Python 3",
   "language": "python",
   "name": "python3"
  },
  "language_info": {
   "codemirror_mode": {
    "name": "ipython",
    "version": 3
   },
   "file_extension": ".py",
   "mimetype": "text/x-python",
   "name": "python",
   "nbconvert_exporter": "python",
   "pygments_lexer": "ipython3",
   "version": "3.8.6"
  },
  "toc": {
   "base_numbering": 1,
   "nav_menu": {},
   "number_sections": true,
   "sideBar": true,
   "skip_h1_title": false,
   "title_cell": "Table of Contents",
   "title_sidebar": "Contents",
   "toc_cell": false,
   "toc_position": {
    "height": "calc(100% - 180px)",
    "left": "10px",
    "top": "150px",
    "width": "165px"
   },
   "toc_section_display": true,
   "toc_window_display": true
  }
 },
 "nbformat": 4,
 "nbformat_minor": 2
}
