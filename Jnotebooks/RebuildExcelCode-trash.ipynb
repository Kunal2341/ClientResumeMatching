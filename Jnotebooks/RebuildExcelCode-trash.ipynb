{
 "cells": [
  {
   "cell_type": "markdown",
   "metadata": {},
   "source": [
    "# IMPORT"
   ]
  },
  {
   "cell_type": "code",
   "execution_count": 1,
   "metadata": {},
   "outputs": [],
   "source": [
    "import os, shutil #Controlling Files and paths and folder control\n",
    "from shutil import copyfile\n",
    "from pdf2image import convert_from_path #Libary convert pdf file to img file\n",
    "from google.oauth2 import service_account #Control API Keys\n",
    "from google.cloud import vision # Vision API from Google\n",
    "import io\n",
    "import string, random\n",
    "import pandas as pd\n",
    "# Imports the Google Cloud client library\n",
    "from google.cloud import language_v1\n",
    "from google.cloud.language_v1 import enums"
   ]
  },
  {
   "cell_type": "code",
   "execution_count": 2,
   "metadata": {},
   "outputs": [],
   "source": [
    "#from __future__ import unicode_literals, print_function\n",
    "#from spacy.lang.en import English # updated"
   ]
  },
  {
   "cell_type": "markdown",
   "metadata": {},
   "source": [
    "# Paths"
   ]
  },
  {
   "cell_type": "code",
   "execution_count": 3,
   "metadata": {},
   "outputs": [],
   "source": [
    "#Paths that have all folders which use everything\n",
    "pdfIMGPopplerPath = '/Users/kunal/Documents/VdartResumeProject/Poppler/poppler-0.68.0_x86/poppler-0.68.0/bin/'\n",
    "imgTxtVisionAPIPath = \"/Users/kunal/Documents/VdartResumeProject/APIKEYSGOOGLE/resumeMatcher-pdf2img.json\"\n",
    "runningDocumentPath = '/Users/kunal/Documents/VdartResumeProject/runningDoc/'\n",
    "sourceFolderResumesPath = '/Users/kunal/Documents/VdartResumeProject/50_resumes/'\n",
    "excelFilesPath = '/Users/kunal/Documents/VdartResumeProject/ExcelFiles/'\n",
    "nlpAutoAPIPath = \"/Users/kunal/Documents/VdartResumeProject/APIKEYSGOOGLE/resumeMatcher-NLP_create_data.json\"\n",
    "jsonFolderPath = '/Users/kunal/Documents/VdartResumeProject/JSONLFILES/'"
   ]
  },
  {
   "cell_type": "markdown",
   "metadata": {},
   "source": [
    "## Extract Excel and Turn into a list"
   ]
  },
  {
   "cell_type": "code",
   "execution_count": 4,
   "metadata": {},
   "outputs": [],
   "source": [
    "os.chdir(excelFilesPath)"
   ]
  },
  {
   "cell_type": "code",
   "execution_count": 5,
   "metadata": {},
   "outputs": [
    {
     "ename": "NameError",
     "evalue": "name 'EXCELFILENAMESent' is not defined",
     "output_type": "error",
     "traceback": [
      "\u001b[1;31m---------------------------------------------------------------------------\u001b[0m",
      "\u001b[1;31mNameError\u001b[0m                                 Traceback (most recent call last)",
      "\u001b[1;32m<ipython-input-5-42dba69a6090>\u001b[0m in \u001b[0;36m<module>\u001b[1;34m\u001b[0m\n\u001b[1;32m----> 1\u001b[1;33m \u001b[0mtext\u001b[0m \u001b[1;33m=\u001b[0m \u001b[0mpd\u001b[0m\u001b[1;33m.\u001b[0m\u001b[0mExcelFile\u001b[0m\u001b[1;33m(\u001b[0m\u001b[0mEXCELFILENAMESent\u001b[0m\u001b[1;33m)\u001b[0m\u001b[1;33m\u001b[0m\u001b[1;33m\u001b[0m\u001b[0m\n\u001b[0m\u001b[0;32m      2\u001b[0m \u001b[0mtotalTextRunning\u001b[0m \u001b[1;33m=\u001b[0m \u001b[0mrunningTextFINAL\u001b[0m\u001b[1;33m\u001b[0m\u001b[1;33m\u001b[0m\u001b[0m\n\u001b[0;32m      3\u001b[0m \u001b[0mattributes\u001b[0m \u001b[1;33m=\u001b[0m \u001b[0mtext\u001b[0m\u001b[1;33m.\u001b[0m\u001b[0mparse\u001b[0m\u001b[1;33m(\u001b[0m\u001b[1;34m\"Sheet1\"\u001b[0m\u001b[1;33m)\u001b[0m\u001b[1;33m\u001b[0m\u001b[1;33m\u001b[0m\u001b[0m\n\u001b[0;32m      4\u001b[0m \u001b[1;31m# read excel\u001b[0m\u001b[1;33m\u001b[0m\u001b[1;33m\u001b[0m\u001b[1;33m\u001b[0m\u001b[0m\n",
      "\u001b[1;31mNameError\u001b[0m: name 'EXCELFILENAMESent' is not defined"
     ]
    }
   ],
   "source": [
    "text = pd.ExcelFile(EXCELFILENAMESent)\n",
    "totalTextRunning = runningTextFINAL\n",
    "attributes = text.parse(\"Sheet1\") \n",
    "# read excel"
   ]
  },
  {
   "cell_type": "code",
   "execution_count": null,
   "metadata": {},
   "outputs": [],
   "source": [
    "attributes\n",
    "# this is a table of all of the entities. \n",
    "# IMPORTANT -- the name of the first row with the text must be named \"Text\"\n",
    "# could be every how long columns"
   ]
  },
  {
   "cell_type": "code",
   "execution_count": 46,
   "metadata": {},
   "outputs": [],
   "source": [
    "RowList = attributes.values.tolist()\n",
    "attributeList = [[i for i in row if isinstance(i,str)] for row in RowList]\n",
    "#Converts to a 2d array "
   ]
  },
  {
   "cell_type": "markdown",
   "metadata": {},
   "source": [
    "## Create Final List"
   ]
  },
  {
   "cell_type": "code",
   "execution_count": 47,
   "metadata": {},
   "outputs": [],
   "source": [
    "def sentence_2_word(sentence):\n",
    "    # this functuion takes a sentence and splits it into each word and returns a list of all the words\n",
    "    word = \"\"\n",
    "    listofWords = []\n",
    "    for i in sentence:\n",
    "        if not (i == \" \" or i == \"\\n\"):\n",
    "            word += i \n",
    "        else:\n",
    "            listofWords.append(word)\n",
    "            word = \"\"\n",
    "    if len(listofWords) == 0:\n",
    "        listofWords.append(sentence)\n",
    "    return listofWords"
   ]
  },
  {
   "cell_type": "code",
   "execution_count": 48,
   "metadata": {},
   "outputs": [],
   "source": [
    "def find_all_indexes(input_str, search_str):\n",
    "    # find all the positions of where a text is in a string\n",
    "    # not used so dont worry\n",
    "    l1 = []\n",
    "    length = len(input_str)\n",
    "    index = 0\n",
    "    while index < length:\n",
    "        i = input_str.find(search_str, index)\n",
    "        if i == -1:\n",
    "            return l1\n",
    "        l1.append(i)\n",
    "        index = i + 1\n",
    "    return l1[0]"
   ]
  },
  {
   "cell_type": "code",
   "execution_count": 49,
   "metadata": {},
   "outputs": [],
   "source": [
    "def checkNotWorkingValues(textFindPosition, totalTextRunning):\n",
    "    # if the find function cant find the text in the total text then this function splits the search text into each word \n",
    "    # find its value out of the entire text and if they are close enough then then it returns the position of the starting \n",
    "    # word of the search text but if it can't get a definitie answer then it returns -1 \n",
    "    words = textFindPosition.split()\n",
    "    wordPositions = []\n",
    "    for singleWord in words:\n",
    "        wordPositions.append(totalTextRunning.find(singleWord))\n",
    "    positionsCount = 0\n",
    "    numCorrect = 0\n",
    "    for num in range(len(wordPositions)-1):\n",
    "        if wordPositions[num]+len(words[num])+1 == wordPositions[num+1]:\n",
    "            numCorrect+=1\n",
    "        positionsCount+=1\n",
    "    if numCorrect == len(words)-1:\n",
    "        return wordPositions[0]\n",
    "    else:\n",
    "        return -1"
   ]
  },
  {
   "cell_type": "code",
   "execution_count": null,
   "metadata": {},
   "outputs": [],
   "source": [
    "def checkNotWorkingValues(textFindPosition, totalTextRunning):\n",
    "    words = textFindPosition.split()\n",
    "    if len(words) >= 7:\n",
    "        wordListNew = []\n",
    "        for number in range(1, len(words), 2):\n",
    "            wordListNew.append(words[number-1] + \" \" + words[number])\n",
    "        if not len(words) % 2 == 0: \n",
    "            wordListNew.append(words[-1])\n",
    "        #print(wordListNew)\n",
    "    words = wordListNew\n",
    "    wordPositions = []\n",
    "    numberstarting = 0  \n",
    "    for singleWord in words:\n",
    "        #print(totalTextRunning[numberstarting:].find(singleWord))\n",
    "        wordPositions.append(totalTextRunning[numberstarting:].find(singleWord)+numberstarting)\n",
    "        if not totalTextRunning[numberstarting:].find(singleWord) == -1:\n",
    "            numberstarting = totalTextRunning[numberstarting:].find(singleWord) +numberstarting\n",
    "        #print(numberstarting)    \n",
    "    #print(wordPositions)\n",
    "    positionsCount = 0\n",
    "    numCorrect = 0\n",
    "    for num in range(len(wordPositions)-1):\n",
    "        if abs(wordPositions[num]+len(words[num])+1 - wordPositions[num+1]) < 2:\n",
    "            numCorrect+=1\n",
    "        #else:\n",
    "            #print(words[num])\n",
    "            #print(wordPositions[num])\n",
    "            #print(len(words[num])+1)\n",
    "            #print(wordPositions[num]+len(words[num])+1)\n",
    "            #print(wordPositions[num+1])\n",
    "            #print(\"\")\n",
    "        positionsCount+=1\n",
    "    #print(positionsCount)\n",
    "    #print(numCorrect)\n",
    "    if numCorrect/positionsCount > 0.6:\n",
    "        return wordPositions[0]\n",
    "    else:\n",
    "        return -1"
   ]
  },
  {
   "cell_type": "code",
   "execution_count": 50,
   "metadata": {},
   "outputs": [],
   "source": [
    "numbAttributeReal = 0\n",
    "for line in attributeList:\n",
    "    #value_when_true if condition else value_when_false\n",
    "    numbAttributeReal += int((len(line)-1)/2) if (len(line)-1)/2 != 0.5 else 0\n",
    "# calculates the number of attributes in the table/matrix -- simple maths"
   ]
  },
  {
   "cell_type": "code",
   "execution_count": 51,
   "metadata": {},
   "outputs": [
    {
     "name": "stdout",
     "output_type": "stream",
     "text": [
      "Number of attributes detected is: 36\n"
     ]
    }
   ],
   "source": [
    "print(\"Number of attributes detected is: \" + str(numbAttributeReal))\n",
    "# simple print"
   ]
  },
  {
   "cell_type": "code",
   "execution_count": 52,
   "metadata": {},
   "outputs": [],
   "source": [
    "# goes through each row(sentence) and extract position of each attribute\n",
    "attributesNumberList = []\n",
    "for j in attributeList:\n",
    "    runningAttributeNum = []\n",
    "    if len(j) == 2:\n",
    "        continue # would be like ----- \"[sentence] - none\" --- no attribute in it\n",
    "    if j[2] == \"All\": # if the value is at all then there is only 1 attribute and its the entire text \n",
    "        # searchs for the entire text for the entire word\n",
    "        startChar = totalTextRunning.find(j[0].strip())\n",
    "        if startChar == -1:\n",
    "            #checks for the not working -- check function\n",
    "            startChar = checkNotWorkingValues(j[0].strip(), totalTextRunning)\n",
    "        if startChar == -1:\n",
    "            # lower everything and see if it can find it then\n",
    "            startChar = totalTextRunning.lower().find(j[0].lower().strip())\n",
    "        endChar = startChar + len(j[0].strip())\n",
    "        runningAttributeNum.extend([j[1].strip().upper() , startChar, endChar])\n",
    "        attributesNumberList.append(runningAttributeNum)\n",
    "    else:\n",
    "        #print(\"RUNNING \" + str(int((len(j)-1)/2)))\n",
    "        # im not going to go in detail explaining this but copy this function into a sepreate file and try it out\n",
    "        # similar to the \"all thing\" but it works for any number of attributes \n",
    "        for w in range(0, int((len(j)-1)), 2):\n",
    "            runningAttributeNum = []\n",
    "            if not totalTextRunning.find(j[2+w]) == -1:\n",
    "                startChar = totalTextRunning.find(j[2+w].strip())\n",
    "                if startChar == -1:\n",
    "                    startChar = checkNotWorkingValues(j[2+w].strip(), totalTextRunning)\n",
    "                if startChar == -1:\n",
    "                    startChar = totalTextRunning.lower().find(j[2+w].lower().strip())\n",
    "                endChar = startChar + len(j[2+w])\n",
    "                runningAttributeNum.extend([j[1+w].upper(), startChar, endChar])\n",
    "            else:\n",
    "                words = sentence_2_word(j[2+w]) # for the double check\n",
    "                detected = 0\n",
    "                for g in words:\n",
    "                    if not j[2+w].find(g) == -1:\n",
    "                        #charTemp = j[2+w].find(g)\n",
    "                        detected+=1\n",
    "                if detected/len(words) > 0.95: # split words and 0.95 is threshold\n",
    "                    startChar = totalTextRunning.find(words[0])\n",
    "                    endChar = startChar + len(words[0])\n",
    "                    runningAttributeNum.extend([words[0].upper(), startChar, endChar])\n",
    "                else:\n",
    "                    charTemp = -1 # couldn't finf anything\n",
    "                    print(\"NOT DETECTED\")\n",
    "                    endChar , startChar = -1\n",
    "                    runningAttributeNum.extend([\"NOTDETECTED\", startChar, endChar])\n",
    "            attributesNumberList.append(runningAttributeNum)"
   ]
  },
  {
   "cell_type": "code",
   "execution_count": 53,
   "metadata": {},
   "outputs": [
    {
     "data": {
      "text/plain": [
       "36"
      ]
     },
     "execution_count": 53,
     "metadata": {},
     "output_type": "execute_result"
    }
   ],
   "source": [
    "len(attributesNumberList)"
   ]
  },
  {
   "cell_type": "code",
   "execution_count": 54,
   "metadata": {},
   "outputs": [
    {
     "data": {
      "text/plain": [
       "[['NAME', 0, 12],\n",
       " ['ADDRESS', 13, 29],\n",
       " ['EMAIL', 30, 53],\n",
       " ['PHONE', 54, 66],\n",
       " ['WORKEXPERIENCE', 83, 117],\n",
       " ['COMPANY', 118, 141],\n",
       " ['DATE', 142, 169],\n",
       " ['WORKEXPERIENCE', -1, 117],\n",
       " ['WORKEXPERIENCE', 289, 352],\n",
       " ['WORKEXPERIENCE', -1, 146],\n",
       " ['WORKEXPERIENCE', 501, 560],\n",
       " ['WORKEXPERIENCE', 561, 588],\n",
       " ['COMPANY', 589, 627],\n",
       " ['DATE', 628, 653],\n",
       " ['WORKEXPERIENCE', -1, 171],\n",
       " ['WORKEXPERIENCE', -1, 170],\n",
       " ['WORKEXPERIENCE', 999, 1014],\n",
       " ['ADDRESS', 1015, 1027],\n",
       " ['DATE', 1028, 1052],\n",
       " ['WORKEXPERIENCE', -1, 103],\n",
       " ['WORKEXPERIENCE', -1, 145],\n",
       " ['WORKEXPERIENCE', 1305, 1383],\n",
       " ['WORKEXPERIENCE', 1384, 1442],\n",
       " ['EDUCATION', 1453, 1472],\n",
       " ['EDUCATION', 589, 627],\n",
       " ['DATE', 645, 653],\n",
       " ['EDUCATION', 1521, 1528],\n",
       " ['EDUCATION', 1529, 1567],\n",
       " ['DATE', 1028, 1032],\n",
       " ['SKILL', 1580, 1590],\n",
       " ['SKILL', 1591, 1613],\n",
       " ['SKILL', 1614, 1626],\n",
       " ['SKILL', 1580, 1590],\n",
       " ['SKILL', 1638, 1652],\n",
       " ['SKILL', 1653, 1664],\n",
       " ['SKILL', 1614, 1626]]"
      ]
     },
     "execution_count": 54,
     "metadata": {},
     "output_type": "execute_result"
    }
   ],
   "source": [
    "attributesNumberList"
   ]
  },
  {
   "cell_type": "code",
   "execution_count": null,
   "metadata": {},
   "outputs": [],
   "source": [
    "len(attributesNumberList)"
   ]
  },
  {
   "cell_type": "code",
   "execution_count": 55,
   "metadata": {},
   "outputs": [
    {
     "name": "stdout",
     "output_type": "stream",
     "text": [
      "['WORKEXPERIENCE', -1, 117]\n",
      "['WORKEXPERIENCE', -1, 146]\n",
      "['WORKEXPERIENCE', -1, 171]\n",
      "['WORKEXPERIENCE', -1, 103]\n"
     ]
    }
   ],
   "source": [
    "for testing in attributesNumberList:\n",
    "    # if it can't find it removes it \n",
    "    if testing[1] == -1:\n",
    "        print(testing)\n",
    "        attributesNumberList.remove(testing)"
   ]
  },
  {
   "cell_type": "code",
   "execution_count": 125,
   "metadata": {},
   "outputs": [
    {
     "name": "stdout",
     "output_type": "stream",
     "text": [
      "[170, 180, 182, 190, 193, 194, 194, 204, 213, 214, 225, 234, 243, 249, 256, 264, 269, 271, 277, 280, 279]\n",
      "True\n"
     ]
    }
   ],
   "source": [
    "textFindPosition = textg\n",
    "words = textFindPosition.split()\n",
    "wordPositions = []\n",
    "numberstarting = 0  \n",
    "for singleWord in words:\n",
    "    #print(totalTextRunning[numberstarting:].find(singleWord))\n",
    "    wordPositions.append(totalTextRunning[numberstarting:].find(singleWord)+numberstarting)\n",
    "    if not totalTextRunning[numberstarting:].find(singleWord) == -1:\n",
    "        numberstarting = totalTextRunning[numberstarting:].find(singleWord) +numberstarting\n",
    "    #print(numberstarting)    \n",
    "#print(wordPositions)\n",
    "positionsCount = 0\n",
    "numCorrect = 0\n",
    "for num in range(len(wordPositions)-1):\n",
    "    if abs(wordPositions[num]+len(words[num])+1 - wordPositions[num+1]) < 2:\n",
    "        numCorrect+=1\n",
    "    #else:\n",
    "        #print(words[num])\n",
    "        #print(wordPositions[num])\n",
    "        #print(len(words[num])+1)\n",
    "        #print(wordPositions[num]+len(words[num])+1)\n",
    "        #print(wordPositions[num+1])\n",
    "        #print(\"\")\n",
    "    positionsCount+=1\n",
    "#print(positionsCount)\n",
    "#print(numCorrect)\n",
    "if numCorrect/positionsCount > 0.6:\n",
    "    print(True)"
   ]
  },
  {
   "cell_type": "code",
   "execution_count": null,
   "metadata": {},
   "outputs": [],
   "source": []
  },
  {
   "cell_type": "code",
   "execution_count": 126,
   "metadata": {},
   "outputs": [
    {
     "name": "stdout",
     "output_type": "stream",
     "text": [
      "['Performed', 'a', 'variety', 'of', 'tasks', 'as', 'a', 'material', 'handler', 'and', 'forklift', 'operator', 'while', 'always', 'working', 'with', 'a', 'sense', 'of', 'urgency', 'word.']\n",
      "['Performed a', 'variety of', 'tasks as', 'a material', 'handler and', 'forklift operator', 'while always', 'working with', 'a sense', 'of urgency', 'word.']\n"
     ]
    }
   ],
   "source": [
    "textFindPosition = textg\n",
    "words = textFindPosition.split()\n",
    "print(words)\n",
    "if len(words) >= 7:\n",
    "    wordListNew = []\n",
    "    for number in range(1, len(words), 2):\n",
    "        wordListNew.append(words[number-1] + \" \" + words[number])\n",
    "    if not len(words) % 2 == 0: \n",
    "        wordListNew.append(words[-1])\n",
    "    \n",
    "    print(wordListNew)"
   ]
  },
  {
   "cell_type": "code",
   "execution_count": 127,
   "metadata": {},
   "outputs": [],
   "source": [
    "words = wordListNew"
   ]
  },
  {
   "cell_type": "code",
   "execution_count": 128,
   "metadata": {},
   "outputs": [
    {
     "name": "stdout",
     "output_type": "stream",
     "text": [
      "True\n"
     ]
    }
   ],
   "source": [
    "textFindPosition = textg\n",
    "words = textFindPosition.split()\n",
    "print(words)\n",
    "if len(words) >= 7:\n",
    "    wordListNew = []\n",
    "    for number in range(1, len(words), 2):\n",
    "        wordListNew.append(words[number-1] + \" \" + words[number])\n",
    "    if not len(words) % 2 == 0: \n",
    "        wordListNew.append(words[-1])\n",
    "    #print(wordListNew)\n",
    "words = wordListNew\n",
    "wordPositions = []\n",
    "numberstarting = 0  \n",
    "for singleWord in words:\n",
    "    #print(totalTextRunning[numberstarting:].find(singleWord))\n",
    "    wordPositions.append(totalTextRunning[numberstarting:].find(singleWord)+numberstarting)\n",
    "    if not totalTextRunning[numberstarting:].find(singleWord) == -1:\n",
    "        numberstarting = totalTextRunning[numberstarting:].find(singleWord) +numberstarting\n",
    "    #print(numberstarting)    \n",
    "#print(wordPositions)\n",
    "positionsCount = 0\n",
    "numCorrect = 0\n",
    "for num in range(len(wordPositions)-1):\n",
    "    if abs(wordPositions[num]+len(words[num])+1 - wordPositions[num+1]) < 2:\n",
    "        numCorrect+=1\n",
    "    #else:\n",
    "        #print(words[num])\n",
    "        #print(wordPositions[num])\n",
    "        #print(len(words[num])+1)\n",
    "        #print(wordPositions[num]+len(words[num])+1)\n",
    "        #print(wordPositions[num+1])\n",
    "        #print(\"\")\n",
    "    positionsCount+=1\n",
    "#print(positionsCount)\n",
    "#print(numCorrect)\n",
    "if numCorrect/positionsCount > 0.6:\n",
    "    print(True)"
   ]
  },
  {
   "cell_type": "code",
   "execution_count": 100,
   "metadata": {},
   "outputs": [
    {
     "data": {
      "text/plain": [
       "'Performed a variety of tasks as a material handler and forklift operator while always working with a\\nsense of'"
      ]
     },
     "execution_count": 100,
     "metadata": {},
     "output_type": "execute_result"
    }
   ],
   "source": [
    "totalTextRunning[170:279]"
   ]
  },
  {
   "cell_type": "code",
   "execution_count": 96,
   "metadata": {},
   "outputs": [
    {
     "name": "stdout",
     "output_type": "stream",
     "text": [
      "170\n",
      "180\n"
     ]
    }
   ],
   "source": [
    "print(t)"
   ]
  },
  {
   "cell_type": "code",
   "execution_count": 112,
   "metadata": {},
   "outputs": [
    {
     "name": "stdout",
     "output_type": "stream",
     "text": [
      "[170, 180, 182, 190, 193, 194, 194, 204, 213, 214, 225, 234, 243, 249, 256, 264, 269, 271, 277, 280, 279]\n",
      "\n",
      "170\n",
      "10\n",
      "180\n",
      "180\n",
      "\n",
      "180\n",
      "2\n",
      "182\n",
      "182\n",
      "\n",
      "182\n",
      "8\n",
      "190\n",
      "190\n",
      "\n",
      "190\n",
      "3\n",
      "193\n",
      "193\n",
      "\n",
      "193\n",
      "6\n",
      "199\n",
      "194\n",
      "\n",
      "194\n",
      "3\n",
      "197\n",
      "194\n",
      "\n",
      "194\n",
      "2\n",
      "196\n",
      "204\n",
      "\n",
      "204\n",
      "9\n",
      "213\n",
      "213\n",
      "\n",
      "213\n",
      "8\n",
      "221\n",
      "214\n",
      "\n",
      "214\n",
      "4\n",
      "218\n",
      "225\n",
      "\n",
      "225\n",
      "9\n",
      "234\n",
      "234\n",
      "\n",
      "234\n",
      "9\n",
      "243\n",
      "243\n",
      "\n",
      "243\n",
      "6\n",
      "249\n",
      "249\n",
      "\n",
      "249\n",
      "7\n",
      "256\n",
      "256\n",
      "\n",
      "256\n",
      "8\n",
      "264\n",
      "264\n",
      "\n",
      "264\n",
      "5\n",
      "269\n",
      "269\n",
      "\n",
      "269\n",
      "2\n",
      "271\n",
      "271\n",
      "\n",
      "271\n",
      "6\n",
      "277\n",
      "277\n",
      "\n",
      "277\n",
      "3\n",
      "280\n",
      "280\n",
      "\n",
      "280\n",
      "8\n",
      "288\n",
      "279\n",
      "\n",
      "14\n",
      "21\n"
     ]
    }
   ],
   "source": [
    "wordPositions = []\n",
    "numberstarting = 0  \n",
    "for singleWord in words:\n",
    "    #print(totalTextRunning[numberstarting:].find(singleWord))\n",
    "    wordPositions.append(totalTextRunning[numberstarting:].find(singleWord)+numberstarting)\n",
    "    if not totalTextRunning[numberstarting:].find(singleWord) == -1:\n",
    "        numberstarting = totalTextRunning[numberstarting:].find(singleWord) +numberstarting\n",
    "    #print(numberstarting)    \n",
    "print(wordPositions)\n",
    "positionsCount = 0\n",
    "numCorrect = 0\n",
    "print(\"\")\n",
    "for num in range(len(wordPositions)-1):\n",
    "    print(wordPositions[num])\n",
    "    print(len(words[num])+1)\n",
    "    print(wordPositions[num]+len(words[num])+1)\n",
    "    \n",
    "    print(wordPositions[num+1])\n",
    "    if abs(wordPositions[num]+len(words[num])+1 - wordPositions[num+1]) < 2:\n",
    "        numCorrect+=1\n",
    "    positionsCount+=1\n",
    "    print(\"\")\n",
    "print(numCorrect)\n",
    "print(len(words))\n",
    "if numCorrect == len(words)-1:\n",
    "    print(wordPositions[0])\n"
   ]
  },
  {
   "cell_type": "code",
   "execution_count": 62,
   "metadata": {},
   "outputs": [
    {
     "data": {
      "text/plain": [
       "170"
      ]
     },
     "execution_count": 62,
     "metadata": {},
     "output_type": "execute_result"
    }
   ],
   "source": [
    "totalTextRunning.find(textg[0:10].strip())"
   ]
  },
  {
   "cell_type": "code",
   "execution_count": 61,
   "metadata": {},
   "outputs": [
    {
     "name": "stdout",
     "output_type": "stream",
     "text": [
      "-1\n",
      "-1\n",
      "['PERFORMED A VARIETY OF TASKS AS A MATERIAL HANDLER AND FORKLIFT OPERATOR WHILE ALWAYS WORKING WITH A SENSE OF URGENCY.', -1, 117]\n"
     ]
    }
   ],
   "source": [
    "startChar = totalTextRunning.find(textg.strip())\n",
    "if startChar == -1:\n",
    "    #checks for the not working -- check function\n",
    "    startChar = checkNotWorkingValues(textg.strip(), totalTextRunning)\n",
    "    print(startChar)\n",
    "if startChar == -1:\n",
    "    # lower everything and see if it can find it then\n",
    "    startChar = totalTextRunning.lower().find(textg.lower().strip())\n",
    "    print(startChar)\n",
    "endChar = startChar + len(textg.strip())\n",
    "print([textg.strip().upper() , startChar, endChar])"
   ]
  },
  {
   "cell_type": "markdown",
   "metadata": {},
   "source": [
    "## DataSet to JSON FILE"
   ]
  },
  {
   "cell_type": "code",
   "execution_count": null,
   "metadata": {},
   "outputs": [],
   "source": [
    "len(attributesNumberList)"
   ]
  },
  {
   "cell_type": "code",
   "execution_count": null,
   "metadata": {},
   "outputs": [],
   "source": [
    "attributeCount = len(attributesNumberList)\n",
    "text = totalTextRunning\n",
    "attributes = attributesNumberList"
   ]
  },
  {
   "cell_type": "code",
   "execution_count": null,
   "metadata": {},
   "outputs": [],
   "source": [
    "text"
   ]
  },
  {
   "cell_type": "code",
   "execution_count": null,
   "metadata": {},
   "outputs": [],
   "source": [
    "def createJSONFILE(attributeCount, text, attributes):\n",
    "    #the 2 string named \"totalString\" and \"attributeString\" are just formated in a way how google likes their input value\n",
    "    # loops through everything and uses the replace function to replace it with all the attributes\n",
    "    # you have to test this out yourself to understand how it works\n",
    "    alphab = list(string.ascii_lowercase)\n",
    "    for alpa in range(int(attributeCount/26)):\n",
    "        alphab.extend(list(string.ascii_lowercase))\n",
    "    totalString = \"\"\"{\"textSnippet\":{\"content\":\"textCODE\"},\"annotations\":[attributeCODE]}\"\"\"\n",
    "    attributeString = \"\"\"{\"displayName\":\"AtribnameCODE\",\"textExtraction\":{\"textSegment\":{\"startOffset\":\"sCharCODE\",\"endOffset\":\"eCharCODE\"}}}\"\"\"\n",
    "    totalString =  totalString.replace(\"textCODE\", text)\n",
    "    tempStringReplacer = \"\"\n",
    "    for i in range(attributeCount):\n",
    "        if i != attributeCount-1:\n",
    "            tempStringReplacer+=(\"atriCODE\"+str(i+1)+alphab[i]+\",\")\n",
    "        else:\n",
    "            tempStringReplacer+=(\"atriCODE\"+str(i+1)+alphab[i])\n",
    "    totalString = totalString.replace(\"attributeCODE\", tempStringReplacer)\n",
    "    for i in range(attributeCount):\n",
    "        attributeStringNEW = attributeString\n",
    "        #print(attributes[i])\n",
    "        attributeStringNEW = attributeStringNEW.replace(\"AtribnameCODE\", attributes[i][0])\n",
    "        attributeStringNEW = attributeStringNEW.replace(\"sCharCODE\", str(attributes[i][1])).replace(\"eCharCODE\", str(attributes[i][2]))\n",
    "        totalString = totalString.replace((\"atriCODE\"+str(i+1)+alphab[i]), attributeStringNEW)\n",
    "    return totalString"
   ]
  },
  {
   "cell_type": "markdown",
   "metadata": {},
   "source": [
    "## Final Run Create JSON"
   ]
  },
  {
   "cell_type": "code",
   "execution_count": null,
   "metadata": {},
   "outputs": [],
   "source": [
    "file = createJSONFILE(attributeCount, text, attributes)"
   ]
  },
  {
   "cell_type": "code",
   "execution_count": null,
   "metadata": {},
   "outputs": [],
   "source": [
    "attributeCount"
   ]
  },
  {
   "cell_type": "code",
   "execution_count": null,
   "metadata": {
    "scrolled": true
   },
   "outputs": [],
   "source": [
    "file"
   ]
  },
  {
   "cell_type": "markdown",
   "metadata": {},
   "source": [
    "## Save JSONL FILE"
   ]
  },
  {
   "cell_type": "code",
   "execution_count": null,
   "metadata": {
    "scrolled": true
   },
   "outputs": [],
   "source": [
    "os.chdir(jsonFolderPath)\n",
    "# open a file and save it \n",
    "jsonFileName = \"FINAL_\"+documentRun[9:-4]+\".jsonl\"\n",
    "text_file = open(jsonFileName, \"w\")\n",
    "text_file.write(file)\n",
    "text_file.close()"
   ]
  },
  {
   "cell_type": "code",
   "execution_count": null,
   "metadata": {},
   "outputs": [],
   "source": [
    "print(jsonFileName)"
   ]
  },
  {
   "cell_type": "code",
   "execution_count": null,
   "metadata": {
    "scrolled": true
   },
   "outputs": [],
   "source": [
    "f = open(jsonFileName, \"r\")\n",
    "#print(f.read())"
   ]
  },
  {
   "cell_type": "markdown",
   "metadata": {},
   "source": [
    "Now your done and you have the Json file, give it to kunal and he will put it into GCP platform account"
   ]
  }
 ],
 "metadata": {
  "kernelspec": {
   "display_name": "Python 3",
   "language": "python",
   "name": "python3"
  },
  "language_info": {
   "codemirror_mode": {
    "name": "ipython",
    "version": 3
   },
   "file_extension": ".py",
   "mimetype": "text/x-python",
   "name": "python",
   "nbconvert_exporter": "python",
   "pygments_lexer": "ipython3",
   "version": "3.7.4"
  },
  "toc": {
   "base_numbering": 1,
   "nav_menu": {},
   "number_sections": true,
   "sideBar": true,
   "skip_h1_title": false,
   "title_cell": "Table of Contents",
   "title_sidebar": "Contents",
   "toc_cell": false,
   "toc_position": {
    "height": "calc(100% - 180px)",
    "left": "10px",
    "top": "150px",
    "width": "165px"
   },
   "toc_section_display": true,
   "toc_window_display": true
  }
 },
 "nbformat": 4,
 "nbformat_minor": 2
}
