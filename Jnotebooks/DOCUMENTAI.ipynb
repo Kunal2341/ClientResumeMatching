{
 "cells": [
  {
   "cell_type": "code",
   "execution_count": 1,
   "metadata": {},
   "outputs": [],
   "source": [
    "from google.cloud import documentai_v1beta2 as documentai\n",
    "from google.oauth2 import service_account #Control API Keys"
   ]
  },
  {
   "cell_type": "code",
   "execution_count": 2,
   "metadata": {},
   "outputs": [],
   "source": [
    "keyDIR = \"/Users/kunal/Documents/VdartResumeProject/APIKEYSGOOGLE/resumeMatcher-documentAI.json\""
   ]
  },
  {
   "cell_type": "code",
   "execution_count": 4,
   "metadata": {},
   "outputs": [],
   "source": [
    "credentials = service_account.Credentials.from_service_account_file(keyDIR) #using service account to go through google\n",
    "client = documentai.DocumentUnderstandingServiceClient(credentials=credentials)\n",
    "gcs_source = documentai.types.GcsSource(uri=\"gs://document_ai_resume/Document_619.pdf\")"
   ]
  },
  {
   "cell_type": "code",
   "execution_count": 5,
   "metadata": {},
   "outputs": [],
   "source": [
    "# mime_type can be application/pdf, image/tiff,\n",
    "# and image/gif, or application/json\n",
    "input_config = documentai.types.InputConfig(gcs_source=gcs_source, mime_type='application/pdf')"
   ]
  },
  {
   "cell_type": "code",
   "execution_count": 6,
   "metadata": {
    "scrolled": true
   },
   "outputs": [],
   "source": [
    "def _get_text(el, document):\n",
    "    \"\"\"Doc AI identifies form fields by their offsets\n",
    "    in document text. This function converts offsets\n",
    "    to text snippets.\n",
    "    \"\"\"\n",
    "    response = ''\n",
    "    # If a text segment spans several lines, it will\n",
    "    # be stored in different text segments.\n",
    "    for segment in el.text_anchor.text_segments:\n",
    "        start_index = segment.start_index\n",
    "        end_index = segment.end_index\n",
    "        response += document.text[start_index:end_index]\n",
    "    return response"
   ]
  },
  {
   "cell_type": "code",
   "execution_count": 7,
   "metadata": {},
   "outputs": [],
   "source": [
    "# Improve form parsing results by providing key-value pair hints.\n",
    "# For each key hint, key is text that is likely to appear in the\n",
    "# document as a form field name (i.e. \"DOB\").\n",
    "# Value types are optional, but can be one or more of:\n",
    "# ADDRESS, LOCATION, ORGANIZATION, PERSON, PHONE_NUMBER, ID,\n",
    "# NUMBER, EMAIL, PRICE, TERMS, DATE, NAME\n",
    "\"\"\"key_value_pair_hints = [\n",
    "    documentai.types.KeyValuePairHint(key='Emergency Contact',value_types=['NAME']),\n",
    "    documentai.types.KeyValuePairHint(key='Referred By')\n",
    "]\"\"\"\n",
    "\n",
    "# Setting enabled=True enables form extraction\n",
    "form_extraction_params = documentai.types.FormExtractionParams(enabled=True) # key_value_pair_hints=key_value_pair_hints\n",
    "\n",
    "# Location can be 'us' or 'eu'\n",
    "parent = 'projects/{}/locations/us'.format(\"resumematcher\")\n",
    "request = documentai.types.ProcessDocumentRequest(\n",
    "    parent=parent,\n",
    "    input_config=input_config,\n",
    "    form_extraction_params=form_extraction_params)\n",
    "\n",
    "documentFormParser = client.process_document(request=request)"
   ]
  },
  {
   "cell_type": "code",
   "execution_count": 8,
   "metadata": {},
   "outputs": [
    {
     "name": "stdout",
     "output_type": "stream",
     "text": [
      "URI INFO: \n",
      "Text detected (first 100): Serhii Kalinin\n",
      "1180 St Clair Ave West,\n",
      "Toronto, ON M6E 1B4\n",
      "E-mail: kalininsergg92@gmail.com\n",
      "Phone: 4\n",
      "Entity 0: kalininsergg92@gmail.com \n",
      "\tConifd: 0.966052770614624\n",
      "\tDetected 1: 59 -- 91\n",
      "Entity 1: 437-231-58-07 \n",
      "\tConifd: 0.9390579462051392\n",
      "\tDetected 1: 92 -- 112\n",
      "Entity 2: 05/27/1992 \n",
      "\tConifd: 0.48646771907806396\n",
      "\tDetected 1: 113 -- 137\n",
      "Entity 3: Jan 2020 — Dec 2020 \n",
      "\tConifd: 0.18704494833946228\n",
      "\tDetected 1: 3714 -- 3752\n",
      "Entity 4: 6, 2018 — March 1, 2018 \n",
      "\tConifd: 0.23073223233222961\n",
      "\tDetected 1: 3762 -- 3790\n",
      "Entity 5: - fluent \n",
      "\tConifd: 0.2284661829471588\n",
      "\tDetected 1: 4758 -- 4774\n",
      "Entity 6: - with a dictionary \n",
      "\tConifd: 0.11633188277482986\n",
      "\tDetected 1: 4775 -- 4801\n"
     ]
    }
   ],
   "source": [
    "entitiesDetectedGoogleDocumentAI = []\n",
    "print(\"URI INFO: {}\".format(documentFormParser.uri))\n",
    "print(\"Text detected (first 100): {}\".format(documentFormParser.text[:100]))\n",
    "for ent in documentFormParser.entities:\n",
    "    print(\"Entity {}: {} \\n\\tConifd: {}\".format(ent.mention_id, ent.mention_text, ent.confidence))\n",
    "    ctDetected = 1\n",
    "    tempPositions = []\n",
    "    for position in ent.text_anchor.text_segments:\n",
    "        print(\"\\tDetected {}: {} -- {}\".format(ctDetected, position.start_index, position.end_index))\n",
    "        tempPositions.append([ctDetected, position.start_index, position.end_index])\n",
    "        ctDetected+=1\n",
    "    entitiesDetectedGoogleDocumentAI.append([ent.mention_text, ent.confidence, tempPositions])\n",
    "    #print(\"\\n\")"
   ]
  },
  {
   "cell_type": "code",
   "execution_count": null,
   "metadata": {},
   "outputs": [],
   "source": []
  },
  {
   "cell_type": "code",
   "execution_count": null,
   "metadata": {},
   "outputs": [],
   "source": []
  },
  {
   "cell_type": "code",
   "execution_count": null,
   "metadata": {},
   "outputs": [],
   "source": []
  },
  {
   "cell_type": "code",
   "execution_count": 9,
   "metadata": {},
   "outputs": [],
   "source": [
    "def findEntitiesDocumentAIG(documentFormParser):\n",
    "    entitiesDetectedGoogleDocumentAI = []\n",
    "    #print(\"URI INFO: {}\".format(documentFormParser.uri))\n",
    "    #print(\"Text detected (first 100): {}\".format(documentFormParser.text[:100]))\n",
    "    for ent in documentFormParser.entities:\n",
    "        #print(\"Entity {}: {} \\n\\tConifd: {}\".format(ent.mention_id, ent.mention_text, ent.confidence))\n",
    "        ctDetected = 1\n",
    "        tempPositions = []\n",
    "        for position in ent.text_anchor.text_segments:\n",
    "            #print(\"\\tDetected {}: {} -- {}\".format(ctDetected, position.start_index, position.end_index))\n",
    "            tempPositions.append([ctDetected, position.start_index, position.end_index])\n",
    "            ctDetected+=1\n",
    "        entitiesDetectedGoogleDocumentAI.append([ent.mention_text, ent.confidence, tempPositions])\n",
    "        #print(\"\\n\")\n",
    "    return entitiesDetectedGoogleDocumentAI"
   ]
  },
  {
   "cell_type": "code",
   "execution_count": 10,
   "metadata": {},
   "outputs": [
    {
     "data": {
      "text/plain": [
       "[['kalininsergg92@gmail.com', 0.966052770614624, [[1, 59, 91]]],\n",
       " ['437-231-58-07', 0.9390579462051392, [[1, 92, 112]]],\n",
       " ['05/27/1992', 0.48646771907806396, [[1, 113, 137]]],\n",
       " ['Jan 2020 — Dec 2020', 0.18704494833946228, [[1, 3714, 3752]]],\n",
       " ['6, 2018 — March 1, 2018', 0.23073223233222961, [[1, 3762, 3790]]],\n",
       " ['- fluent', 0.2284661829471588, [[1, 4758, 4774]]],\n",
       " ['- with a dictionary', 0.11633188277482986, [[1, 4775, 4801]]]]"
      ]
     },
     "execution_count": 10,
     "metadata": {},
     "output_type": "execute_result"
    }
   ],
   "source": [
    "entitiesDetectedGoogleDocumentAI"
   ]
  },
  {
   "cell_type": "code",
   "execution_count": 11,
   "metadata": {
    "scrolled": false
   },
   "outputs": [
    {
     "name": "stdout",
     "output_type": "stream",
     "text": [
      "Page number: 1\n",
      "Field Name: E-mail: \tConfidence: 0.966052770614624\n",
      "Field Value: kalininsergg92@gmail.com\n",
      "\tConfidence: 0.966052770614624\n",
      "Field Name: Phone: \tConfidence: 0.9390579462051392\n",
      "Field Value: 437-231-58-07\n",
      "\tConfidence: 0.9390579462051392\n",
      "Field Name: DATE OF BIRTH\n",
      "\tConfidence: 0.48646771907806396\n",
      "Field Value: 05/27/1992\n",
      "\tConfidence: 0.48646771907806396\n",
      "Page number: 2\n",
      "Page number: 3\n",
      "Field Name: Febr \tConfidence: 0.23073223233222961\n",
      "Field Value: 6, 2018 — March 1, 2018\n",
      "\tConfidence: 0.23073223233222961\n",
      "Field Name: Health Informatics \tConfidence: 0.18704494833946228\n",
      "Field Value: Jan 2020 — Dec 2020\n",
      "\tConfidence: 0.18704494833946228\n",
      "Page number: 4\n",
      "Field Name: Russian \tConfidence: 0.2284661829471588\n",
      "Field Value: - fluent\n",
      "\tConfidence: 0.2284661829471588\n",
      "Field Name: Polish \tConfidence: 0.11633188277482986\n",
      "Field Value: - with a dictionary\n",
      "\tConfidence: 0.11633188277482986\n",
      "Page number: 5\n"
     ]
    }
   ],
   "source": [
    "formParserTotal = []\n",
    "for page in documentFormParser.pages:\n",
    "    temp = []\n",
    "    print('Page number: {}'.format(page.page_number))\n",
    "    for form_field in page.form_fields:\n",
    "        print('Field Name: {}\\tConfidence: {}'.format(\n",
    "            _get_text(form_field.field_name, documentFormParser),\n",
    "            form_field.field_name.confidence))\n",
    "        print('Field Value: {}\\tConfidence: {}'.format(\n",
    "            _get_text(form_field.field_value, documentFormParser),\n",
    "            form_field.field_value.confidence))\n",
    "        temp.append([_get_text(form_field.field_name, documentFormParser),_get_text(form_field.field_value, documentFormParser), form_field.field_name.confidence])\n",
    "    formParserTotal.append([temp,page.page_number])"
   ]
  },
  {
   "cell_type": "code",
   "execution_count": 12,
   "metadata": {},
   "outputs": [
    {
     "data": {
      "text/plain": [
       "[[[['E-mail: ', 'kalininsergg92@gmail.com\\n', 0.966052770614624],\n",
       "   ['Phone: ', '437-231-58-07\\n', 0.9390579462051392],\n",
       "   ['DATE OF BIRTH\\n', '05/27/1992\\n', 0.48646771907806396]],\n",
       "  1],\n",
       " [[], 2],\n",
       " [[['Febr ', '6, 2018 — March 1, 2018\\n', 0.23073223233222961],\n",
       "   ['Health Informatics ', 'Jan 2020 — Dec 2020\\n', 0.18704494833946228]],\n",
       "  3],\n",
       " [[['Russian ', '- fluent\\n', 0.2284661829471588],\n",
       "   ['Polish ', '- with a dictionary\\n', 0.11633188277482986]],\n",
       "  4],\n",
       " [[], 5]]"
      ]
     },
     "execution_count": 12,
     "metadata": {},
     "output_type": "execute_result"
    }
   ],
   "source": [
    "formParserTotal"
   ]
  },
  {
   "cell_type": "code",
   "execution_count": 13,
   "metadata": {},
   "outputs": [],
   "source": [
    "#gcs_source = documentai.types.GcsSource(uri=\"gs://document_ai_resume/Document_11.pdf\")\n",
    "input_config = documentai.types.InputConfig(gcs_source=gcs_source, mime_type='application/pdf')"
   ]
  },
  {
   "cell_type": "code",
   "execution_count": 14,
   "metadata": {},
   "outputs": [],
   "source": [
    "# Setting enabled=True enables form extraction\n",
    "table_extraction_params = documentai.types.TableExtractionParams(enabled=True) #table_bound_hints=table_bound_hints\n",
    "# Location can be 'us' or 'eu'\n",
    "parent = 'projects/{}/locations/us'.format(\"resumematcher\")\n",
    "request = documentai.types.ProcessDocumentRequest(\n",
    "    parent=parent,\n",
    "    input_config=input_config,\n",
    "    table_extraction_params=table_extraction_params)\n",
    "document = client.process_document(request=request)"
   ]
  },
  {
   "cell_type": "code",
   "execution_count": 15,
   "metadata": {},
   "outputs": [
    {
     "name": "stdout",
     "output_type": "stream",
     "text": [
      "Page number: 1\n",
      "Page number: 2\n",
      "Table 0: \n",
      "Header Row 0:   Travel 100%.\n",
      "Installation of voting equipment prior to election in accordance with the required operating\n",
      "\n",
      "Row 0:  systems.\n",
      "Performs service set-up and maintenance procedures in accordance with the appropriate codes and standards.\n",
      "service\n",
      "\n",
      "Row 1:  Repairs and maintains voting equipment; troubleshoots and identifies voting equipment\n",
      "\n",
      "Row 2: problems such as but not limited to computer failure, printer jam and low battery voltage;\n",
      "\n",
      "Row 3:  replaces damaged or malfunctioning\n",
      "Delivers voting equipment to designated polling places and explains and/or demonstrates voting\n",
      "\n",
      "Row 4:  equipment operation to election officials.\n",
      "Performs test election procedures after election.\n",
      "\n",
      "Page number: 3\n"
     ]
    }
   ],
   "source": [
    "tableGroups = []\n",
    "for page in document.pages:\n",
    "    tablesPerPage = []\n",
    "    print('Page number: {}'.format(page.page_number))\n",
    "    for table_num, table in enumerate(page.tables):\n",
    "        print('Table {}: '.format(table_num))\n",
    "        singleTable = []\n",
    "        for row_num, row in enumerate(table.header_rows):\n",
    "            cells = ''.join([_get_text(cell.layout, documentFormParser) for cell in row.cells])\n",
    "            print('Header Row {}: {}'.format(row_num, cells))\n",
    "            singleTable.append([\"Header\",row_num,cells])\n",
    "        for row_num, row in enumerate(table.body_rows):\n",
    "            cells = ''.join([_get_text(cell.layout, documentFormParser) for cell in row.cells])\n",
    "            print('Row {}: {}'.format(row_num, cells))\n",
    "            singleTable.append([\"Row\", row_num, cells])\n",
    "        tablesPerPage.append([singleTable, table_num])\n",
    "    tableGroups.append([tablesPerPage, page.page_number])"
   ]
  },
  {
   "cell_type": "code",
   "execution_count": 16,
   "metadata": {},
   "outputs": [
    {
     "data": {
      "text/plain": [
       "[[[], 1],\n",
       " [[[[['Header',\n",
       "      0,\n",
       "      '\\uf0b7 \\uf0b7 Travel 100%.\\nInstallation of voting equipment prior to election in accordance with the required operating\\n'],\n",
       "     ['Row',\n",
       "      0,\n",
       "      '\\uf0b7 systems.\\nPerforms service set-up and maintenance procedures in accordance with the appropriate codes and standards.\\nservice\\n'],\n",
       "     ['Row',\n",
       "      1,\n",
       "      '\\uf0b7 Repairs and maintains voting equipment; troubleshoots and identifies voting equipment\\n'],\n",
       "     ['Row',\n",
       "      2,\n",
       "      'problems such as but not limited to computer failure, printer jam and low battery voltage;\\n'],\n",
       "     ['Row',\n",
       "      3,\n",
       "      '\\uf0b7 replaces damaged or malfunctioning\\nDelivers voting equipment to designated polling places and explains and/or demonstrates voting\\n'],\n",
       "     ['Row',\n",
       "      4,\n",
       "      '\\uf0b7 equipment operation to election officials.\\nPerforms test election procedures after election.\\n']],\n",
       "    0]],\n",
       "  2],\n",
       " [[], 3]]"
      ]
     },
     "execution_count": 16,
     "metadata": {},
     "output_type": "execute_result"
    }
   ],
   "source": [
    "tableGroups"
   ]
  },
  {
   "cell_type": "code",
   "execution_count": 17,
   "metadata": {},
   "outputs": [
    {
     "data": {
      "text/plain": [
       "((0, 56), (1653, 174))"
      ]
     },
     "execution_count": 17,
     "metadata": {},
     "output_type": "execute_result"
    }
   ],
   "source": [
    "((0, 56), (1653, 174))"
   ]
  },
  {
   "cell_type": "code",
   "execution_count": 18,
   "metadata": {},
   "outputs": [],
   "source": [
    "width = 1654 \n",
    "height =  2339"
   ]
  },
  {
   "cell_type": "code",
   "execution_count": 19,
   "metadata": {},
   "outputs": [
    {
     "ename": "NameError",
     "evalue": "name 'convertMatrix2NormalizedVertices' is not defined",
     "output_type": "error",
     "traceback": [
      "\u001b[1;31m---------------------------------------------------------------------------\u001b[0m",
      "\u001b[1;31mNameError\u001b[0m                                 Traceback (most recent call last)",
      "\u001b[1;32m<ipython-input-19-4fbbdd56f7ec>\u001b[0m in \u001b[0;36m<module>\u001b[1;34m\u001b[0m\n\u001b[1;32m----> 1\u001b[1;33m \u001b[0mtable_bound_hints\u001b[0m \u001b[1;33m=\u001b[0m \u001b[0mconvertMatrix2NormalizedVertices\u001b[0m\u001b[1;33m(\u001b[0m\u001b[1;33m(\u001b[0m\u001b[1;33m(\u001b[0m\u001b[1;36m75\u001b[0m\u001b[1;33m,\u001b[0m\u001b[1;36m1025\u001b[0m\u001b[1;33m)\u001b[0m\u001b[1;33m,\u001b[0m \u001b[1;33m(\u001b[0m\u001b[1;36m1650\u001b[0m\u001b[1;33m,\u001b[0m \u001b[1;36m1025\u001b[0m\u001b[1;33m)\u001b[0m\u001b[1;33m,\u001b[0m \u001b[1;33m(\u001b[0m\u001b[1;36m1650\u001b[0m\u001b[1;33m,\u001b[0m\u001b[1;36m2300\u001b[0m\u001b[1;33m)\u001b[0m\u001b[1;33m,\u001b[0m \u001b[1;33m(\u001b[0m\u001b[1;36m75\u001b[0m\u001b[1;33m,\u001b[0m\u001b[1;36m2300\u001b[0m\u001b[1;33m)\u001b[0m\u001b[1;33m)\u001b[0m\u001b[1;33m)\u001b[0m\u001b[1;33m\u001b[0m\u001b[1;33m\u001b[0m\u001b[0m\n\u001b[0m",
      "\u001b[1;31mNameError\u001b[0m: name 'convertMatrix2NormalizedVertices' is not defined"
     ]
    }
   ],
   "source": [
    "table_bound_hints = convertMatrix2NormalizedVertices(((75,1025), (1650, 1025), (1650,2300), (75,2300)))"
   ]
  },
  {
   "cell_type": "code",
   "execution_count": 20,
   "metadata": {},
   "outputs": [],
   "source": [
    "def convertMatrix2NormalizedVertices(matrix):\n",
    "    # Improve table parsing results by providing bounding boxes\n",
    "    # specifying where the box appears in the document (optional)\n",
    "    table_bound_hints = [\n",
    "        documentai.types.TableBoundHint(\n",
    "            page_number=1,\n",
    "            bounding_box=documentai.types.BoundingPoly(\n",
    "                # Define a polygon around tables to detect\n",
    "                # Each vertice coordinate must be a number between 0 and 1\n",
    "                normalized_vertices=[\n",
    "                    # Top left\n",
    "                    documentai.types.geometry.NormalizedVertex(\n",
    "                        x=matrix[0][0]/width,\n",
    "                        y=matrix[0][1]/height\n",
    "                    ),\n",
    "                    # Top right\n",
    "                    documentai.types.geometry.NormalizedVertex(\n",
    "                        x=matrix[1][0]/width,\n",
    "                        y=matrix[1][1]/height\n",
    "                    ),\n",
    "                    # Bottom right\n",
    "                    documentai.types.geometry.NormalizedVertex(\n",
    "                        x=matrix[2][0]/width,\n",
    "                        y=matrix[2][1]/height\n",
    "                    ),\n",
    "                    # Bottom left\n",
    "                    documentai.types.geometry.NormalizedVertex(\n",
    "                        x=matrix[3][0]/width,\n",
    "                        y=matrix[3][1]/height\n",
    "                    )\n",
    "                ]\n",
    "            )\n",
    "        )\n",
    "    ]\n",
    "    return table_bound_hints"
   ]
  },
  {
   "cell_type": "code",
   "execution_count": null,
   "metadata": {},
   "outputs": [],
   "source": []
  },
  {
   "cell_type": "code",
   "execution_count": 24,
   "metadata": {},
   "outputs": [],
   "source": [
    "from google.cloud import documentai_v1beta2 as documentai\n",
    "from google.oauth2 import service_account #Control API Keys\n",
    "\n",
    "keyDIR = \"/Users/kunal/Documents/VdartResumeProject/APIKEYSGOOGLE/resumeMatcher-documentAI.json\"\n",
    "\n",
    "credentials = service_account.Credentials.from_service_account_file(keyDIR) #using service account to go through google\n",
    "client = documentai.DocumentUnderstandingServiceClient(credentials=credentials)\n",
    "\n",
    "gcs_source = documentai.types.GcsSource(uri=\"gs://document_ai_resume/Document_1197.pdf\")\n",
    "\n",
    "input_config = documentai.types.InputConfig(\n",
    "    gcs_source=gcs_source, mime_type='application/pdf')"
   ]
  },
  {
   "cell_type": "raw",
   "metadata": {},
   "source": [
    "# Improve table parsing results by providing bounding boxes\n",
    "# specifying where the box appears in the document (optional)\n",
    "table_bound_hints = [\n",
    "    documentai.types.TableBoundHint(\n",
    "        page_number=1,\n",
    "        bounding_box=documentai.types.BoundingPoly(\n",
    "            # Define a polygon around tables to detect\n",
    "            # Each vertice coordinate must be a number between 0 and 1\n",
    "            normalized_vertices=[\n",
    "                # Top left\n",
    "                documentai.types.geometry.NormalizedVertex(\n",
    "                    x=0,\n",
    "                    y=0.02394185549380077\n",
    "                ),\n",
    "                # Top right\n",
    "                documentai.types.geometry.NormalizedVertex(\n",
    "                    x=0.9993954050785974,\n",
    "                    y=0.02394185549380077\n",
    "                ),\n",
    "                # Bottom right\n",
    "                documentai.types.geometry.NormalizedVertex(\n",
    "                    x=0.9993954050785974,\n",
    "                    y=0.07439076528430953\n",
    "                ),\n",
    "                # Bottom left\n",
    "                documentai.types.geometry.NormalizedVertex(\n",
    "                    x=0,\n",
    "                    y=0.07439076528430953\n",
    "                )\n",
    "            ]\n",
    "        )\n",
    "    )\n",
    "]"
   ]
  },
  {
   "cell_type": "code",
   "execution_count": 25,
   "metadata": {},
   "outputs": [
    {
     "name": "stdout",
     "output_type": "stream",
     "text": [
      "Page number: 1\n",
      "Page number: 2\n",
      "Table 0: \n",
      "Header Row 0:   \tTravel 100%.\n",
      "Installation of voting equipment prior to election in accordance with the required operating\n",
      "\t\n",
      "Row 0:  \tsystems.\n",
      "Performs service set-up and maintenance procedures in accordance with the appropriate codes and standards.\n",
      "\tservice\n",
      "\n",
      "Row 1:  \tRepairs and maintains voting equipment; troubleshoots and identifies voting equipment\n",
      "\t\n",
      "Row 2: \tproblems such as but not limited to computer failure, printer jam and low battery voltage;\n",
      "\t\n",
      "Row 3:  \treplaces damaged or malfunctioning\n",
      "Delivers voting equipment to designated polling places and explains and/or demonstrates \tvoting\n",
      "\n",
      "Row 4:  \tequipment operation to election officials.\n",
      "Performs test election procedures after election.\n",
      "\t\n",
      "Page number: 3\n"
     ]
    }
   ],
   "source": [
    "#table_bound_hints = convertMatrix2NormalizedVertices(((75,1025), (1650, 1025), (1650,2300), (75,2300)))\n",
    "\n",
    "# Setting enabled=True enables form extraction\n",
    "table_extraction_params = documentai.types.TableExtractionParams(\n",
    "    enabled=True) #table_bound_hints=table_bound_hints\n",
    "\n",
    "# Location can be 'us' or 'eu'\n",
    "parent = 'projects/{}/locations/us'.format(\"resumematcher\")\n",
    "request = documentai.types.ProcessDocumentRequest(\n",
    "    parent=parent,\n",
    "    input_config=input_config,\n",
    "    table_extraction_params=table_extraction_params)\n",
    "\n",
    "document = client.process_document(request=request)\n",
    "\n",
    "def _get_text(el):\n",
    "    \"\"\"Convert text offset indexes into text snippets.\n",
    "    \"\"\"\n",
    "    response = ''\n",
    "    # If a text segment spans several lines, it will\n",
    "    # be stored in different text segments.\n",
    "    for segment in el.text_anchor.text_segments:\n",
    "        start_index = segment.start_index\n",
    "        end_index = segment.end_index\n",
    "        response += document.text[start_index:end_index]\n",
    "    return response\n",
    "\n",
    "for page in document.pages:\n",
    "    print('Page number: {}'.format(page.page_number))\n",
    "    for table_num, table in enumerate(page.tables):\n",
    "        print('Table {}: '.format(table_num))\n",
    "        for row_num, row in enumerate(table.header_rows):\n",
    "            cells = '\\t'.join(\n",
    "                [_get_text(cell.layout) for cell in row.cells])\n",
    "            print('Header Row {}: {}'.format(row_num, cells))\n",
    "        for row_num, row in enumerate(table.body_rows):\n",
    "            cells = '\\t'.join(\n",
    "                [_get_text(cell.layout) for cell in row.cells])\n",
    "            print('Row {}: {}'.format(row_num, cells))"
   ]
  },
  {
   "cell_type": "code",
   "execution_count": null,
   "metadata": {},
   "outputs": [],
   "source": []
  },
  {
   "cell_type": "code",
   "execution_count": null,
   "metadata": {},
   "outputs": [],
   "source": []
  },
  {
   "cell_type": "code",
   "execution_count": null,
   "metadata": {},
   "outputs": [],
   "source": []
  }
 ],
 "metadata": {
  "kernelspec": {
   "display_name": "Python 3",
   "language": "python",
   "name": "python3"
  },
  "language_info": {
   "codemirror_mode": {
    "name": "ipython",
    "version": 3
   },
   "file_extension": ".py",
   "mimetype": "text/x-python",
   "name": "python",
   "nbconvert_exporter": "python",
   "pygments_lexer": "ipython3",
   "version": "3.7.4"
  },
  "toc": {
   "base_numbering": 1,
   "nav_menu": {},
   "number_sections": true,
   "sideBar": true,
   "skip_h1_title": false,
   "title_cell": "Table of Contents",
   "title_sidebar": "Contents",
   "toc_cell": false,
   "toc_position": {},
   "toc_section_display": true,
   "toc_window_display": false
  }
 },
 "nbformat": 4,
 "nbformat_minor": 2
}
