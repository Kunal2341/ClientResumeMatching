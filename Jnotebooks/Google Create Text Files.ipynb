{
 "cells": [
  {
   "cell_type": "markdown",
   "metadata": {},
   "source": [
    "# IMPORT"
   ]
  },
  {
   "cell_type": "code",
   "execution_count": 1,
   "metadata": {},
   "outputs": [],
   "source": [
    "import os\n",
    "from pdf2image import convert_from_path\n",
    "import ntpath\n",
    "from google.oauth2 import service_account\n",
    "from google.cloud import vision\n",
    "import io\n",
    "import string\n",
    "import pandas as pd\n",
    "import ast\n",
    "import spacy\n",
    "import shutil\n",
    "from shutil import copyfile\n",
    "nlp = spacy.load('en_core_web_sm')"
   ]
  },
  {
   "cell_type": "code",
   "execution_count": 2,
   "metadata": {},
   "outputs": [],
   "source": [
    "from __future__ import unicode_literals, print_function\n",
    "from spacy.lang.en import English # updated"
   ]
  },
  {
   "cell_type": "markdown",
   "metadata": {},
   "source": [
    "# PDF TO TEXT"
   ]
  },
  {
   "cell_type": "code",
   "execution_count": 3,
   "metadata": {},
   "outputs": [],
   "source": [
    "def convert_pdf_2_image(uploaded_image_path, uploaded_image):\n",
    "    project_dir = os.getcwd()\n",
    "    os.chdir(uploaded_image_path)\n",
    "    file_name = str(uploaded_image).replace('.pdf','')\n",
    "    pages = convert_from_path(uploaded_image, 200,poppler_path='/Users/kunal/Documents/VdartWorking/Poppler/poppler-0.68.0_x86/poppler-0.68.0/bin/')\n",
    "    pageNumCount = 1\n",
    "    outputNames = []\n",
    "    for page in pages:\n",
    "        output_file = file_name+\"_\"+str(pageNumCount) + '.jpg'\n",
    "        page.save(output_file, 'JPEG')\n",
    "        pageNumCount +=1\n",
    "        outputNames.append(output_file)\n",
    "    return outputNames"
   ]
  },
  {
   "cell_type": "code",
   "execution_count": 4,
   "metadata": {},
   "outputs": [],
   "source": [
    "def convert_img_2_text(imagePath):\n",
    "    keyDIR = \"/Users/kunal/Documents/ResumeNLPVdart/APIKEYSGOOGLE/resumeMatcher-pdf2img.json\"\n",
    "    credentials = service_account.Credentials.from_service_account_file(keyDIR)\n",
    "    client = vision.ImageAnnotatorClient(credentials=credentials)\n",
    "    with io.open(imagePath, 'rb') as image_file:\n",
    "        content = image_file.read()\n",
    "    image = vision.types.Image(content=content)\n",
    "    response = client.text_detection(image=image)\n",
    "    texts = response.text_annotations\n",
    "    totalString = ''\n",
    "    for text in texts:\n",
    "        totalString+=text.description\n",
    "    totalString = totalString.rsplit(' ', 1)[0]\n",
    "    return totalString"
   ]
  },
  {
   "cell_type": "code",
   "execution_count": 5,
   "metadata": {},
   "outputs": [],
   "source": [
    "def deleteIMG(path):\n",
    "    for i in os.listdir(path):\n",
    "        if i.endswith(\".jpg\"):\n",
    "            os.remove(folder_pdf + i)\n",
    "def deleteEverythingInFolder(folder_pdf):\n",
    "    for file in os.listdir(folder_pdf):\n",
    "        try:\n",
    "            shutil.rmtree(folder_pdf+ file)\n",
    "        except NotADirectoryError:\n",
    "            try:\n",
    "                os.remove(folder_pdf+ file)\n",
    "            except:\n",
    "                pass\n",
    "def moveRenameAllFiles(sourceFolderResumes, folder_pdf):\n",
    "    for realFile in os.listdir(sourceFolderResumes):\n",
    "        copyfile(sourceFolderResumes + realFile, folder_pdf + realFile)\n",
    "    os.chdir(folder_pdf)\n",
    "    documentcounter = 100\n",
    "    for i in os.listdir(folder_pdf):\n",
    "        fileNameCreator = \"Document_\" + str(documentcounter) + \".pdf\"\n",
    "        print(i + \"   changed to  \" + fileNameCreator)\n",
    "        os.rename(i, fileNameCreator) \n",
    "        documentcounter+=1"
   ]
  },
  {
   "cell_type": "code",
   "execution_count": 6,
   "metadata": {},
   "outputs": [],
   "source": [
    "folder_pdf = '/Users/kunal/Documents/ResumeNLPVdart/GoogleLabelingData/'\n",
    "sourceFolderResumes = '/Users/kunal/Documents/ResumeNLPVdart/50_resumes/'"
   ]
  },
  {
   "cell_type": "code",
   "execution_count": 7,
   "metadata": {
    "scrolled": true
   },
   "outputs": [
    {
     "name": "stdout",
     "output_type": "stream",
     "text": [
      "Document_402.pdf   changed to  Document_100.pdf\n",
      "Document_403.pdf   changed to  Document_101.pdf\n",
      "Document_405.pdf   changed to  Document_102.pdf\n",
      "Document_406.pdf   changed to  Document_103.pdf\n",
      "Document_407.pdf   changed to  Document_104.pdf\n",
      "Document_408.pdf   changed to  Document_105.pdf\n",
      "Document_409.pdf   changed to  Document_106.pdf\n",
      "Document_410.pdf   changed to  Document_107.pdf\n",
      "Document_411.pdf   changed to  Document_108.pdf\n",
      "Document_412.pdf   changed to  Document_109.pdf\n",
      "Document_413.pdf   changed to  Document_110.pdf\n",
      "Document_414.pdf   changed to  Document_111.pdf\n",
      "Document_415.pdf   changed to  Document_112.pdf\n",
      "Document_417.pdf   changed to  Document_113.pdf\n",
      "Document_418.pdf   changed to  Document_114.pdf\n",
      "Document_419.pdf   changed to  Document_115.pdf\n",
      "Document_420.pdf   changed to  Document_116.pdf\n",
      "Document_421.pdf   changed to  Document_117.pdf\n",
      "Document_422.pdf   changed to  Document_118.pdf\n",
      "Document_423.pdf   changed to  Document_119.pdf\n",
      "Document_424.pdf   changed to  Document_120.pdf\n",
      "Document_425.pdf   changed to  Document_121.pdf\n",
      "Document_426.pdf   changed to  Document_122.pdf\n",
      "Document_427.pdf   changed to  Document_123.pdf\n",
      "Document_428.pdf   changed to  Document_124.pdf\n",
      "Document_429.pdf   changed to  Document_125.pdf\n",
      "Document_430.pdf   changed to  Document_126.pdf\n",
      "Document_431.pdf   changed to  Document_127.pdf\n",
      "Document_432.pdf   changed to  Document_128.pdf\n",
      "Document_433.pdf   changed to  Document_129.pdf\n",
      "Document_434.pdf   changed to  Document_130.pdf\n",
      "Document_435.pdf   changed to  Document_131.pdf\n",
      "Document_436.pdf   changed to  Document_132.pdf\n",
      "Document_437.pdf   changed to  Document_133.pdf\n",
      "Document_438.pdf   changed to  Document_134.pdf\n",
      "Document_474.pdf   changed to  Document_135.pdf\n",
      "Document_475.pdf   changed to  Document_136.pdf\n",
      "Document_476.pdf   changed to  Document_137.pdf\n",
      "Document_477.pdf   changed to  Document_138.pdf\n",
      "Document_478.pdf   changed to  Document_139.pdf\n",
      "Document_479.pdf   changed to  Document_140.pdf\n",
      "Document_480.pdf   changed to  Document_141.pdf\n",
      "Document_481.pdf   changed to  Document_142.pdf\n",
      "Document_482.pdf   changed to  Document_143.pdf\n",
      "Document_483.pdf   changed to  Document_144.pdf\n",
      "Document_484.pdf   changed to  Document_145.pdf\n",
      "Document_485.pdf   changed to  Document_146.pdf\n",
      "Document_486.pdf   changed to  Document_147.pdf\n",
      "Document_487.pdf   changed to  Document_148.pdf\n",
      "Document_488.pdf   changed to  Document_149.pdf\n"
     ]
    }
   ],
   "source": [
    "deleteEverythingInFolder(folder_pdf)\n",
    "moveRenameAllFiles(sourceFolderResumes, folder_pdf)\n",
    "numberOfFiles = len([name for name in os.listdir(folder_pdf) if os.path.isfile(name)])"
   ]
  },
  {
   "cell_type": "code",
   "execution_count": 8,
   "metadata": {},
   "outputs": [],
   "source": [
    "os.mkdir(\"/Users/kunal/Documents/ResumeNLPVdart/GoogleLabelingData/textFiles\")"
   ]
  },
  {
   "cell_type": "code",
   "execution_count": 9,
   "metadata": {
    "scrolled": true
   },
   "outputs": [
    {
     "name": "stdout",
     "output_type": "stream",
     "text": [
      "/Users/kunal/Documents/ResumeNLPVdart/GoogleLabelingData/Fold_Document_100/\n",
      "Document_100.pdf\n",
      "Running Number :1\n",
      "Document_100_1.jpg \n",
      "/Users/kunal/Documents/ResumeNLPVdart/GoogleLabelingData/Fold_Document_101/\n",
      "Document_101.pdf\n",
      "Running Number :1\n",
      "Document_101_1.jpg \n",
      "/Users/kunal/Documents/ResumeNLPVdart/GoogleLabelingData/Fold_Document_102/\n",
      "Document_102.pdf\n",
      "Running Number :6\n",
      "Document_102_1.jpg Document_102_2.jpg Document_102_3.jpg Document_102_4.jpg Document_102_5.jpg Document_102_6.jpg \n",
      "/Users/kunal/Documents/ResumeNLPVdart/GoogleLabelingData/Fold_Document_103/\n",
      "Document_103.pdf\n",
      "Running Number :5\n",
      "Document_103_1.jpg Document_103_2.jpg Document_103_3.jpg Document_103_4.jpg Document_103_5.jpg \n",
      "/Users/kunal/Documents/ResumeNLPVdart/GoogleLabelingData/Fold_Document_104/\n",
      "Document_104.pdf\n",
      "Running Number :3\n",
      "Document_104_1.jpg Document_104_2.jpg Document_104_3.jpg \n",
      "/Users/kunal/Documents/ResumeNLPVdart/GoogleLabelingData/Fold_Document_105/\n",
      "Document_105.pdf\n",
      "Running Number :2\n",
      "Document_105_1.jpg Document_105_2.jpg \n",
      "/Users/kunal/Documents/ResumeNLPVdart/GoogleLabelingData/Fold_Document_106/\n",
      "Document_106.pdf\n",
      "Running Number :2\n",
      "Document_106_1.jpg Document_106_2.jpg \n",
      "/Users/kunal/Documents/ResumeNLPVdart/GoogleLabelingData/Fold_Document_107/\n",
      "Document_107.pdf\n",
      "Running Number :11\n",
      "Document_107_1.jpg Document_107_2.jpg Document_107_3.jpg Document_107_4.jpg Document_107_5.jpg Document_107_6.jpg Document_107_7.jpg Document_107_8.jpg Document_107_9.jpg Document_107_10.jpg Document_107_11.jpg \n",
      "/Users/kunal/Documents/ResumeNLPVdart/GoogleLabelingData/Fold_Document_108/\n",
      "Document_108.pdf\n",
      "Running Number :1\n",
      "Document_108_1.jpg \n",
      "/Users/kunal/Documents/ResumeNLPVdart/GoogleLabelingData/Fold_Document_109/\n",
      "Document_109.pdf\n",
      "Running Number :2\n",
      "Document_109_1.jpg Document_109_2.jpg \n",
      "/Users/kunal/Documents/ResumeNLPVdart/GoogleLabelingData/Fold_Document_110/\n",
      "Document_110.pdf\n",
      "Running Number :2\n",
      "Document_110_1.jpg Document_110_2.jpg \n",
      "/Users/kunal/Documents/ResumeNLPVdart/GoogleLabelingData/Fold_Document_111/\n",
      "Document_111.pdf\n",
      "Running Number :1\n",
      "Document_111_1.jpg \n",
      "/Users/kunal/Documents/ResumeNLPVdart/GoogleLabelingData/Fold_Document_112/\n",
      "Document_112.pdf\n",
      "Running Number :1\n",
      "Document_112_1.jpg \n",
      "/Users/kunal/Documents/ResumeNLPVdart/GoogleLabelingData/Fold_Document_113/\n",
      "Document_113.pdf\n",
      "Running Number :2\n",
      "Document_113_1.jpg Document_113_2.jpg \n",
      "/Users/kunal/Documents/ResumeNLPVdart/GoogleLabelingData/Fold_Document_114/\n",
      "Document_114.pdf\n",
      "Running Number :3\n",
      "Document_114_1.jpg Document_114_2.jpg Document_114_3.jpg \n",
      "/Users/kunal/Documents/ResumeNLPVdart/GoogleLabelingData/Fold_Document_115/\n",
      "Document_115.pdf\n",
      "Running Number :2\n",
      "Document_115_1.jpg Document_115_2.jpg \n",
      "/Users/kunal/Documents/ResumeNLPVdart/GoogleLabelingData/Fold_Document_116/\n",
      "Document_116.pdf\n",
      "Running Number :2\n",
      "Document_116_1.jpg Document_116_2.jpg \n",
      "/Users/kunal/Documents/ResumeNLPVdart/GoogleLabelingData/Fold_Document_117/\n",
      "Document_117.pdf\n",
      "Running Number :10\n",
      "Document_117_1.jpg Document_117_2.jpg Document_117_3.jpg Document_117_4.jpg Document_117_5.jpg Document_117_6.jpg Document_117_7.jpg Document_117_8.jpg Document_117_9.jpg Document_117_10.jpg \n",
      "/Users/kunal/Documents/ResumeNLPVdart/GoogleLabelingData/Fold_Document_118/\n",
      "Document_118.pdf\n",
      "Running Number :3\n",
      "Document_118_1.jpg Document_118_2.jpg Document_118_3.jpg \n",
      "/Users/kunal/Documents/ResumeNLPVdart/GoogleLabelingData/Fold_Document_119/\n",
      "Document_119.pdf\n",
      "Running Number :2\n",
      "Document_119_1.jpg Document_119_2.jpg \n",
      "/Users/kunal/Documents/ResumeNLPVdart/GoogleLabelingData/Fold_Document_120/\n",
      "Document_120.pdf\n",
      "Running Number :2\n",
      "Document_120_1.jpg Document_120_2.jpg \n",
      "/Users/kunal/Documents/ResumeNLPVdart/GoogleLabelingData/Fold_Document_121/\n",
      "Document_121.pdf\n",
      "Running Number :3\n",
      "Document_121_1.jpg Document_121_2.jpg Document_121_3.jpg \n",
      "/Users/kunal/Documents/ResumeNLPVdart/GoogleLabelingData/Fold_Document_122/\n",
      "Document_122.pdf\n",
      "Running Number :2\n",
      "Document_122_1.jpg Document_122_2.jpg \n",
      "/Users/kunal/Documents/ResumeNLPVdart/GoogleLabelingData/Fold_Document_123/\n",
      "Document_123.pdf\n",
      "Running Number :5\n",
      "Document_123_1.jpg Document_123_2.jpg Document_123_3.jpg Document_123_4.jpg Document_123_5.jpg \n",
      "EY\n",
      "Tel: +1 212 773 3000\n",
      "Ernst & Young LLP\n",
      "5 Times Square\n",
      "New York, NY 10036-6530\n",
      "Fax: +1 212 773 6350\n",
      "ey.com\n",
      "Building a better\n",
      "working world\n",
      "April 30, 2018\n",
      "Letter of Recommendation: Angelene Jean-Louis\n",
      "Angelene and I were paired together as mentor-mentee for the Fall 2014 semester through\n",
      "the Rutgers Business School (RBS) TeamUp mentoring program. The program provides RBS\n",
      "students with the opportunity to have a one-to-one mentorship experience for a semester with\n",
      "a business professional. The experience is intended to provide students, like Angelene, with\n",
      "insights about the nature of the profession of their interest and guidance on how to be a\n",
      "successful professional and future business leader.\n",
      "From the moment I met her, I was encouraged and energized by Angelene's eagerness to\n",
      "learn. We have kept in regular contact ever since, even after the one-semester program had\n",
      "ended. Aside from spending time on her studies, she has continued to balance raising a family\n",
      "and working full-time. During our discussions over the years, she has remained inquisitive,\n",
      "seeks to maintain awareness of current hot topics in the accounting/auditing industry, and\n",
      "learn about the challenges she will face when working in the accounting profession.\n",
      "Angelene's future is very bright and a firm that brings her onboard will be gaining a diligent,\n",
      "determined individual that will consistently add value to any organization she is a part of.\n",
      "If you have any questions, please feel free to reach out to me directly at 212-773-0168.\n",
      "Sincerely,\n",
      "Stephen A. Verrone\n",
      "Executive Director, Professional Practice Financial Services\n",
      "Ernst & Young LLP\n",
      "A member firm of Ernst & Young Global\n",
      "Is there a recommendation in this? -- Y or NY\n",
      "UNIVERSIDAD\n",
      "EAFIT\n",
      "August 20, 2019\n",
      "Subject: Recommendation for Angelene Jean-Louis\n",
      "To Whom it May Concern:\n",
      "It is my pleasure to recommend Ms. Angelene Jean-Louis for any scholarship or job for which she might\n",
      "apply. Angelene attended my Business Policy and Strategy class at the Business School of Rutgers\n",
      "University, New Jersey in Spring 2017. From the start, she stood out from her classmates with her hard\n",
      "work, astute comments, willing teamwork, and discussion-leadership. She always presented well-argued\n",
      "and articulated positions, yet tactfully acknowledged others' opinions that differed from her own. At the\n",
      "end of the course she delivered the best oral presentation of the class, and received a final grade of A\n",
      "within a school-mandated strict grading policy. Angelene is one of those students you will always\n",
      "remember. It was a joy to have her in my class, and I see a bright future ahead of her. She will be an\n",
      "outstanding candidate for any job or scholarship.\n",
      "If I can be of any further assistance, or provide you with more information, please do not hesitate\n",
      "to contact me.\n",
      "Yours sincerely,\n",
      "Andres Velez-Calle, Ph.D.\n",
      "Assistant Professor\n",
      "Universidad EAFIT\n",
      "avelezca@eafit.edu.co\n",
      "Carrera 49 No 7 Sur - 50\n",
      "Tel: +57 4 2619500 ext. 8673\n",
      "Universidad EAFIT\n",
      "Medellin, Colombia\n",
      "Fax: +574\n",
      "Is there a recommendation in this? -- Y or NY\n",
      "/Users/kunal/Documents/ResumeNLPVdart/GoogleLabelingData/Fold_Document_124/\n",
      "Document_124.pdf\n",
      "Running Number :2\n",
      "Document_124_1.jpg Document_124_2.jpg \n",
      "/Users/kunal/Documents/ResumeNLPVdart/GoogleLabelingData/Fold_Document_125/\n",
      "Document_125.pdf\n",
      "Running Number :2\n",
      "Document_125_1.jpg Document_125_2.jpg \n",
      "/Users/kunal/Documents/ResumeNLPVdart/GoogleLabelingData/Fold_Document_126/\n",
      "Document_126.pdf\n",
      "Running Number :2\n",
      "Document_126_1.jpg Document_126_2.jpg \n",
      "/Users/kunal/Documents/ResumeNLPVdart/GoogleLabelingData/Fold_Document_127/\n",
      "Document_127.pdf\n",
      "Running Number :7\n",
      "Document_127_1.jpg Document_127_2.jpg Document_127_3.jpg Document_127_4.jpg Document_127_5.jpg Document_127_6.jpg Document_127_7.jpg \n",
      "/Users/kunal/Documents/ResumeNLPVdart/GoogleLabelingData/Fold_Document_128/\n",
      "Document_128.pdf\n",
      "Running Number :1\n",
      "Document_128_1.jpg \n",
      "/Users/kunal/Documents/ResumeNLPVdart/GoogleLabelingData/Fold_Document_129/\n",
      "Document_129.pdf\n",
      "Running Number :6\n",
      "Document_129_1.jpg Document_129_2.jpg Document_129_3.jpg Document_129_4.jpg Document_129_5.jpg Document_129_6.jpg \n"
     ]
    },
    {
     "name": "stdout",
     "output_type": "stream",
     "text": [
      "/Users/kunal/Documents/ResumeNLPVdart/GoogleLabelingData/Fold_Document_130/\n",
      "Document_130.pdf\n",
      "Running Number :13\n",
      "Document_130_1.jpg Document_130_2.jpg Document_130_3.jpg Document_130_4.jpg Document_130_5.jpg Document_130_6.jpg Document_130_7.jpg Document_130_8.jpg Document_130_9.jpg Document_130_10.jpg Document_130_11.jpg Document_130_12.jpg Document_130_13.jpg \n",
      "/Users/kunal/Documents/ResumeNLPVdart/GoogleLabelingData/Fold_Document_131/\n",
      "Document_131.pdf\n",
      "Running Number :11\n",
      "Document_131_1.jpg Document_131_2.jpg Document_131_3.jpg Document_131_4.jpg Document_131_5.jpg Document_131_6.jpg Document_131_7.jpg Document_131_8.jpg Document_131_9.jpg Document_131_10.jpg Document_131_11.jpg \n",
      "/Users/kunal/Documents/ResumeNLPVdart/GoogleLabelingData/Fold_Document_132/\n",
      "Document_132.pdf\n",
      "Running Number :3\n",
      "Document_132_1.jpg Document_132_2.jpg Document_132_3.jpg \n",
      "/Users/kunal/Documents/ResumeNLPVdart/GoogleLabelingData/Fold_Document_133/\n",
      "Document_133.pdf\n",
      "Running Number :3\n",
      "Document_133_1.jpg Document_133_2.jpg Document_133_3.jpg \n",
      "/Users/kunal/Documents/ResumeNLPVdart/GoogleLabelingData/Fold_Document_134/\n",
      "Document_134.pdf\n",
      "Running Number :11\n",
      "Document_134_1.jpg Document_134_2.jpg Document_134_3.jpg Document_134_4.jpg Document_134_5.jpg Document_134_6.jpg Document_134_7.jpg Document_134_8.jpg Document_134_9.jpg Document_134_10.jpg Document_134_11.jpg \n",
      "/Users/kunal/Documents/ResumeNLPVdart/GoogleLabelingData/Fold_Document_135/\n",
      "Document_135.pdf\n",
      "Running Number :2\n",
      "Document_135_1.jpg Document_135_2.jpg \n",
      "/Users/kunal/Documents/ResumeNLPVdart/GoogleLabelingData/Fold_Document_136/\n",
      "Document_136.pdf\n",
      "Running Number :9\n",
      "Document_136_1.jpg Document_136_2.jpg Document_136_3.jpg Document_136_4.jpg Document_136_5.jpg Document_136_6.jpg Document_136_7.jpg Document_136_8.jpg Document_136_9.jpg \n",
      "/Users/kunal/Documents/ResumeNLPVdart/GoogleLabelingData/Fold_Document_137/\n",
      "Document_137.pdf\n",
      "Running Number :3\n",
      "Document_137_1.jpg Document_137_2.jpg Document_137_3.jpg \n",
      "/Users/kunal/Documents/ResumeNLPVdart/GoogleLabelingData/Fold_Document_138/\n",
      "Document_138.pdf\n",
      "Running Number :3\n",
      "Document_138_1.jpg Document_138_2.jpg Document_138_3.jpg \n",
      "/Users/kunal/Documents/ResumeNLPVdart/GoogleLabelingData/Fold_Document_139/\n",
      "Document_139.pdf\n",
      "Running Number :2\n",
      "Document_139_1.jpg Document_139_2.jpg \n",
      "/Users/kunal/Documents/ResumeNLPVdart/GoogleLabelingData/Fold_Document_140/\n",
      "Document_140.pdf\n",
      "Running Number :2\n",
      "Document_140_1.jpg Document_140_2.jpg \n",
      "/Users/kunal/Documents/ResumeNLPVdart/GoogleLabelingData/Fold_Document_141/\n",
      "Document_141.pdf\n",
      "Running Number :3\n",
      "Document_141_1.jpg Document_141_2.jpg Document_141_3.jpg \n",
      "/Users/kunal/Documents/ResumeNLPVdart/GoogleLabelingData/Fold_Document_142/\n",
      "Document_142.pdf\n",
      "Running Number :2\n",
      "Document_142_1.jpg Document_142_2.jpg \n",
      "/Users/kunal/Documents/ResumeNLPVdart/GoogleLabelingData/Fold_Document_143/\n",
      "Document_143.pdf\n",
      "Running Number :2\n",
      "Document_143_1.jpg Document_143_2.jpg \n",
      "/Users/kunal/Documents/ResumeNLPVdart/GoogleLabelingData/Fold_Document_144/\n",
      "Document_144.pdf\n",
      "Running Number :1\n",
      "Document_144_1.jpg \n",
      "/Users/kunal/Documents/ResumeNLPVdart/GoogleLabelingData/Fold_Document_145/\n",
      "Document_145.pdf\n",
      "Running Number :3\n",
      "Document_145_1.jpg Document_145_2.jpg Document_145_3.jpg \n",
      "/Users/kunal/Documents/ResumeNLPVdart/GoogleLabelingData/Fold_Document_146/\n",
      "Document_146.pdf\n",
      "Running Number :2\n",
      "Document_146_1.jpg Document_146_2.jpg \n",
      "/Users/kunal/Documents/ResumeNLPVdart/GoogleLabelingData/Fold_Document_147/\n",
      "Document_147.pdf\n",
      "Running Number :4\n",
      "Document_147_1.jpg Document_147_2.jpg Document_147_3.jpg Document_147_4.jpg \n",
      "/Users/kunal/Documents/ResumeNLPVdart/GoogleLabelingData/Fold_Document_148/\n",
      "Document_148.pdf\n",
      "Running Number :5\n",
      "Document_148_1.jpg Document_148_2.jpg Document_148_3.jpg Document_148_4.jpg Document_148_5.jpg \n",
      "/Users/kunal/Documents/ResumeNLPVdart/GoogleLabelingData/Fold_Document_149/\n",
      "Document_149.pdf\n",
      "Running Number :3\n",
      "Document_149_1.jpg Document_149_2.jpg Document_149_3.jpg \n",
      "/Users/kunal/Documents/ResumeNLPVdart/GoogleLabelingData/Fold_textF/\n",
      "textFiles\n"
     ]
    },
    {
     "ename": "FileNotFoundError",
     "evalue": "[Errno 2] No such file or directory: '/Users/kunal/Documents/ResumeNLPVdart/GoogleLabelingData/Fold_textF/textF_1.jpg'",
     "output_type": "error",
     "traceback": [
      "\u001b[1;31m---------------------------------------------------------------------------\u001b[0m",
      "\u001b[1;31mFileNotFoundError\u001b[0m                         Traceback (most recent call last)",
      "\u001b[1;32m<ipython-input-9-9e78584ecb58>\u001b[0m in \u001b[0;36m<module>\u001b[1;34m\u001b[0m\n\u001b[0;32m     19\u001b[0m             \u001b[0mprint\u001b[0m\u001b[1;33m(\u001b[0m\u001b[0mprintString\u001b[0m\u001b[1;33m)\u001b[0m\u001b[1;33m\u001b[0m\u001b[1;33m\u001b[0m\u001b[0m\n\u001b[0;32m     20\u001b[0m         \u001b[1;32mfor\u001b[0m \u001b[0mq\u001b[0m \u001b[1;32min\u001b[0m \u001b[0mrange\u001b[0m\u001b[1;33m(\u001b[0m\u001b[0mlen\u001b[0m\u001b[1;33m(\u001b[0m\u001b[0mimgName\u001b[0m\u001b[1;33m)\u001b[0m\u001b[1;33m)\u001b[0m\u001b[1;33m:\u001b[0m\u001b[1;33m\u001b[0m\u001b[1;33m\u001b[0m\u001b[0m\n\u001b[1;32m---> 21\u001b[1;33m             \u001b[0mtext\u001b[0m \u001b[1;33m=\u001b[0m \u001b[0mconvert_img_2_text\u001b[0m\u001b[1;33m(\u001b[0m\u001b[0mfolderNameCreate\u001b[0m \u001b[1;33m+\u001b[0m \u001b[0mi\u001b[0m\u001b[1;33m[\u001b[0m\u001b[1;33m:\u001b[0m\u001b[1;33m-\u001b[0m\u001b[1;36m4\u001b[0m\u001b[1;33m]\u001b[0m \u001b[1;33m+\u001b[0m \u001b[1;34m\"_\"\u001b[0m \u001b[1;33m+\u001b[0m \u001b[0mstr\u001b[0m\u001b[1;33m(\u001b[0m\u001b[0mq\u001b[0m\u001b[1;33m+\u001b[0m\u001b[1;36m1\u001b[0m\u001b[1;33m)\u001b[0m \u001b[1;33m+\u001b[0m \u001b[1;34m\".jpg\"\u001b[0m\u001b[1;33m)\u001b[0m\u001b[1;33m\u001b[0m\u001b[1;33m\u001b[0m\u001b[0m\n\u001b[0m\u001b[0;32m     22\u001b[0m             \u001b[1;32mif\u001b[0m \u001b[1;32mnot\u001b[0m \u001b[0mtext\u001b[0m \u001b[1;33m==\u001b[0m \u001b[1;34m\"\"\u001b[0m\u001b[1;33m:\u001b[0m\u001b[1;33m\u001b[0m\u001b[1;33m\u001b[0m\u001b[0m\n\u001b[0;32m     23\u001b[0m                 \u001b[1;32mif\u001b[0m \u001b[1;32mnot\u001b[0m \u001b[1;34m\"Recommendation\"\u001b[0m \u001b[1;32min\u001b[0m \u001b[0mstr\u001b[0m\u001b[1;33m(\u001b[0m\u001b[0mtext\u001b[0m\u001b[1;33m)\u001b[0m\u001b[1;33m:\u001b[0m\u001b[1;33m\u001b[0m\u001b[1;33m\u001b[0m\u001b[0m\n",
      "\u001b[1;32m<ipython-input-4-b0dfe0212366>\u001b[0m in \u001b[0;36mconvert_img_2_text\u001b[1;34m(imagePath)\u001b[0m\n\u001b[0;32m      3\u001b[0m     \u001b[0mcredentials\u001b[0m \u001b[1;33m=\u001b[0m \u001b[0mservice_account\u001b[0m\u001b[1;33m.\u001b[0m\u001b[0mCredentials\u001b[0m\u001b[1;33m.\u001b[0m\u001b[0mfrom_service_account_file\u001b[0m\u001b[1;33m(\u001b[0m\u001b[0mkeyDIR\u001b[0m\u001b[1;33m)\u001b[0m\u001b[1;33m\u001b[0m\u001b[1;33m\u001b[0m\u001b[0m\n\u001b[0;32m      4\u001b[0m     \u001b[0mclient\u001b[0m \u001b[1;33m=\u001b[0m \u001b[0mvision\u001b[0m\u001b[1;33m.\u001b[0m\u001b[0mImageAnnotatorClient\u001b[0m\u001b[1;33m(\u001b[0m\u001b[0mcredentials\u001b[0m\u001b[1;33m=\u001b[0m\u001b[0mcredentials\u001b[0m\u001b[1;33m)\u001b[0m\u001b[1;33m\u001b[0m\u001b[1;33m\u001b[0m\u001b[0m\n\u001b[1;32m----> 5\u001b[1;33m     \u001b[1;32mwith\u001b[0m \u001b[0mio\u001b[0m\u001b[1;33m.\u001b[0m\u001b[0mopen\u001b[0m\u001b[1;33m(\u001b[0m\u001b[0mimagePath\u001b[0m\u001b[1;33m,\u001b[0m \u001b[1;34m'rb'\u001b[0m\u001b[1;33m)\u001b[0m \u001b[1;32mas\u001b[0m \u001b[0mimage_file\u001b[0m\u001b[1;33m:\u001b[0m\u001b[1;33m\u001b[0m\u001b[1;33m\u001b[0m\u001b[0m\n\u001b[0m\u001b[0;32m      6\u001b[0m         \u001b[0mcontent\u001b[0m \u001b[1;33m=\u001b[0m \u001b[0mimage_file\u001b[0m\u001b[1;33m.\u001b[0m\u001b[0mread\u001b[0m\u001b[1;33m(\u001b[0m\u001b[1;33m)\u001b[0m\u001b[1;33m\u001b[0m\u001b[1;33m\u001b[0m\u001b[0m\n\u001b[0;32m      7\u001b[0m     \u001b[0mimage\u001b[0m \u001b[1;33m=\u001b[0m \u001b[0mvision\u001b[0m\u001b[1;33m.\u001b[0m\u001b[0mtypes\u001b[0m\u001b[1;33m.\u001b[0m\u001b[0mImage\u001b[0m\u001b[1;33m(\u001b[0m\u001b[0mcontent\u001b[0m\u001b[1;33m=\u001b[0m\u001b[0mcontent\u001b[0m\u001b[1;33m)\u001b[0m\u001b[1;33m\u001b[0m\u001b[1;33m\u001b[0m\u001b[0m\n",
      "\u001b[1;31mFileNotFoundError\u001b[0m: [Errno 2] No such file or directory: '/Users/kunal/Documents/ResumeNLPVdart/GoogleLabelingData/Fold_textF/textF_1.jpg'"
     ]
    }
   ],
   "source": [
    "textList = []\n",
    "numberPagesList = []\n",
    "textFile_dir = \"/Users/kunal/Documents/ResumeNLPVdart/GoogleLabelingData/textFiles\"\n",
    "for i in os.listdir(folder_pdf):\n",
    "    os.chdir(folder_pdf)\n",
    "    folderNameCreate = folder_pdf+\"Fold_\"+i[:-4]+\"/\"\n",
    "    print(folderNameCreate)\n",
    "    os.mkdir(folderNameCreate)\n",
    "    shutil.move(i,folderNameCreate)\n",
    "    os.chdir(folderNameCreate)\n",
    "    for j in os.listdir(folderNameCreate):\n",
    "        print(j)\n",
    "        if j.endswith(\".pdf\"):\n",
    "            imgName = convert_pdf_2_image(folderNameCreate, j)\n",
    "            print(\"Running Number :\" + str(len(imgName))) \n",
    "            printString = \"\"\n",
    "            for docName in imgName:\n",
    "                printString += docName + \" \" \n",
    "            print(printString)\n",
    "        for q in range(len(imgName)):\n",
    "            text = convert_img_2_text(folderNameCreate + i[:-4] + \"_\" + str(q+1) + \".jpg\")\n",
    "            if not text == \"\": \n",
    "                if not \"Recommendation\" in str(text): \n",
    "                    os.chdir(\"/Users/kunal/Documents/ResumeNLPVdart/GoogleLabelingData/textFiles\")\n",
    "                    text_file_name = textFile_dir + \"/\"+ i[:-4] + \"_\" + str(q+1) + \".txt\"\n",
    "                    with io.open(text_file_name, \"w\", encoding=\"utf-8\") as f:\n",
    "                        f.write(text)\n",
    "                    os.chdir(\"/Users/kunal/Documents/ResumeNLPVdart/GoogleLabelingData\")\n",
    "                else:\n",
    "                    print(text)\n",
    "                    checkIfRecommendation = input(\"Is there a recommendation in this? -- Y or N\")\n",
    "                    if checkIfRecommendation == \"N\":\n",
    "                        print(\"Running the Document\")\n",
    "                        os.chdir(\"/Users/kunal/Documents/ResumeNLPVdart/GoogleLabelingData/textFiles\")\n",
    "                        text_file_name = textFile_dir + \"/\"+ i[:-4] + \"_\" + str(q+1) + \".txt\"\n",
    "                        with io.open(text_file_name, \"w\", encoding=\"utf-8\") as f:\n",
    "                            f.write(text)\n",
    "                        os.chdir(\"/Users/kunal/Documents/ResumeNLPVdart/GoogleLabelingData\")\n",
    "            textList.append(text)    \n",
    "            numberPagesList.append(len(imgName))    "
   ]
  },
  {
   "cell_type": "code",
   "execution_count": null,
   "metadata": {},
   "outputs": [],
   "source": [
    "text"
   ]
  },
  {
   "cell_type": "markdown",
   "metadata": {},
   "source": [
    "## Convert to Excel"
   ]
  },
  {
   "cell_type": "code",
   "execution_count": 10,
   "metadata": {},
   "outputs": [],
   "source": [
    "textFile_dir = \"/Users/kunal/Documents/ResumeNLPVdart/GoogleLabelingData/textFiles\""
   ]
  },
  {
   "cell_type": "code",
   "execution_count": 11,
   "metadata": {},
   "outputs": [
    {
     "ename": "FileNotFoundError",
     "evalue": "[WinError 3] The system cannot find the path specified: '/Users/kunal/Documents/ResumeNLPVdart/GoogleLabelingData/textFiles'",
     "output_type": "error",
     "traceback": [
      "\u001b[1;31m---------------------------------------------------------------------------\u001b[0m",
      "\u001b[1;31mFileNotFoundError\u001b[0m                         Traceback (most recent call last)",
      "\u001b[1;32m<ipython-input-11-f3d4482b4cb4>\u001b[0m in \u001b[0;36m<module>\u001b[1;34m\u001b[0m\n\u001b[0;32m      1\u001b[0m \u001b[0mfileName\u001b[0m \u001b[1;33m=\u001b[0m \u001b[1;33m[\u001b[0m\u001b[1;33m]\u001b[0m\u001b[1;33m\u001b[0m\u001b[1;33m\u001b[0m\u001b[0m\n\u001b[1;32m----> 2\u001b[1;33m \u001b[1;32mfor\u001b[0m \u001b[0mtextFile\u001b[0m \u001b[1;32min\u001b[0m \u001b[0mos\u001b[0m\u001b[1;33m.\u001b[0m\u001b[0mlistdir\u001b[0m\u001b[1;33m(\u001b[0m\u001b[0mtextFile_dir\u001b[0m\u001b[1;33m)\u001b[0m\u001b[1;33m:\u001b[0m\u001b[1;33m\u001b[0m\u001b[1;33m\u001b[0m\u001b[0m\n\u001b[0m\u001b[0;32m      3\u001b[0m     \u001b[0mfileName\u001b[0m\u001b[1;33m.\u001b[0m\u001b[0mappend\u001b[0m\u001b[1;33m(\u001b[0m\u001b[1;33m[\u001b[0m\u001b[1;34m\"gs://input_resumes_pdf/textFiles/\"\u001b[0m\u001b[1;33m+\u001b[0m\u001b[0mtextFile\u001b[0m\u001b[1;33m]\u001b[0m\u001b[1;33m)\u001b[0m\u001b[1;33m\u001b[0m\u001b[1;33m\u001b[0m\u001b[0m\n",
      "\u001b[1;31mFileNotFoundError\u001b[0m: [WinError 3] The system cannot find the path specified: '/Users/kunal/Documents/ResumeNLPVdart/GoogleLabelingData/textFiles'"
     ]
    }
   ],
   "source": [
    "fileName = []\n",
    "for textFile in os.listdir(textFile_dir):\n",
    "    fileName.append([\"gs://input_resumes_pdf/textFiles/\"+textFile])"
   ]
  },
  {
   "cell_type": "code",
   "execution_count": 12,
   "metadata": {},
   "outputs": [],
   "source": [
    "os.chdir(\"/Users/kunal/Documents/ResumeNLPVdart/GoogleLabelingData\")\n",
    "df = pd.DataFrame(fileName)\n",
    "EXCELFILENAMESent = \"textFilePaths.csv\"\n",
    "pd.DataFrame(df).to_csv(EXCELFILENAMESent)"
   ]
  },
  {
   "cell_type": "markdown",
   "metadata": {},
   "source": [
    "# Test Sentiment"
   ]
  },
  {
   "cell_type": "code",
   "execution_count": 15,
   "metadata": {},
   "outputs": [],
   "source": [
    "# Imports the Google Cloud client library\n",
    "from google.cloud import language\n",
    "from google.cloud.language import enums\n",
    "from google.cloud.language import types\n",
    "from google.oauth2 import service_account\n",
    "from google.cloud import language_v1\n",
    "from google.cloud.language_v1 import enums"
   ]
  },
  {
   "cell_type": "code",
   "execution_count": null,
   "metadata": {},
   "outputs": [],
   "source": []
  },
  {
   "cell_type": "code",
   "execution_count": null,
   "metadata": {},
   "outputs": [],
   "source": []
  },
  {
   "cell_type": "code",
   "execution_count": 21,
   "metadata": {},
   "outputs": [],
   "source": [
    "x =[4,5,3]\n",
    "y = [3.3,5]"
   ]
  },
  {
   "cell_type": "code",
   "execution_count": 22,
   "metadata": {},
   "outputs": [],
   "source": [
    "x.extend(y)"
   ]
  },
  {
   "cell_type": "code",
   "execution_count": 23,
   "metadata": {},
   "outputs": [
    {
     "data": {
      "text/plain": [
       "[4, 5, 3, 3.3, 5]"
      ]
     },
     "execution_count": 23,
     "metadata": {},
     "output_type": "execute_result"
    }
   ],
   "source": [
    "x"
   ]
  },
  {
   "cell_type": "code",
   "execution_count": null,
   "metadata": {},
   "outputs": [],
   "source": []
  }
 ],
 "metadata": {
  "kernelspec": {
   "display_name": "Python 3",
   "language": "python",
   "name": "python3"
  },
  "language_info": {
   "codemirror_mode": {
    "name": "ipython",
    "version": 3
   },
   "file_extension": ".py",
   "mimetype": "text/x-python",
   "name": "python",
   "nbconvert_exporter": "python",
   "pygments_lexer": "ipython3",
   "version": "3.7.4"
  },
  "toc": {
   "base_numbering": 1,
   "nav_menu": {},
   "number_sections": true,
   "sideBar": true,
   "skip_h1_title": false,
   "title_cell": "Table of Contents",
   "title_sidebar": "Contents",
   "toc_cell": false,
   "toc_position": {
    "height": "calc(100% - 180px)",
    "left": "10px",
    "top": "150px",
    "width": "165px"
   },
   "toc_section_display": true,
   "toc_window_display": true
  }
 },
 "nbformat": 4,
 "nbformat_minor": 2
}
