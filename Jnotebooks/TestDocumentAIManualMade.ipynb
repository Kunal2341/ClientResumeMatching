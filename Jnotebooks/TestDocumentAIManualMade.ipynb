{
 "cells": [
  {
   "cell_type": "markdown",
   "metadata": {},
   "source": [
    "# Import"
   ]
  },
  {
   "cell_type": "code",
   "execution_count": 6,
   "metadata": {},
   "outputs": [],
   "source": [
    "from google.cloud import documentai_v1beta2 as documentai\n",
    "from google.oauth2 import service_account #Control API Keys\n",
    "from matplotlib import pyplot as plt\n",
    "from PIL import Image, ImageDraw, ImageFont\n",
    "# import the necessary packages\n",
    "import cv2"
   ]
  },
  {
   "cell_type": "markdown",
   "metadata": {},
   "source": [
    "# API Setup"
   ]
  },
  {
   "cell_type": "code",
   "execution_count": 7,
   "metadata": {},
   "outputs": [],
   "source": [
    "keyDIR = \"/Users/kunal/Documents/VdartResumeProject/APIKEYSGOOGLE/resumeMatcher-documentAI.json\""
   ]
  },
  {
   "cell_type": "code",
   "execution_count": 8,
   "metadata": {},
   "outputs": [],
   "source": [
    "credentials = service_account.Credentials.from_service_account_file(keyDIR) #using service account to go through google\n",
    "client = documentai.DocumentUnderstandingServiceClient(credentials=credentials)\n",
    "gcs_source = documentai.types.GcsSource(uri=\"gs://document_ai_resume/Document_44.pdf\")"
   ]
  },
  {
   "cell_type": "code",
   "execution_count": 9,
   "metadata": {},
   "outputs": [],
   "source": [
    "# mime_type can be application/pdf, image/tiff,\n",
    "# and image/gif, or application/json\n",
    "input_config = documentai.types.InputConfig(gcs_source=gcs_source, mime_type='application/pdf')"
   ]
  },
  {
   "cell_type": "code",
   "execution_count": 10,
   "metadata": {},
   "outputs": [],
   "source": [
    "def _get_text(el, document):\n",
    "    \"\"\"Doc AI identifies form fields by their offsets\n",
    "    in document text. This function converts offsets\n",
    "    to text snippets.\n",
    "    \"\"\"\n",
    "    response = ''\n",
    "    # If a text segment spans several lines, it will\n",
    "    # be stored in different text segments.\n",
    "    for segment in el.text_anchor.text_segments:\n",
    "        start_index = segment.start_index\n",
    "        end_index = segment.end_index\n",
    "        response += document.text[start_index:end_index]\n",
    "    return response"
   ]
  },
  {
   "cell_type": "markdown",
   "metadata": {},
   "source": [
    "# Setting up for snipping"
   ]
  },
  {
   "cell_type": "code",
   "execution_count": 11,
   "metadata": {},
   "outputs": [],
   "source": [
    "# initialize the list of reference points and boolean indicating\n",
    "# whether cropping is being performed or not\n",
    "refPt = []\n",
    "cropping = False\n",
    "def click_and_crop(event, x, y, flags, param):\n",
    "    # grab references to the global variables\n",
    "    global refPt, cropping\n",
    "    # if the left mouse button was clicked, record the starting\n",
    "    # (x, y) coordinates and indicate that cropping is being\n",
    "    # performed\n",
    "    if event == cv2.EVENT_LBUTTONDOWN:\n",
    "        refPt = [(x, y)]\n",
    "        cropping = True\n",
    "    # check to see if the left mouse button was released\n",
    "    elif event == cv2.EVENT_LBUTTONUP:\n",
    "        # record the ending (x, y) coordinates and indicate that\n",
    "        # the cropping operation is finished\n",
    "        refPt.append((x, y))\n",
    "        cropping = False\n",
    "        # draw a rectangle around the region of interest\n",
    "        #cv2.rectangle(image, refPt[0], refPt[1], (0, 255, 0), 2)\n",
    "        #cv2.imshow(\"image\", image)"
   ]
  },
  {
   "cell_type": "markdown",
   "metadata": {},
   "source": [
    "# Now"
   ]
  },
  {
   "cell_type": "code",
   "execution_count": 12,
   "metadata": {},
   "outputs": [],
   "source": [
    "def calcMatrixFromPic(pathImg, sizePortion, disply):\n",
    "    print(\"New Window Opened\")\n",
    "    print(\"Just click and hold where you want the top right of the picture selected and  drag to the bottom right end of \" + \n",
    "          \"where you want the rectangual to end.\\n Once you let go of holding the click, double click \\\"C\\\" and done\")\n",
    "    imagePath = pathImg\n",
    "    img = Image.open(imagePath)\n",
    "    x,y = img.size\n",
    "    # load the image, clone it, and setup the mouse callback function\n",
    "    image = cv2.imread(imagePath)\n",
    "    clone = image.copy()\n",
    "    cv2.namedWindow(\"image\")\n",
    "    image = cv2.resize(image, (int(x/sizePortion), int(y/sizePortion)))   \n",
    "    cv2.setMouseCallback(\"image\", click_and_crop)\n",
    "    # keep looping until the 'q' key is pressed\n",
    "    while True:\n",
    "        # display the image and wait for a keypress\n",
    "        cv2.imshow(\"image\", image)\n",
    "        key = cv2.waitKey(1) & 0xFF\n",
    "        # if the 'r' key is pressed, reset the cropping region\n",
    "        if key == ord(\"r\"):\n",
    "            image = clone.copy()\n",
    "        # if the 'c' key is pressed, break from the loop\n",
    "        elif key == ord(\"c\"):\n",
    "            break\n",
    "    # if there are two reference points, then crop the region of interest\n",
    "    # from teh image and display it\n",
    "    if len(refPt) == 2:\n",
    "        roi = clone[refPt[0][1]:refPt[1][1], refPt[0][0]:refPt[1][0]]\n",
    "        cv2.imshow(\"ROI\", roi)\n",
    "        cv2.waitKey(0)\n",
    "    # close all open windows\n",
    "    cv2.destroyAllWindows()\n",
    "    TINT_COLOR = (90, 200, 10)\n",
    "    img = Image.open(imagePath)\n",
    "    img = img.convert(\"RGBA\")\n",
    "    overlay = Image.new('RGBA', img.size, TINT_COLOR+(0,))\n",
    "    draw = ImageDraw.Draw(overlay)  # Create a context for drawing things on it.\n",
    "    img = Image.alpha_composite(img, overlay)\n",
    "    img = img.convert(\"RGB\") # Remove alpha for saving in jpg format.\n",
    "    im1 = img.crop((refPt[0][0]*sizePortion, refPt[0][1]*sizePortion, refPt[1][0]*sizePortion, refPt[1][1]*sizePortion))\n",
    "    if disply:\n",
    "        display(im1)\n",
    "    return (refPt[0][0]*sizePortion, refPt[0][1]*sizePortion, refPt[1][0]*sizePortion, refPt[1][1]*sizePortion)"
   ]
  },
  {
   "cell_type": "code",
   "execution_count": 13,
   "metadata": {},
   "outputs": [],
   "source": [
    "def convert2CornersTuple2Matrix4Corner(cornersXY):\n",
    "    return ((cornersXY[0], cornersXY[1]), (cornersXY[2], cornersXY[1]), (cornersXY[2], cornersXY[3]), (cornersXY[0], cornersXY[3]))"
   ]
  },
  {
   "cell_type": "code",
   "execution_count": 14,
   "metadata": {},
   "outputs": [],
   "source": [
    "def convertMatrix2NormalizedVertices(matrix, width, height):\n",
    "    # Improve table parsing results by providing bounding boxes\n",
    "    # specifying where the box appears in the document (optional)\n",
    "    \n",
    "    bound = documentai.types.TableBoundHint(\n",
    "            page_number=1,\n",
    "            bounding_box=documentai.types.BoundingPoly(\n",
    "                # Define a polygon around tables to detect\n",
    "                # Each vertice coordinate must be a number between 0 and 1\n",
    "                normalized_vertices=[\n",
    "                    # Top left\n",
    "                    documentai.types.geometry.NormalizedVertex(\n",
    "                        x=matrix[0][0]/width,\n",
    "                        y=matrix[0][1]/height\n",
    "                    ),\n",
    "                    # Top right\n",
    "                    documentai.types.geometry.NormalizedVertex(\n",
    "                        x=matrix[1][0]/width,\n",
    "                        y=matrix[1][1]/height\n",
    "                    ),\n",
    "                    # Bottom right\n",
    "                    documentai.types.geometry.NormalizedVertex(\n",
    "                        x=matrix[2][0]/width,\n",
    "                        y=matrix[2][1]/height\n",
    "                    ),\n",
    "                    # Bottom left\n",
    "                    documentai.types.geometry.NormalizedVertex(\n",
    "                        x=matrix[3][0]/width,\n",
    "                        y=matrix[3][1]/height\n",
    "                    )\n",
    "                ]\n",
    "            )\n",
    "        )\n",
    "    return bound"
   ]
  },
  {
   "cell_type": "markdown",
   "metadata": {},
   "source": [
    "# Do your own Manual"
   ]
  },
  {
   "cell_type": "code",
   "execution_count": 15,
   "metadata": {},
   "outputs": [],
   "source": [
    "#XY2MATRIX = calcMatrixFromPic(imgPath, 2, True)\n",
    "#matrix = convert2CornersTuple2Matrix4Corner(XY2MATRIX)\n",
    "#bound = convertMatrix2NormalizedVertices(matrix)\n",
    "#print(matrix)\n",
    "#table_bound_hints.append(bound)"
   ]
  },
  {
   "cell_type": "code",
   "execution_count": null,
   "metadata": {},
   "outputs": [],
   "source": []
  },
  {
   "cell_type": "code",
   "execution_count": 16,
   "metadata": {},
   "outputs": [],
   "source": [
    "table_bound_hints = []"
   ]
  },
  {
   "cell_type": "markdown",
   "metadata": {},
   "source": [
    "# Automatic"
   ]
  },
  {
   "cell_type": "code",
   "execution_count": 17,
   "metadata": {},
   "outputs": [],
   "source": [
    "imgPath = \"/Users/kunal/Documents/VdartResumeProject/VisionAPi/Document_44_1.jpg\"\n",
    "table_bound_hints = []"
   ]
  },
  {
   "cell_type": "code",
   "execution_count": 18,
   "metadata": {},
   "outputs": [
    {
     "name": "stdout",
     "output_type": "stream",
     "text": [
      "Do you want a new boundno\n"
     ]
    }
   ],
   "source": [
    "doubleCheck = False\n",
    "while True:\n",
    "    newBound = input(\"Do you want a new bound\")\n",
    "    if (newBound == \"\" or newBound == \"yes\" or newBound == \"Yes\") and doubleCheck:\n",
    "        XY2MATRIX = calcMatrixFromPic(imgPath, 2, True)\n",
    "        matrix = convert2CornersTuple2Matrix4Corner(XY2MATRIX)\n",
    "        img = Image.open(imgPath)\n",
    "        x,y = img.size\n",
    "        bound = convertMatrix2NormalizedVertices(matrix,x,y)\n",
    "        print(matrix)\n",
    "        table_bound_hints.append(bound)\n",
    "        doubleCheck = False\n",
    "    elif newBound == \"\" or newBound == \"yes\" or newBound == \"Yes\":\n",
    "        doubleCheck = True\n",
    "    elif newBound == \"no\" or newBound == \"No\":\n",
    "        break"
   ]
  },
  {
   "cell_type": "code",
   "execution_count": null,
   "metadata": {},
   "outputs": [],
   "source": []
  },
  {
   "cell_type": "markdown",
   "metadata": {},
   "source": [
    "# After"
   ]
  },
  {
   "cell_type": "code",
   "execution_count": 19,
   "metadata": {},
   "outputs": [],
   "source": [
    "# Setting enabled=True enables form extraction\n",
    "table_extraction_params = documentai.types.TableExtractionParams(enabled=True, table_bound_hints=table_bound_hints)\n",
    "# Location can be 'us' or 'eu'\n",
    "parent = 'projects/{}/locations/us'.format(\"resumematcher\")\n",
    "request = documentai.types.ProcessDocumentRequest(\n",
    "    parent=parent,\n",
    "    input_config=input_config,\n",
    "    table_extraction_params=table_extraction_params)\n",
    "document = client.process_document(request=request)\n",
    "documentFormParser = document"
   ]
  },
  {
   "cell_type": "code",
   "execution_count": null,
   "metadata": {},
   "outputs": [],
   "source": []
  },
  {
   "cell_type": "code",
   "execution_count": 35,
   "metadata": {},
   "outputs": [],
   "source": [
    "dfArray = []\n",
    "tableGroups = []\n",
    "for page in document.pages:\n",
    "    tablesPerPage = []\n",
    "    dfArray.append('Page number: {}'.format(page.page_number))\n",
    "    for table_num, table in enumerate(page.tables):\n",
    "        dfArray.append('Table {}: '.format(table_num))\n",
    "        singleTable = []\n",
    "        for row_num, row in enumerate(table.header_rows):\n",
    "            cells = ''.join([_get_text(cell.layout, documentFormParser) for cell in row.cells])\n",
    "            dfArray.append('Header Row {}: {}'.format(row_num, cells))\n",
    "            singleTable.append([\"Header\",row_num,cells])\n",
    "        for row_num, row in enumerate(table.body_rows):\n",
    "            cells = ''.join([_get_text(cell.layout, documentFormParser) for cell in row.cells])\n",
    "            dfArray.append('Row {}: {}'.format(row_num, cells))\n",
    "            singleTable.append([\"Row\", row_num, cells])\n",
    "        tablesPerPage.append([singleTable, table_num])\n",
    "    tableGroups.append([tablesPerPage, page.page_number])"
   ]
  },
  {
   "cell_type": "code",
   "execution_count": 37,
   "metadata": {},
   "outputs": [],
   "source": [
    "import pandas as pd"
   ]
  },
  {
   "cell_type": "code",
   "execution_count": 39,
   "metadata": {},
   "outputs": [],
   "source": [
    "dfTables = pd.DataFrame(dfArray)"
   ]
  },
  {
   "cell_type": "code",
   "execution_count": 40,
   "metadata": {},
   "outputs": [
    {
     "data": {
      "text/html": [
       "<div>\n",
       "<style scoped>\n",
       "    .dataframe tbody tr th:only-of-type {\n",
       "        vertical-align: middle;\n",
       "    }\n",
       "\n",
       "    .dataframe tbody tr th {\n",
       "        vertical-align: top;\n",
       "    }\n",
       "\n",
       "    .dataframe thead th {\n",
       "        text-align: right;\n",
       "    }\n",
       "</style>\n",
       "<table border=\"1\" class=\"dataframe\">\n",
       "  <thead>\n",
       "    <tr style=\"text-align: right;\">\n",
       "      <th></th>\n",
       "      <th>0</th>\n",
       "    </tr>\n",
       "  </thead>\n",
       "  <tbody>\n",
       "    <tr>\n",
       "      <th>0</th>\n",
       "      <td>Page number: 1</td>\n",
       "    </tr>\n",
       "    <tr>\n",
       "      <th>1</th>\n",
       "      <td>Table 0:</td>\n",
       "    </tr>\n",
       "    <tr>\n",
       "      <th>2</th>\n",
       "      <td>Header Row 0: Finance Consultant, Consulting E...</td>\n",
       "    </tr>\n",
       "    <tr>\n",
       "      <th>3</th>\n",
       "      <td>Row 0: • Interim o o o Director Of Finance &amp; I...</td>\n",
       "    </tr>\n",
       "    <tr>\n",
       "      <th>4</th>\n",
       "      <td>Row 1: 95% decrease in quarterly commissions c...</td>\n",
       "    </tr>\n",
       "    <tr>\n",
       "      <th>5</th>\n",
       "      <td>Row 2: • IT Finance Consultant, McKesson (Enga...</td>\n",
       "    </tr>\n",
       "    <tr>\n",
       "      <th>6</th>\n",
       "      <td>Row 3: o o o Issue &amp; Scope: IT Business Unit h...</td>\n",
       "    </tr>\n",
       "    <tr>\n",
       "      <th>7</th>\n",
       "      <td>Row 4: • IT Finance Manager, Floor &amp; Décor (En...</td>\n",
       "    </tr>\n",
       "    <tr>\n",
       "      <th>8</th>\n",
       "      <td>Row 5: o Issue &amp; Scope: IT Business Unit had l...</td>\n",
       "    </tr>\n",
       "    <tr>\n",
       "      <th>9</th>\n",
       "      <td>Row 6: o o Tools &amp; Analysis: Excel, with integ...</td>\n",
       "    </tr>\n",
       "    <tr>\n",
       "      <th>10</th>\n",
       "      <td>Row 7: Business Controller, prepaid expenses &amp;...</td>\n",
       "    </tr>\n",
       "    <tr>\n",
       "      <th>11</th>\n",
       "      <td>Row 8: • Strategic o o o Management\\nIssue &amp; S...</td>\n",
       "    </tr>\n",
       "    <tr>\n",
       "      <th>12</th>\n",
       "      <td>Row 9: • Financial Capital Management\\n</td>\n",
       "    </tr>\n",
       "    <tr>\n",
       "      <th>13</th>\n",
       "      <td>Row 10: o Issue &amp; Scope: Company had limited a...</td>\n",
       "    </tr>\n",
       "    <tr>\n",
       "      <th>14</th>\n",
       "      <td>Row 11: o Tools &amp; Analysis: Developed Excel mo...</td>\n",
       "    </tr>\n",
       "    <tr>\n",
       "      <th>15</th>\n",
       "      <td>Row 12: • o Financial Findings &amp; Results: Revi...</td>\n",
       "    </tr>\n",
       "    <tr>\n",
       "      <th>16</th>\n",
       "      <td>Row 13: o o o Issue &amp; Scope: Monthly close pro...</td>\n",
       "    </tr>\n",
       "    <tr>\n",
       "      <th>17</th>\n",
       "      <td>Row 14: Business Analysis Manager/Portfolio An...</td>\n",
       "    </tr>\n",
       "    <tr>\n",
       "      <th>18</th>\n",
       "      <td>Row 15: • Revenue o Management\\nIssue &amp; Scope:...</td>\n",
       "    </tr>\n",
       "    <tr>\n",
       "      <th>19</th>\n",
       "      <td>Page number: 2</td>\n",
       "    </tr>\n",
       "    <tr>\n",
       "      <th>20</th>\n",
       "      <td>Table 0:</td>\n",
       "    </tr>\n",
       "    <tr>\n",
       "      <th>21</th>\n",
       "      <td>Header Row 0: • Ally Financial (Engaged by Dar...</td>\n",
       "    </tr>\n",
       "    <tr>\n",
       "      <th>22</th>\n",
       "      <td>Row 0: • • • Wells Fargo (Engaged by S3): Led ...</td>\n",
       "    </tr>\n",
       "    <tr>\n",
       "      <th>23</th>\n",
       "      <td>Row 1: • Hearst Corp. (Engaged by Jefferson We...</td>\n",
       "    </tr>\n",
       "    <tr>\n",
       "      <th>24</th>\n",
       "      <td>Table 1:</td>\n",
       "    </tr>\n",
       "    <tr>\n",
       "      <th>25</th>\n",
       "      <td>Header Row 0: Excel: Nested conditionals (IF, ...</td>\n",
       "    </tr>\n",
       "    <tr>\n",
       "      <th>26</th>\n",
       "      <td>Row 0: Access: Table creation/update; Query de...</td>\n",
       "    </tr>\n",
       "    <tr>\n",
       "      <th>27</th>\n",
       "      <td>Row 1: PowerPoint: Integrating live Excel files\\n</td>\n",
       "    </tr>\n",
       "    <tr>\n",
       "      <th>28</th>\n",
       "      <td>Row 2: Word: Integrating live Excel files; Aut...</td>\n",
       "    </tr>\n",
       "    <tr>\n",
       "      <th>29</th>\n",
       "      <td>Row 3: Visio: Creating &amp; updating process flow...</td>\n",
       "    </tr>\n",
       "    <tr>\n",
       "      <th>30</th>\n",
       "      <td>Row 4: EDUCATION / CERTIFICATION / PROFESSIONA...</td>\n",
       "    </tr>\n",
       "    <tr>\n",
       "      <th>31</th>\n",
       "      <td>Table 2:</td>\n",
       "    </tr>\n",
       "    <tr>\n",
       "      <th>32</th>\n",
       "      <td>Header Row 0: MBA in Management, University of...</td>\n",
       "    </tr>\n",
       "    <tr>\n",
       "      <th>33</th>\n",
       "      <td>Row 0: M.S.B.A. Finance, San Diego State Unive...</td>\n",
       "    </tr>\n",
       "    <tr>\n",
       "      <th>34</th>\n",
       "      <td>Row 1: B.S. with Honors in Accounting, Illinoi...</td>\n",
       "    </tr>\n",
       "    <tr>\n",
       "      <th>35</th>\n",
       "      <td>Row 2: Certified Public Accountant (CPA), Acti...</td>\n",
       "    </tr>\n",
       "    <tr>\n",
       "      <th>36</th>\n",
       "      <td>Row 3: AICPA, 2005-Present; NCACPA, 2005-Prese...</td>\n",
       "    </tr>\n",
       "    <tr>\n",
       "      <th>37</th>\n",
       "      <td>Row 4: Published &amp; Presented: Primary author o...</td>\n",
       "    </tr>\n",
       "  </tbody>\n",
       "</table>\n",
       "</div>"
      ],
      "text/plain": [
       "                                                    0\n",
       "0                                      Page number: 1\n",
       "1                                           Table 0: \n",
       "2   Header Row 0: Finance Consultant, Consulting E...\n",
       "3   Row 0: • Interim o o o Director Of Finance & I...\n",
       "4   Row 1: 95% decrease in quarterly commissions c...\n",
       "5   Row 2: • IT Finance Consultant, McKesson (Enga...\n",
       "6   Row 3: o o o Issue & Scope: IT Business Unit h...\n",
       "7   Row 4: • IT Finance Manager, Floor & Décor (En...\n",
       "8   Row 5: o Issue & Scope: IT Business Unit had l...\n",
       "9   Row 6: o o Tools & Analysis: Excel, with integ...\n",
       "10  Row 7: Business Controller, prepaid expenses &...\n",
       "11  Row 8: • Strategic o o o Management\\nIssue & S...\n",
       "12            Row 9: • Financial Capital Management\\n\n",
       "13  Row 10: o Issue & Scope: Company had limited a...\n",
       "14  Row 11: o Tools & Analysis: Developed Excel mo...\n",
       "15  Row 12: • o Financial Findings & Results: Revi...\n",
       "16  Row 13: o o o Issue & Scope: Monthly close pro...\n",
       "17  Row 14: Business Analysis Manager/Portfolio An...\n",
       "18  Row 15: • Revenue o Management\\nIssue & Scope:...\n",
       "19                                     Page number: 2\n",
       "20                                          Table 0: \n",
       "21  Header Row 0: • Ally Financial (Engaged by Dar...\n",
       "22  Row 0: • • • Wells Fargo (Engaged by S3): Led ...\n",
       "23  Row 1: • Hearst Corp. (Engaged by Jefferson We...\n",
       "24                                          Table 1: \n",
       "25  Header Row 0: Excel: Nested conditionals (IF, ...\n",
       "26  Row 0: Access: Table creation/update; Query de...\n",
       "27  Row 1: PowerPoint: Integrating live Excel files\\n\n",
       "28  Row 2: Word: Integrating live Excel files; Aut...\n",
       "29  Row 3: Visio: Creating & updating process flow...\n",
       "30  Row 4: EDUCATION / CERTIFICATION / PROFESSIONA...\n",
       "31                                          Table 2: \n",
       "32  Header Row 0: MBA in Management, University of...\n",
       "33  Row 0: M.S.B.A. Finance, San Diego State Unive...\n",
       "34  Row 1: B.S. with Honors in Accounting, Illinoi...\n",
       "35  Row 2: Certified Public Accountant (CPA), Acti...\n",
       "36  Row 3: AICPA, 2005-Present; NCACPA, 2005-Prese...\n",
       "37  Row 4: Published & Presented: Primary author o..."
      ]
     },
     "execution_count": 40,
     "metadata": {},
     "output_type": "execute_result"
    }
   ],
   "source": [
    "dfTables"
   ]
  },
  {
   "cell_type": "code",
   "execution_count": 33,
   "metadata": {},
   "outputs": [
    {
     "name": "stdout",
     "output_type": "stream",
     "text": [
      "Page number: 1\n",
      "Table 0: \n",
      "Header Row 0: Finance Consultant, Consulting Engagements (3 Firms), 2018-2020\n",
      "\n",
      "Row 0: • Interim o o o Director Of Finance & Interim Controller, Aptitude Health (Engaged by RGP), 2019-2020\n",
      "Issue & Scope: Director Of Finance for $17 Million multi-entity organization resigned with short notice\n",
      "Tools & Analysis: Intacct & Excel\n",
      "Findings & Results: Fulfilled month-end & year-end responsibilities with minimal training & guidance,\n",
      "enabling organization to continue financial operations without disruption; Performed analysis that yielded\n",
      "\n",
      "Row 1: 95% decrease in quarterly commissions calculations time; Improved financial processes\n",
      "\n",
      "Row 2: • IT Finance Consultant, McKesson (Engaged by Strive Consulting), 2019\n",
      "\n",
      "Row 3: o o o Issue & Scope: IT Business Unit had limited visibility into financial results for $140 Million budget\n",
      "Tools & Analysis: Excel, with integrated PowerPoint refresh, of financial & project/program data\n",
      "Findings & Results: Built streamlined processes to incorporate structure and simplify IT-Finance\n",
      "relationship, enabling Directors to explain almost 100% of their variances\n",
      "\n",
      "Row 4: • IT Finance Manager, Floor & Décor (Engaged by Insight Global), 2018-2019\n",
      "\n",
      "Row 5: o Issue & Scope: IT Business Unit had limited visibility into financial results for $26 Million budget\n",
      "\n",
      "Row 6: o o Tools & Analysis: Excel, with integrated PowerPoint refresh, of financial & project/program data\n",
      "Findings & Results: Implemented process improvements to strengthen accounting controls around\n",
      "\n",
      "Row 7: Business Controller, prepaid expenses & amortization, leveraged Excel to enable explanation of 100% of financial variances\n",
      "BlueFin Payment Systems, 2016-2017\n",
      "\n",
      "Row 8: • Strategic o o o Management\n",
      "Issue & Scope: $200 Million annual revenue; company attempting to become profitable\n",
      "Tools & Analysis: Access and Excel, with integrated PowerPoint refresh, of financial & operational data\n",
      "Findings & Results: Recommended 5-year shift toward more profitable unit to achieve 15% net profit\n",
      "\n",
      "Row 9: • Financial Capital Management\n",
      "\n",
      "Row 10: o Issue & Scope: Company had limited access to revolving line of credit to fuel growth\n",
      "\n",
      "Row 11: o Tools & Analysis: Developed Excel model to integrate 5-year forecasted financial statements\n",
      "\n",
      "Row 12: • o Financial Findings & Results: Revised debt covenant metrics allowed increased access to capital\n",
      "Process Management\n",
      "\n",
      "Row 13: o o o Issue & Scope: Monthly close process took 30+ days, and budgeting cycle took 4+ months\n",
      "Tools & Analysis: Excel, Intacct, and partnered with SQL & business intelligence tool experts\n",
      "Findings & Results: Decreased monthly close process to 15 days; decreased budgeting cycle to 2 months\n",
      "\n",
      "Row 14: Business Analysis Manager/Portfolio Analyst, FirstData, 2014-2016\n",
      "\n",
      "Row 15: • Revenue o Management\n",
      "Issue & Scope: $1 Billion annual revenue from eCommerce products portfolio\n",
      "\n",
      "Page number: 2\n",
      "Table 0: \n",
      "Header Row 0: • Ally Financial (Engaged by Darton Group): Achieved Basel II compliance by completing 1,000-item data lineage\n",
      "\n",
      "Row 0: • • • Wells Fargo (Engaged by S3): Led calls with overseas operations partners; resolved issues, streamlined processes\n",
      "Wachovia (Engaged by ManPower Group): Saved $20 million by purchase consolidation of technology programs\n",
      "SmartOnline (Engaged by Jefferson Wells/ManPower Group): Led team of 3 senior consultants to achieve\n",
      "Sarbanes-Oxley (SOX) compliance at client which experienced securities fraud\n",
      "\n",
      "Row 1: • Hearst Corp. (Engaged by Jefferson Wells/ManPower Group): Achieved annual Sarbanes-Oxley (SOX)\n",
      "compliance by performing Section 404 testing and recommending process improvements\n",
      "\n",
      "Table 1: \n",
      "Header Row 0: Excel: Nested conditionals (IF, SUMIF, SUMIFS, etc.); Referencing (VLOOKUP, HLOOKUP); Pivots; Light Macros\n",
      "\n",
      "Row 0: Access: Table creation/update; Query design\n",
      "\n",
      "Row 1: PowerPoint: Integrating live Excel files\n",
      "\n",
      "Row 2: Word: Integrating live Excel files; Automatic Table Of Contents; Automatic Indexing\n",
      "\n",
      "Row 3: Visio: Creating & updating process flows\n",
      "Intacct (Cloud-based ERP like QuickBooks): Writing reports; Extracting data\n",
      "\n",
      "Row 4: EDUCATION / CERTIFICATION / PROFESSIONAL AFFILIATIONS\n",
      "\n",
      "Table 2: \n",
      "Header Row 0: MBA in Management, University of North Carolina at Charlotte, 2006\n",
      "M.S. Economics, University of North Carolina at Charlotte, 2005\n",
      "\n",
      "Row 0: M.S.B.A. Finance, San Diego State University, 2001\n",
      "\n",
      "Row 1: B.S. with Honors in Accounting, Illinois State University, 1998\n",
      "\n",
      "Row 2: Certified Public Accountant (CPA), Active in North Carolina since 2005\n",
      "\n",
      "Row 3: AICPA, 2005-Present; NCACPA, 2005-Present; IMA, 2006-Present\n",
      "\n",
      "Row 4: Published & Presented: Primary author of “Competitive Balance and Fan Interest in the National Football League”;\n",
      "presented at American Society of Business and Behavioral Sciences (ASBBS) Conference, Feb. 2007\n",
      "\n"
     ]
    }
   ],
   "source": [
    "workExperience = []\n",
    "for page in document.pages:\n",
    "    print('Page number: {}'.format(page.page_number))\n",
    "    for table_num, table in enumerate(page.tables):\n",
    "        print('Table {}: '.format(table_num))\n",
    "        for row_num, row in enumerate(table.header_rows):\n",
    "            cells = ''.join([_get_text(cell.layout, documentFormParser) for cell in row.cells])\n",
    "            print('Header Row {}: {}'.format(row_num, cells))\n",
    "            workExperience.append(cells)\n",
    "        for row_num, row in enumerate(table.body_rows):\n",
    "            cells = ''.join([_get_text(cell.layout, documentFormParser) for cell in row.cells])\n",
    "            print('Row {}: {}'.format(row_num, cells))"
   ]
  },
  {
   "cell_type": "code",
   "execution_count": 34,
   "metadata": {},
   "outputs": [
    {
     "data": {
      "text/plain": [
       "['Finance Consultant, Consulting Engagements (3 Firms), 2018-2020\\n',\n",
       " '• Ally Financial (Engaged by Darton Group): Achieved Basel II compliance by completing 1,000-item data lineage\\n',\n",
       " 'Excel: Nested conditionals (IF, SUMIF, SUMIFS, etc.); Referencing (VLOOKUP, HLOOKUP); Pivots; Light Macros\\n',\n",
       " 'MBA in Management, University of North Carolina at Charlotte, 2006\\nM.S. Economics, University of North Carolina at Charlotte, 2005\\n']"
      ]
     },
     "execution_count": 34,
     "metadata": {},
     "output_type": "execute_result"
    }
   ],
   "source": [
    "workExperience"
   ]
  },
  {
   "cell_type": "code",
   "execution_count": null,
   "metadata": {},
   "outputs": [],
   "source": []
  },
  {
   "cell_type": "code",
   "execution_count": null,
   "metadata": {},
   "outputs": [],
   "source": []
  },
  {
   "cell_type": "code",
   "execution_count": null,
   "metadata": {},
   "outputs": [],
   "source": []
  },
  {
   "cell_type": "code",
   "execution_count": null,
   "metadata": {},
   "outputs": [],
   "source": [
    "workExperience "
   ]
  },
  {
   "cell_type": "code",
   "execution_count": 23,
   "metadata": {},
   "outputs": [
    {
     "data": {
      "text/plain": [
       "2"
      ]
     },
     "execution_count": 23,
     "metadata": {},
     "output_type": "execute_result"
    }
   ],
   "source": [
    "len(tableGroups)"
   ]
  },
  {
   "cell_type": "code",
   "execution_count": 24,
   "metadata": {},
   "outputs": [
    {
     "data": {
      "text/plain": [
       "2"
      ]
     },
     "execution_count": 24,
     "metadata": {},
     "output_type": "execute_result"
    }
   ],
   "source": [
    "len(tableGroups[0])"
   ]
  },
  {
   "cell_type": "code",
   "execution_count": null,
   "metadata": {},
   "outputs": [],
   "source": []
  },
  {
   "cell_type": "code",
   "execution_count": null,
   "metadata": {},
   "outputs": [],
   "source": []
  },
  {
   "cell_type": "code",
   "execution_count": 29,
   "metadata": {},
   "outputs": [
    {
     "name": "stdout",
     "output_type": "stream",
     "text": [
      "[[['Header', 0, 'Finance Consultant, Consulting Engagements (3 Firms), 2018-2020\\n'], ['Row', 0, '• Interim o o o Director Of Finance & Interim Controller, Aptitude Health (Engaged by RGP), 2019-2020\\nIssue & Scope: Director Of Finance for $17 Million multi-entity organization resigned with short notice\\nTools & Analysis: Intacct & Excel\\nFindings & Results: Fulfilled month-end & year-end responsibilities with minimal training & guidance,\\nenabling organization to continue financial operations without disruption; Performed analysis that yielded\\n'], ['Row', 1, '95% decrease in quarterly commissions calculations time; Improved financial processes\\n'], ['Row', 2, '• IT Finance Consultant, McKesson (Engaged by Strive Consulting), 2019\\n'], ['Row', 3, 'o o o Issue & Scope: IT Business Unit had limited visibility into financial results for $140 Million budget\\nTools & Analysis: Excel, with integrated PowerPoint refresh, of financial & project/program data\\nFindings & Results: Built streamlined processes to incorporate structure and simplify IT-Finance\\nrelationship, enabling Directors to explain almost 100% of their variances\\n'], ['Row', 4, '• IT Finance Manager, Floor & Décor (Engaged by Insight Global), 2018-2019\\n'], ['Row', 5, 'o Issue & Scope: IT Business Unit had limited visibility into financial results for $26 Million budget\\n'], ['Row', 6, 'o o Tools & Analysis: Excel, with integrated PowerPoint refresh, of financial & project/program data\\nFindings & Results: Implemented process improvements to strengthen accounting controls around\\n'], ['Row', 7, 'Business Controller, prepaid expenses & amortization, leveraged Excel to enable explanation of 100% of financial variances\\nBlueFin Payment Systems, 2016-2017\\n'], ['Row', 8, '• Strategic o o o Management\\nIssue & Scope: $200 Million annual revenue; company attempting to become profitable\\nTools & Analysis: Access and Excel, with integrated PowerPoint refresh, of financial & operational data\\nFindings & Results: Recommended 5-year shift toward more profitable unit to achieve 15% net profit\\n'], ['Row', 9, '• Financial Capital Management\\n'], ['Row', 10, 'o Issue & Scope: Company had limited access to revolving line of credit to fuel growth\\n'], ['Row', 11, 'o Tools & Analysis: Developed Excel model to integrate 5-year forecasted financial statements\\n'], ['Row', 12, '• o Financial Findings & Results: Revised debt covenant metrics allowed increased access to capital\\nProcess Management\\n'], ['Row', 13, 'o o o Issue & Scope: Monthly close process took 30+ days, and budgeting cycle took 4+ months\\nTools & Analysis: Excel, Intacct, and partnered with SQL & business intelligence tool experts\\nFindings & Results: Decreased monthly close process to 15 days; decreased budgeting cycle to 2 months\\n'], ['Row', 14, 'Business Analysis Manager/Portfolio Analyst, FirstData, 2014-2016\\n'], ['Row', 15, '• Revenue o Management\\nIssue & Scope: $1 Billion annual revenue from eCommerce products portfolio\\n']], 0]\n"
     ]
    }
   ],
   "source": [
    "print(tableGroups[0][0][0])"
   ]
  },
  {
   "cell_type": "code",
   "execution_count": 27,
   "metadata": {},
   "outputs": [
    {
     "name": "stdout",
     "output_type": "stream",
     "text": [
      "[[[['Header', 0, 'Finance Consultant, Consulting Engagements (3 Firms), 2018-2020\\n'], ['Row', 0, '• Interim o o o Director Of Finance & Interim Controller, Aptitude Health (Engaged by RGP), 2019-2020\\nIssue & Scope: Director Of Finance for $17 Million multi-entity organization resigned with short notice\\nTools & Analysis: Intacct & Excel\\nFindings & Results: Fulfilled month-end & year-end responsibilities with minimal training & guidance,\\nenabling organization to continue financial operations without disruption; Performed analysis that yielded\\n'], ['Row', 1, '95% decrease in quarterly commissions calculations time; Improved financial processes\\n'], ['Row', 2, '• IT Finance Consultant, McKesson (Engaged by Strive Consulting), 2019\\n'], ['Row', 3, 'o o o Issue & Scope: IT Business Unit had limited visibility into financial results for $140 Million budget\\nTools & Analysis: Excel, with integrated PowerPoint refresh, of financial & project/program data\\nFindings & Results: Built streamlined processes to incorporate structure and simplify IT-Finance\\nrelationship, enabling Directors to explain almost 100% of their variances\\n'], ['Row', 4, '• IT Finance Manager, Floor & Décor (Engaged by Insight Global), 2018-2019\\n'], ['Row', 5, 'o Issue & Scope: IT Business Unit had limited visibility into financial results for $26 Million budget\\n'], ['Row', 6, 'o o Tools & Analysis: Excel, with integrated PowerPoint refresh, of financial & project/program data\\nFindings & Results: Implemented process improvements to strengthen accounting controls around\\n'], ['Row', 7, 'Business Controller, prepaid expenses & amortization, leveraged Excel to enable explanation of 100% of financial variances\\nBlueFin Payment Systems, 2016-2017\\n'], ['Row', 8, '• Strategic o o o Management\\nIssue & Scope: $200 Million annual revenue; company attempting to become profitable\\nTools & Analysis: Access and Excel, with integrated PowerPoint refresh, of financial & operational data\\nFindings & Results: Recommended 5-year shift toward more profitable unit to achieve 15% net profit\\n'], ['Row', 9, '• Financial Capital Management\\n'], ['Row', 10, 'o Issue & Scope: Company had limited access to revolving line of credit to fuel growth\\n'], ['Row', 11, 'o Tools & Analysis: Developed Excel model to integrate 5-year forecasted financial statements\\n'], ['Row', 12, '• o Financial Findings & Results: Revised debt covenant metrics allowed increased access to capital\\nProcess Management\\n'], ['Row', 13, 'o o o Issue & Scope: Monthly close process took 30+ days, and budgeting cycle took 4+ months\\nTools & Analysis: Excel, Intacct, and partnered with SQL & business intelligence tool experts\\nFindings & Results: Decreased monthly close process to 15 days; decreased budgeting cycle to 2 months\\n'], ['Row', 14, 'Business Analysis Manager/Portfolio Analyst, FirstData, 2014-2016\\n'], ['Row', 15, '• Revenue o Management\\nIssue & Scope: $1 Billion annual revenue from eCommerce products portfolio\\n']], 0]]\n",
      "1\n"
     ]
    }
   ],
   "source": [
    "for i in tableGroups[0]:\n",
    "    print(i)"
   ]
  },
  {
   "cell_type": "code",
   "execution_count": 31,
   "metadata": {},
   "outputs": [
    {
     "name": "stdout",
     "output_type": "stream",
     "text": [
      "Page: 1\n",
      "[[['Header', 0, 'Finance Consultant, Consulting Engagements (3 Firms), 2018-2020\\n'], ['Row', 0, '• Interim o o o Director Of Finance & Interim Controller, Aptitude Health (Engaged by RGP), 2019-2020\\nIssue & Scope: Director Of Finance for $17 Million multi-entity organization resigned with short notice\\nTools & Analysis: Intacct & Excel\\nFindings & Results: Fulfilled month-end & year-end responsibilities with minimal training & guidance,\\nenabling organization to continue financial operations without disruption; Performed analysis that yielded\\n'], ['Row', 1, '95% decrease in quarterly commissions calculations time; Improved financial processes\\n'], ['Row', 2, '• IT Finance Consultant, McKesson (Engaged by Strive Consulting), 2019\\n'], ['Row', 3, 'o o o Issue & Scope: IT Business Unit had limited visibility into financial results for $140 Million budget\\nTools & Analysis: Excel, with integrated PowerPoint refresh, of financial & project/program data\\nFindings & Results: Built streamlined processes to incorporate structure and simplify IT-Finance\\nrelationship, enabling Directors to explain almost 100% of their variances\\n'], ['Row', 4, '• IT Finance Manager, Floor & Décor (Engaged by Insight Global), 2018-2019\\n'], ['Row', 5, 'o Issue & Scope: IT Business Unit had limited visibility into financial results for $26 Million budget\\n'], ['Row', 6, 'o o Tools & Analysis: Excel, with integrated PowerPoint refresh, of financial & project/program data\\nFindings & Results: Implemented process improvements to strengthen accounting controls around\\n'], ['Row', 7, 'Business Controller, prepaid expenses & amortization, leveraged Excel to enable explanation of 100% of financial variances\\nBlueFin Payment Systems, 2016-2017\\n'], ['Row', 8, '• Strategic o o o Management\\nIssue & Scope: $200 Million annual revenue; company attempting to become profitable\\nTools & Analysis: Access and Excel, with integrated PowerPoint refresh, of financial & operational data\\nFindings & Results: Recommended 5-year shift toward more profitable unit to achieve 15% net profit\\n'], ['Row', 9, '• Financial Capital Management\\n'], ['Row', 10, 'o Issue & Scope: Company had limited access to revolving line of credit to fuel growth\\n'], ['Row', 11, 'o Tools & Analysis: Developed Excel model to integrate 5-year forecasted financial statements\\n'], ['Row', 12, '• o Financial Findings & Results: Revised debt covenant metrics allowed increased access to capital\\nProcess Management\\n'], ['Row', 13, 'o o o Issue & Scope: Monthly close process took 30+ days, and budgeting cycle took 4+ months\\nTools & Analysis: Excel, Intacct, and partnered with SQL & business intelligence tool experts\\nFindings & Results: Decreased monthly close process to 15 days; decreased budgeting cycle to 2 months\\n'], ['Row', 14, 'Business Analysis Manager/Portfolio Analyst, FirstData, 2014-2016\\n'], ['Row', 15, '• Revenue o Management\\nIssue & Scope: $1 Billion annual revenue from eCommerce products portfolio\\n']], 0]\n",
      "Page: 2\n",
      "[[['Header', 0, '• Ally Financial (Engaged by Darton Group): Achieved Basel II compliance by completing 1,000-item data lineage\\n'], ['Row', 0, '• • • Wells Fargo (Engaged by S3): Led calls with overseas operations partners; resolved issues, streamlined processes\\nWachovia (Engaged by ManPower Group): Saved $20 million by purchase consolidation of technology programs\\nSmartOnline (Engaged by Jefferson Wells/ManPower Group): Led team of 3 senior consultants to achieve\\nSarbanes-Oxley (SOX) compliance at client which experienced securities fraud\\n'], ['Row', 1, '• Hearst Corp. (Engaged by Jefferson Wells/ManPower Group): Achieved annual Sarbanes-Oxley (SOX)\\ncompliance by performing Section 404 testing and recommending process improvements\\n']], 0]\n",
      "[[['Header', 0, 'Excel: Nested conditionals (IF, SUMIF, SUMIFS, etc.); Referencing (VLOOKUP, HLOOKUP); Pivots; Light Macros\\n'], ['Row', 0, 'Access: Table creation/update; Query design\\n'], ['Row', 1, 'PowerPoint: Integrating live Excel files\\n'], ['Row', 2, 'Word: Integrating live Excel files; Automatic Table Of Contents; Automatic Indexing\\n'], ['Row', 3, 'Visio: Creating & updating process flows\\nIntacct (Cloud-based ERP like QuickBooks): Writing reports; Extracting data\\n'], ['Row', 4, 'EDUCATION / CERTIFICATION / PROFESSIONAL AFFILIATIONS\\n']], 1]\n",
      "[[['Header', 0, 'MBA in Management, University of North Carolina at Charlotte, 2006\\nM.S. Economics, University of North Carolina at Charlotte, 2005\\n'], ['Row', 0, 'M.S.B.A. Finance, San Diego State University, 2001\\n'], ['Row', 1, 'B.S. with Honors in Accounting, Illinois State University, 1998\\n'], ['Row', 2, 'Certified Public Accountant (CPA), Active in North Carolina since 2005\\n'], ['Row', 3, 'AICPA, 2005-Present; NCACPA, 2005-Present; IMA, 2006-Present\\n'], ['Row', 4, 'Published & Presented: Primary author of “Competitive Balance and Fan Interest in the National Football League”;\\npresented at American Society of Business and Behavioral Sciences (ASBBS) Conference, Feb. 2007\\n']], 2]\n"
     ]
    }
   ],
   "source": [
    "for i in tableGroups:\n",
    "    print(\"Page: \" + str(i[1]))\n",
    "    for j in i[0]:\n",
    "        print(j)"
   ]
  },
  {
   "cell_type": "code",
   "execution_count": 21,
   "metadata": {},
   "outputs": [
    {
     "data": {
      "text/plain": [
       "[[[[[['Header',\n",
       "      0,\n",
       "      'Finance Consultant, Consulting Engagements (3 Firms), 2018-2020\\n'],\n",
       "     ['Row',\n",
       "      0,\n",
       "      '• Interim o o o Director Of Finance & Interim Controller, Aptitude Health (Engaged by RGP), 2019-2020\\nIssue & Scope: Director Of Finance for $17 Million multi-entity organization resigned with short notice\\nTools & Analysis: Intacct & Excel\\nFindings & Results: Fulfilled month-end & year-end responsibilities with minimal training & guidance,\\nenabling organization to continue financial operations without disruption; Performed analysis that yielded\\n'],\n",
       "     ['Row',\n",
       "      1,\n",
       "      '95% decrease in quarterly commissions calculations time; Improved financial processes\\n'],\n",
       "     ['Row',\n",
       "      2,\n",
       "      '• IT Finance Consultant, McKesson (Engaged by Strive Consulting), 2019\\n'],\n",
       "     ['Row',\n",
       "      3,\n",
       "      'o o o Issue & Scope: IT Business Unit had limited visibility into financial results for $140 Million budget\\nTools & Analysis: Excel, with integrated PowerPoint refresh, of financial & project/program data\\nFindings & Results: Built streamlined processes to incorporate structure and simplify IT-Finance\\nrelationship, enabling Directors to explain almost 100% of their variances\\n'],\n",
       "     ['Row',\n",
       "      4,\n",
       "      '• IT Finance Manager, Floor & Décor (Engaged by Insight Global), 2018-2019\\n'],\n",
       "     ['Row',\n",
       "      5,\n",
       "      'o Issue & Scope: IT Business Unit had limited visibility into financial results for $26 Million budget\\n'],\n",
       "     ['Row',\n",
       "      6,\n",
       "      'o o Tools & Analysis: Excel, with integrated PowerPoint refresh, of financial & project/program data\\nFindings & Results: Implemented process improvements to strengthen accounting controls around\\n'],\n",
       "     ['Row',\n",
       "      7,\n",
       "      'Business Controller, prepaid expenses & amortization, leveraged Excel to enable explanation of 100% of financial variances\\nBlueFin Payment Systems, 2016-2017\\n'],\n",
       "     ['Row',\n",
       "      8,\n",
       "      '• Strategic o o o Management\\nIssue & Scope: $200 Million annual revenue; company attempting to become profitable\\nTools & Analysis: Access and Excel, with integrated PowerPoint refresh, of financial & operational data\\nFindings & Results: Recommended 5-year shift toward more profitable unit to achieve 15% net profit\\n'],\n",
       "     ['Row', 9, '• Financial Capital Management\\n'],\n",
       "     ['Row',\n",
       "      10,\n",
       "      'o Issue & Scope: Company had limited access to revolving line of credit to fuel growth\\n'],\n",
       "     ['Row',\n",
       "      11,\n",
       "      'o Tools & Analysis: Developed Excel model to integrate 5-year forecasted financial statements\\n'],\n",
       "     ['Row',\n",
       "      12,\n",
       "      '• o Financial Findings & Results: Revised debt covenant metrics allowed increased access to capital\\nProcess Management\\n'],\n",
       "     ['Row',\n",
       "      13,\n",
       "      'o o o Issue & Scope: Monthly close process took 30+ days, and budgeting cycle took 4+ months\\nTools & Analysis: Excel, Intacct, and partnered with SQL & business intelligence tool experts\\nFindings & Results: Decreased monthly close process to 15 days; decreased budgeting cycle to 2 months\\n'],\n",
       "     ['Row',\n",
       "      14,\n",
       "      'Business Analysis Manager/Portfolio Analyst, FirstData, 2014-2016\\n'],\n",
       "     ['Row',\n",
       "      15,\n",
       "      '• Revenue o Management\\nIssue & Scope: $1 Billion annual revenue from eCommerce products portfolio\\n']],\n",
       "    0]],\n",
       "  1],\n",
       " [[[[['Header',\n",
       "      0,\n",
       "      '• Ally Financial (Engaged by Darton Group): Achieved Basel II compliance by completing 1,000-item data lineage\\n'],\n",
       "     ['Row',\n",
       "      0,\n",
       "      '• • • Wells Fargo (Engaged by S3): Led calls with overseas operations partners; resolved issues, streamlined processes\\nWachovia (Engaged by ManPower Group): Saved $20 million by purchase consolidation of technology programs\\nSmartOnline (Engaged by Jefferson Wells/ManPower Group): Led team of 3 senior consultants to achieve\\nSarbanes-Oxley (SOX) compliance at client which experienced securities fraud\\n'],\n",
       "     ['Row',\n",
       "      1,\n",
       "      '• Hearst Corp. (Engaged by Jefferson Wells/ManPower Group): Achieved annual Sarbanes-Oxley (SOX)\\ncompliance by performing Section 404 testing and recommending process improvements\\n']],\n",
       "    0],\n",
       "   [[['Header',\n",
       "      0,\n",
       "      'Excel: Nested conditionals (IF, SUMIF, SUMIFS, etc.); Referencing (VLOOKUP, HLOOKUP); Pivots; Light Macros\\n'],\n",
       "     ['Row', 0, 'Access: Table creation/update; Query design\\n'],\n",
       "     ['Row', 1, 'PowerPoint: Integrating live Excel files\\n'],\n",
       "     ['Row',\n",
       "      2,\n",
       "      'Word: Integrating live Excel files; Automatic Table Of Contents; Automatic Indexing\\n'],\n",
       "     ['Row',\n",
       "      3,\n",
       "      'Visio: Creating & updating process flows\\nIntacct (Cloud-based ERP like QuickBooks): Writing reports; Extracting data\\n'],\n",
       "     ['Row', 4, 'EDUCATION / CERTIFICATION / PROFESSIONAL AFFILIATIONS\\n']],\n",
       "    1],\n",
       "   [[['Header',\n",
       "      0,\n",
       "      'MBA in Management, University of North Carolina at Charlotte, 2006\\nM.S. Economics, University of North Carolina at Charlotte, 2005\\n'],\n",
       "     ['Row', 0, 'M.S.B.A. Finance, San Diego State University, 2001\\n'],\n",
       "     ['Row',\n",
       "      1,\n",
       "      'B.S. with Honors in Accounting, Illinois State University, 1998\\n'],\n",
       "     ['Row',\n",
       "      2,\n",
       "      'Certified Public Accountant (CPA), Active in North Carolina since 2005\\n'],\n",
       "     ['Row',\n",
       "      3,\n",
       "      'AICPA, 2005-Present; NCACPA, 2005-Present; IMA, 2006-Present\\n'],\n",
       "     ['Row',\n",
       "      4,\n",
       "      'Published & Presented: Primary author of “Competitive Balance and Fan Interest in the National Football League”;\\npresented at American Society of Business and Behavioral Sciences (ASBBS) Conference, Feb. 2007\\n']],\n",
       "    2]],\n",
       "  2]]"
      ]
     },
     "execution_count": 21,
     "metadata": {},
     "output_type": "execute_result"
    }
   ],
   "source": [
    "tableGroups"
   ]
  },
  {
   "cell_type": "code",
   "execution_count": null,
   "metadata": {},
   "outputs": [],
   "source": []
  },
  {
   "cell_type": "code",
   "execution_count": null,
   "metadata": {},
   "outputs": [],
   "source": []
  }
 ],
 "metadata": {
  "kernelspec": {
   "display_name": "Python 3",
   "language": "python",
   "name": "python3"
  },
  "language_info": {
   "codemirror_mode": {
    "name": "ipython",
    "version": 3
   },
   "file_extension": ".py",
   "mimetype": "text/x-python",
   "name": "python",
   "nbconvert_exporter": "python",
   "pygments_lexer": "ipython3",
   "version": "3.8.6"
  },
  "toc": {
   "base_numbering": 1,
   "nav_menu": {},
   "number_sections": true,
   "sideBar": true,
   "skip_h1_title": false,
   "title_cell": "Table of Contents",
   "title_sidebar": "Contents",
   "toc_cell": false,
   "toc_position": {
    "height": "calc(100% - 180px)",
    "left": "10px",
    "top": "150px",
    "width": "165px"
   },
   "toc_section_display": true,
   "toc_window_display": true
  }
 },
 "nbformat": 4,
 "nbformat_minor": 2
}
