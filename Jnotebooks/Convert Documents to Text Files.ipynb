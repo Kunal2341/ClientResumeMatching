{
 "cells": [
  {
   "cell_type": "markdown",
   "metadata": {},
   "source": [
    "# NLP Understanding of Resumes\n",
    "- Code basicially first converts the PDF to a Image\n",
    "- Then using google cloud vision API, it converts that image to text\n",
    "    - Using my personal JSON Code\n",
    "- "
   ]
  },
  {
   "cell_type": "code",
   "execution_count": 1,
   "metadata": {},
   "outputs": [],
   "source": [
    "import os\n",
    "from pdf2image import convert_from_path\n"
   ]
  },
  {
   "cell_type": "markdown",
   "metadata": {},
   "source": [
    "## Convert PDF to Image"
   ]
  },
  {
   "cell_type": "code",
   "execution_count": 2,
   "metadata": {},
   "outputs": [],
   "source": [
    "def convert_pdf_2_image(uploaded_image_path, uploaded_image):\n",
    "    project_dir = os.getcwd()\n",
    "    os.chdir(uploaded_image_path)\n",
    "    file_name = str(uploaded_image).replace('.pdf','.jpg')\n",
    "    output_file = file_name+'.jpg'\n",
    "    pages = convert_from_path(uploaded_image, 200,poppler_path='/Users/kunal/Documents/VdartWorking/Poppler/poppler-0.68.0_x86/poppler-0.68.0/bin/')\n",
    "    for page in pages:\n",
    "        page.save(output_file, 'JPEG')\n",
    "        break\n",
    "    #os.chdir(project_dir)\n",
    "    #img = Image.open(output_file)\n",
    "    #img = img.resize(img_size, PIL.Image.ANTIALIAS)\n",
    "    #img.save(output_file)\n",
    "    return output_file"
   ]
  },
  {
   "cell_type": "code",
   "execution_count": 17,
   "metadata": {},
   "outputs": [
    {
     "data": {
      "text/plain": [
       "'/Users/kunal/Documents/VdartResumeProject/Testing_Delete'"
      ]
     },
     "execution_count": 17,
     "metadata": {},
     "output_type": "execute_result"
    }
   ],
   "source": [
    " os.path.dirname('/Users/kunal/Documents/VdartResumeProject/Testing_Delete/Document_412.pdf')"
   ]
  },
  {
   "cell_type": "code",
   "execution_count": 44,
   "metadata": {},
   "outputs": [],
   "source": [
    "def convert_pdf_2_image(filePath):\n",
    "    os.chdir(os.path.dirname(filePath))\n",
    "    uploaded_file = filePath\n",
    "    output_file = str(uploaded_file).replace('.pdf','')\n",
    "    pages = convert_from_path(uploaded_file, 200,poppler_path='/Users/kunal/Documents/VdartResumeProject/Poppler/poppler-0.68.0_x86/poppler-0.68.0/bin/')\n",
    "    pageCount = 1\n",
    "    if len(pages) != 1:\n",
    "        raise Exception (\"Some of the code is not compatable for multiple pages\")\n",
    "    for page in pages:\n",
    "        page.save(output_file + \"_\" + str(pageCount) + \".jpg\", 'JPEG')\n",
    "        #print(output_file + \"_\" + str(pageCount) + \".jpg\")\n",
    "        pageCount+=1\n",
    "    return output_file + \"_1.jpg\""
   ]
  },
  {
   "cell_type": "code",
   "execution_count": 45,
   "metadata": {},
   "outputs": [
    {
     "data": {
      "text/plain": [
       "'/Users/kunal/Documents/VdartResumeProject/Testing_Delete/Document_403_1.jpg'"
      ]
     },
     "execution_count": 45,
     "metadata": {},
     "output_type": "execute_result"
    }
   ],
   "source": [
    "convert_pdf_2_image('/Users/kunal/Documents/VdartResumeProject/Testing_Delete/Document_403.pdf')"
   ]
  },
  {
   "cell_type": "code",
   "execution_count": 76,
   "metadata": {},
   "outputs": [],
   "source": [
    "import shutil"
   ]
  },
  {
   "cell_type": "code",
   "execution_count": 73,
   "metadata": {},
   "outputs": [],
   "source": [
    "from shutil import copyfile"
   ]
  },
  {
   "cell_type": "code",
   "execution_count": 56,
   "metadata": {},
   "outputs": [
    {
     "name": "stdout",
     "output_type": "stream",
     "text": [
      "Document_403\n"
     ]
    }
   ],
   "source": [
    "print(os.path.basename(filePDFPath)[:-4])"
   ]
  },
  {
   "cell_type": "code",
   "execution_count": 61,
   "metadata": {},
   "outputs": [],
   "source": []
  },
  {
   "cell_type": "code",
   "execution_count": 63,
   "metadata": {},
   "outputs": [],
   "source": [
    "filePDFPath = '/Users/kunal/Documents/VdartResumeProject/Testing_Delete/Document_403.pdf'"
   ]
  },
  {
   "cell_type": "code",
   "execution_count": 71,
   "metadata": {},
   "outputs": [],
   "source": [
    "os.chdir(os.path.dirname(filePDFPath))\n",
    "try:\n",
    "    os.mkdir(os.path.basename(filePDFPath)[:-4])\n",
    "    folderPath = os.path.dirname(filePDFPath)+\"/\"+os.path.basename(filePDFPath)[:-4]\n",
    "except FileExistsError:\n",
    "    try: \n",
    "        os.mkdir(os.path.basename(filePDFPath)[:-4] + \"_NEW\")\n",
    "        folderPath = os.path.dirname(filePDFPath)+\"/\"+os.path.basename(filePDFPath)[:-4] + \"_NEW\"\n",
    "    except FileExistsError:\n",
    "        deleteEverythingInFolder(os.path.basename(filePDFPath)[:-4] + \"_NEW\")\n",
    "        folderPath = os.path.dirname(filePDFPath)+\"/\"+os.path.basename(filePDFPath)[:-4] + \"_NEW\""
   ]
  },
  {
   "cell_type": "code",
   "execution_count": 81,
   "metadata": {},
   "outputs": [],
   "source": [
    "try:\n",
    "    shutil.move(filePDFPath, folderPath)\n",
    "except Exception:\n",
    "    pass\n",
    "os.chdir(folderPath)"
   ]
  },
  {
   "cell_type": "code",
   "execution_count": 82,
   "metadata": {},
   "outputs": [
    {
     "name": "stdout",
     "output_type": "stream",
     "text": [
      " Volume in drive C is OS\n",
      " Volume Serial Number is B01D-0BAA\n",
      "\n",
      " Directory of C:\\Users\\kunal\\Documents\\VdartResumeProject\\Testing_Delete\\Document_403_NEW\n",
      "\n",
      "02/10/2021  04:02 AM    <DIR>          .\n",
      "02/10/2021  04:02 AM    <DIR>          ..\n",
      "04/16/2020  06:59 AM           135,807 Document_403.pdf\n",
      "               1 File(s)        135,807 bytes\n",
      "               2 Dir(s)  144,168,845,312 bytes free\n"
     ]
    }
   ],
   "source": [
    "!dir"
   ]
  },
  {
   "cell_type": "code",
   "execution_count": 60,
   "metadata": {},
   "outputs": [
    {
     "data": {
      "text/plain": [
       "'Document_403_NEW'"
      ]
     },
     "execution_count": 60,
     "metadata": {},
     "output_type": "execute_result"
    }
   ],
   "source": [
    "os.path.basename(filePDFPath)[:-4] + \"_NEW\""
   ]
  },
  {
   "cell_type": "code",
   "execution_count": 49,
   "metadata": {},
   "outputs": [
    {
     "ename": "FileExistsError",
     "evalue": "[WinError 183] Cannot create a file when that file already exists: '/Users/kunal/Documents/VdartResumeProject/Testing_Delete'",
     "output_type": "error",
     "traceback": [
      "\u001b[1;31m---------------------------------------------------------------------------\u001b[0m",
      "\u001b[1;31mFileExistsError\u001b[0m                           Traceback (most recent call last)",
      "\u001b[1;32m<ipython-input-49-88b49094a3f7>\u001b[0m in \u001b[0;36m<module>\u001b[1;34m\u001b[0m\n\u001b[0;32m      1\u001b[0m \u001b[0mos\u001b[0m\u001b[1;33m.\u001b[0m\u001b[0mchdir\u001b[0m\u001b[1;33m(\u001b[0m\u001b[0mos\u001b[0m\u001b[1;33m.\u001b[0m\u001b[0mpath\u001b[0m\u001b[1;33m.\u001b[0m\u001b[0mdirname\u001b[0m\u001b[1;33m(\u001b[0m\u001b[0mfilePDFPath\u001b[0m\u001b[1;33m)\u001b[0m\u001b[1;33m)\u001b[0m\u001b[1;33m\u001b[0m\u001b[1;33m\u001b[0m\u001b[0m\n\u001b[1;32m----> 2\u001b[1;33m \u001b[0mos\u001b[0m\u001b[1;33m.\u001b[0m\u001b[0mmkdir\u001b[0m\u001b[1;33m(\u001b[0m\u001b[0mos\u001b[0m\u001b[1;33m.\u001b[0m\u001b[0mpath\u001b[0m\u001b[1;33m.\u001b[0m\u001b[0mdirname\u001b[0m\u001b[1;33m(\u001b[0m\u001b[0mfilePDFPath\u001b[0m\u001b[1;33m)\u001b[0m\u001b[1;33m)\u001b[0m\u001b[1;33m\u001b[0m\u001b[1;33m\u001b[0m\u001b[0m\n\u001b[0m",
      "\u001b[1;31mFileExistsError\u001b[0m: [WinError 183] Cannot create a file when that file already exists: '/Users/kunal/Documents/VdartResumeProject/Testing_Delete'"
     ]
    }
   ],
   "source": [
    "os.chdir(os.path.dirname(filePDFPath))\n",
    "os.mkdir(os.path.dirname(filePDFPath))"
   ]
  },
  {
   "cell_type": "markdown",
   "metadata": {},
   "source": [
    "## Convert Image to Text"
   ]
  },
  {
   "cell_type": "code",
   "execution_count": 19,
   "metadata": {},
   "outputs": [],
   "source": [
    "keyDIR = \"/Users/kunal/Documents/VdartWorking/GOOGLEAPI/vdartrealfakevision-0f30bdc03946.json\"\n",
    "credentials = service_account.Credentials.from_service_account_file(keyDIR)\n",
    "client = vision.ImageAnnotatorClient(credentials=credentials)\n",
    "with io.open('/Users/kunal/Documents/ResumeNLPVdart/Testing_Delete/Document_402.jpg', 'rb') as image_file:\n",
    "    content = image_file.read()\n",
    "image = vision.types.Image(content=content)\n",
    "response = client.text_detection(image=image)\n",
    "texts = response.text_annotations\n",
    "totalString = ''\n",
    "for text in texts:\n",
    "    totalString+=text.description\n",
    "totalString = totalString.rsplit(' ', 1)[0]\n"
   ]
  },
  {
   "cell_type": "code",
   "execution_count": 22,
   "metadata": {},
   "outputs": [
    {
     "data": {
      "text/plain": [
       "\"NISARGA HASSAN SREEDHAR\\nSan Jose, California |+1 (925) 789-8911| nisarga.nishu20@gmail.com | www.linkedin.com/in/nisarga-sreedhar-39938516b\\nEDUCATION:\\nMaster's in Electrical Engineering (Computer Networking), San Jose State University, California, USA.\\nCoursework: Internetworking, Broadband communications, Network Security, Internet of Things (IoT), Voice over IP\\nBachelor of Engineering in Telecommunication Engineering, Dayananda Sagar College of Engineering, Visvesvaraya\\nTechnological University, India\\nMay 2020\\nJune 2017\\nTECHNICAL SKILLS:\\nNetwork technologies: HTTP, DNS, DHCP, HTTPS, TLS-SSL, TCP/IP, UDP, IPV4, IPV6, ICMP, OSPF, BGP, ARP, VLAN, STP,\\nSIP, IPS, IDS, NAT, IS-IS, 802.11, MPLS, WPA2, WPA3, Packet level troubleshooting\\nProgramming: Python\\nOS Platform: Linux (Ubuntu, CentOS), Kali Linux, Cisco IOS\\nTools and IDE: Advanced Design System (ADS), Wireshark, VMware Workstation, VirtualBox, GNS3, Cisco Packet Tracer, PUTTY\\nCERTIFICATION:\\nCisco Certified Network Associate (CCNA) 200-301\\nAWS Certified Cloud Practitioner (CLF-C01)\\n(In Progress)\\n(In progress)\\nEXPERIENCE:\\nJune 2019 - July 2019\\nMarmon Food & Beverages Technologies, Cornelius, India\\nNetwork Engineer Intern\\nPython based Serial Communication (IoT)\\nUsed an Iot Dongle to read a file, convert it into a packet by adding header and footer and transmit serially.\\nPython code was written to send the file from dongle to Food Holding Bin.\\nACADEMIC PROJECTS:\\nSecure routing in IoT networks\\nAug 2019 - current\\nDesign and configure an IoT based network using Cisco Packet Tracer.\\nPerform a Man in the Middle attack to one of the devices using Kali Linux.\\nDetection of the attack and solution to the problem faced.\\nIllumino: IoT Smart Light\\nAug 2019 - Dec 2019\\nCreate a hardware of an IoT smart light using Arduino ESP8266 and Cayenne IoT Platform.\\nDesigned to operate in three modes: Auto mode, Lamp mode, Security mode.\\nUse of Cayenne web application to detect temperature and provides a siren at thresholds.\\nVoice over IP for Wireless Ad Hoc Networks (WANET)\\nAug 2019 - Dec 2019\\nSimple Call Establishment between two clients in a WANET that have registered with the Asterisk server.\\nCall on Hold with one user client to attend another client.\\nCall Conferencing between all three clients, all performed using X-Lite softphone software.\\nExperiencing Virtualization using Virtual Box\\nJan 2019 - April 2019\\nWorked on Open vSwitch in Virtual Box on an Ubuntu machine to run ovs and its versions successfully.\\nDemonstrated how the VLANS are implemented, three VMs and one virtual switch is created.\\nAttempted to communicate between the VMs and observed the PING result.\\nCorporate Company Network Design\\nAug 2018 - Dec 2018\\n• Designed and implemented a basic corporate network topology for the interconnection between offices with\\nswitches, routers, and hosts.\\n• Implemented the design using routing protocols such as OSPF, BGP, DNS, VLAN, STP, IP, DHCP and HSRP.\\nTested and troubleshot configurations in the console to check the communication between the networks.\\nDesign of X-Band 8PSK Modulator using ADS\\nJan 2017 - April 2017\\nDesigned various components of the modulator used in a satellite at ISRO (Indian Space Research Organization), Bangalore.\\nPerformed optimization of the components at 8.75GHZ frequency using the tools available in ADS to obtain the desired results of\\nInsertion loss, Return loss and Isolation\""
      ]
     },
     "execution_count": 22,
     "metadata": {},
     "output_type": "execute_result"
    }
   ],
   "source": [
    "totalString"
   ]
  },
  {
   "cell_type": "code",
   "execution_count": null,
   "metadata": {},
   "outputs": [],
   "source": [
    "def convert_image_to_text():\n",
    "    keyDIR = \"/Users/kunal/Documents/VdartWorking/GOOGLEAPI/vdartrealfakevision-0f30bdc03946.json\"\n",
    "    credentials = service_account.Credentials.from_service_account_file(keyDIR)\n",
    "    client = vision.ImageAnnotatorClient(credentials=credentials)\n",
    "\n",
    "    with io.open(MAINIMAGEFILEPNG, 'rb') as image_file:\n",
    "        content = image_file.read()\n",
    "\n",
    "    image = vision.types.Image(content=content)\n",
    "    response = client.document_text_detection(image=image)\n",
    "    textDocument = []\n",
    "    blockConfid = []\n",
    "    paraConfid = []\n",
    "    wordConfid = []\n",
    "    for page in response.full_text_annotation.pages:\n",
    "        for block in page.blocks:\n",
    "            for paragraph in block.paragraphs:\n",
    "                for word in paragraph.words:\n",
    "                    word_text = ''.join([symbol.text for symbol in word.symbols])\n",
    "                    textDocument.append(word_text)\n",
    "                    blockConfid.append(block.confidence)\n",
    "                    paraConfid.append(paragraph.confidence)\n",
    "                    wordConfid.append(word.confidence)\n",
    "\n",
    "    if response.error.message:\n",
    "        raise Exception(\n",
    "            '{}\\nFor more info on error messages, check: '\n",
    "            'https://cloud.google.com/apis/design/errors'.format(\n",
    "                response.error.message))"
   ]
  },
  {
   "cell_type": "markdown",
   "metadata": {},
   "source": [
    "## Basic NLP Testing"
   ]
  },
  {
   "cell_type": "code",
   "execution_count": null,
   "metadata": {},
   "outputs": [],
   "source": [
    "text = \"\"\"NISARGA HASSAN SREEDHAR\n",
    "San Jose, California | +1 (925) 789-8911| nisarga.nishu20@gmail.com | www.linkedin.com/in/nisarga-sreedhar-39938516b\n",
    "EDUCATION:\n",
    "Master’s in Electrical Engineering (Computer Networking), San Jose State University, California, USA. May 2020\n",
    "Coursework: Internetworking, Broadband communications, Network Security, Internet of Things (IoT), Voice over IP\n",
    "Bachelor of Engineering in Telecommunication Engineering, Dayananda Sagar College of Engineering, Visvesvaraya\n",
    "Technological University, India June 2017\n",
    "TECHNICAL SKILLS:\n",
    "Network technologies: HTTP, DNS, DHCP, HTTPS, TLS-SSL, TCP/IP, UDP, IPv4, IPv6, ICMP, OSPF, BGP, ARP, VLAN, STP,\n",
    "SIP, IPS, IDS, NAT, IS-IS, 802.11, MPLS, WPA2, WPA3, Packet level troubleshooting\n",
    "Programming: Python\n",
    "OS Platform: Linux (Ubuntu, CentOS), Kali Linux, Cisco IOS\n",
    "Tools and IDE: Advanced Design System (ADS), Wireshark, VMware Workstation, VirtualBox, GNS3, Cisco Packet Tracer, PuTTY\n",
    "CERTIFICATION:\n",
    "• Cisco Certified Network Associate (CCNA) 200-301 (In Progress)\n",
    "• AWS Certified Cloud Practitioner (CLF-C01) (In progress)\n",
    "EXPERIENCE:\n",
    "Marmon Food & Beverages Technologies, Cornelius, India June 2019 - July 2019\n",
    "Network Engineer Intern\n",
    "• Python based Serial Communication (IoT)\n",
    "• Used an Iot Dongle to read a file, convert it into a packet by adding header and footer and transmit serially.\n",
    "• Python code was written to send the file from dongle to Food Holding Bin.\n",
    "ACADEMIC PROJECTS:\n",
    "Secure routing in IoT networks Aug 2019 - current\n",
    "• Design and configure an IoT based network using Cisco Packet Tracer.\n",
    "• Perform a Man in the Middle attack to one of the devices using Kali Linux.\n",
    "• Detection of the attack and solution to the problem faced.\n",
    "Illumino: IoT Smart Light Aug 2019 - Dec 2019\n",
    "• Create a hardware of an IoT smart light using Arduino ESP8266 and Cayenne IoT Platform.\n",
    "• Designed to operate in three modes: Auto mode, Lamp mode, Security mode.\n",
    "• Use of Cayenne web application to detect temperature and provides a siren at thresholds.\n",
    "Voice over IP for Wireless Ad Hoc Networks (WANET) Aug 2019 - Dec 2019\n",
    "• Simple Call Establishment between two clients in a WANET that have registered with the Asterisk server.\n",
    "• Call on Hold with one user client to attend another client.\n",
    "• Call Conferencing between all three clients, all performed using X-Lite softphone software.\n",
    "Experiencing Virtualization using Virtual Box Jan 2019 - April 2019\n",
    "• Worked on Open vSwitch in Virtual Box on an Ubuntu machine to run ovs and its versions successfully.\n",
    "• Demonstrated how the VLANs are implemented, three VMs and one virtual switch is created.\n",
    "• Attempted to communicate between the VMs and observed the PING result.\n",
    "Corporate Company Network Design Aug 2018 - Dec 2018\n",
    "• Designed and implemented a basic corporate network topology for the interconnection between offices with\n",
    "switches, routers, and hosts.\n",
    "• Implemented the design using routing protocols such as OSPF, BGP, DNS, VLAN, STP, IP, DHCP and HSRP.\n",
    "• Tested and troubleshot configurations in the console to check the communication between the networks.\n",
    "Design of X-Band 8PSK Modulator using ADS Jan 2017 - April 2017\n",
    "• Designed various components of the modulator used in a satellite at ISRO (Indian Space Research Organization), Bangalore.\n",
    "• Performed optimization of the components at 8.75GHz frequency using the tools available in ADS to obtain the desired results of\n",
    "Insertion loss, Return loss and Isolation loss.\n",
    "\"\"\""
   ]
  },
  {
   "cell_type": "code",
   "execution_count": null,
   "metadata": {},
   "outputs": [],
   "source": []
  },
  {
   "cell_type": "code",
   "execution_count": 9,
   "metadata": {},
   "outputs": [
    {
     "name": "stdout",
     "output_type": "stream",
     "text": [
      " Volume in drive C is OS\n",
      " Volume Serial Number is B01D-0BAA\n",
      "\n",
      " Directory of C:\\Users\\kunal\\Documents\\ResumeNLPVdart\\Testing_Delete\n",
      "\n",
      "07/01/2020  02:41 AM    <DIR>          .\n",
      "07/01/2020  02:41 AM    <DIR>          ..\n",
      "07/20/2020  06:47 PM           491,932 Document_402.jpg\n",
      "04/16/2020  07:59 AM            45,347 Document_402.pdf\n",
      "04/16/2020  07:59 AM           135,807 Document_403.pdf\n",
      "04/16/2020  08:00 AM            99,541 Document_405.pdf\n",
      "04/16/2020  08:00 AM            74,879 Document_406.pdf\n",
      "04/16/2020  08:01 AM            63,127 Document_407.pdf\n",
      "               6 File(s)        910,633 bytes\n",
      "               2 Dir(s)  150,777,466,880 bytes free\n"
     ]
    }
   ],
   "source": [
    "!dir"
   ]
  },
  {
   "cell_type": "code",
   "execution_count": null,
   "metadata": {},
   "outputs": [],
   "source": []
  },
  {
   "cell_type": "code",
   "execution_count": null,
   "metadata": {},
   "outputs": [],
   "source": []
  },
  {
   "cell_type": "code",
   "execution_count": null,
   "metadata": {},
   "outputs": [],
   "source": []
  },
  {
   "cell_type": "code",
   "execution_count": null,
   "metadata": {},
   "outputs": [],
   "source": []
  },
  {
   "cell_type": "code",
   "execution_count": null,
   "metadata": {},
   "outputs": [],
   "source": []
  }
 ],
 "metadata": {
  "kernelspec": {
   "display_name": "Python 3",
   "language": "python",
   "name": "python3"
  },
  "language_info": {
   "codemirror_mode": {
    "name": "ipython",
    "version": 3
   },
   "file_extension": ".py",
   "mimetype": "text/x-python",
   "name": "python",
   "nbconvert_exporter": "python",
   "pygments_lexer": "ipython3",
   "version": "3.8.6"
  },
  "toc": {
   "base_numbering": 1,
   "nav_menu": {},
   "number_sections": true,
   "sideBar": true,
   "skip_h1_title": false,
   "title_cell": "Table of Contents",
   "title_sidebar": "Contents",
   "toc_cell": false,
   "toc_position": {
    "height": "calc(100% - 180px)",
    "left": "10px",
    "top": "150px",
    "width": "349.091px"
   },
   "toc_section_display": true,
   "toc_window_display": true
  }
 },
 "nbformat": 4,
 "nbformat_minor": 2
}
