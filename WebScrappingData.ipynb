{
 "cells": [
  {
   "cell_type": "markdown",
   "metadata": {},
   "source": [
    "# Generate List of Skills with href"
   ]
  },
  {
   "cell_type": "markdown",
   "metadata": {},
   "source": [
    "## Import Webscrapping Soup and Selenium"
   ]
  },
  {
   "cell_type": "code",
   "execution_count": null,
   "metadata": {},
   "outputs": [],
   "source": [
    "import requests # for making standard html requests\n",
    "from bs4 import BeautifulSoup # magical tool for parsing html data\n",
    "import json # for parsing data\n",
    "from pandas import DataFrame as df # premier library for data organization\n",
    "import pandas as pd"
   ]
  },
  {
   "cell_type": "code",
   "execution_count": null,
   "metadata": {},
   "outputs": [],
   "source": [
    "from selenium import webdriver\n",
    "from webdriver_manager.chrome import ChromeDriverManager"
   ]
  },
  {
   "cell_type": "code",
   "execution_count": null,
   "metadata": {},
   "outputs": [],
   "source": [
    "def listofSkills(link):\n",
    "    URL = link\n",
    "    page = requests.get(URL)\n",
    "    page.encoding = 'ISO-885901'\n",
    "    soup = BeautifulSoup(page.text, 'html.parser')\n",
    "    dollar_tree_list = soup.find_all(class_ = 'col-md-3')\n",
    "    del dollar_tree_list[-1]\n",
    "    DataCollected = []\n",
    "    for i in dollar_tree_list:\n",
    "        example = i\n",
    "        content = example.contents\n",
    "        attrs = content[1].attrs\n",
    "        try:\n",
    "            HREF = content[1]['href']\n",
    "            #print(example_href)\n",
    "        except KeyError as e:\n",
    "            print(e)\n",
    "        nameOfSkill = clearName(HREF)\n",
    "        tempListMORECONTENT = [content, attrs, HREF,nameOfSkill]\n",
    "        tempList = [HREF,nameOfSkill]\n",
    "        DataCollected.append(tempList)\n",
    "    return DataCollected"
   ]
  },
  {
   "cell_type": "code",
   "execution_count": null,
   "metadata": {},
   "outputs": [],
   "source": [
    "def clearName(link):\n",
    "    text = link.replace(\"/skills/\",\"\").replace(\"+\",\" \").replace(\"%26%2347\", \"/\").replace(\"%27\", \"'\").replace(\"%26%2345\",\"-\")\n",
    "    return text"
   ]
  },
  {
   "cell_type": "markdown",
   "metadata": {},
   "source": [
    "## Generate Possible Links"
   ]
  },
  {
   "cell_type": "code",
   "execution_count": null,
   "metadata": {},
   "outputs": [],
   "source": [
    "alpha_list = [chr(x) for x in range(ord('a'), ord('z') + 1)] \n",
    "number_list = [\"1\",\"2\",\"3\",\"4\",\"5\"]\n",
    "FinalList = number_list+alpha_list\n",
    "webLink_List = []\n",
    "for i in FinalList:\n",
    "    webLink_List.append(\"https://www.dice.com/skills/browse/\"+i)\n",
    "#print(webLink_List)"
   ]
  },
  {
   "cell_type": "code",
   "execution_count": null,
   "metadata": {},
   "outputs": [],
   "source": [
    "ALLSKILLSLIST = []\n",
    "for i in webLink_List:\n",
    "    test = listofSkills(i)\n",
    "    ALLSKILLSLIST+=test"
   ]
  },
  {
   "cell_type": "code",
   "execution_count": null,
   "metadata": {},
   "outputs": [],
   "source": [
    "SKILLSDF = pd.DataFrame(ALLSKILLSLIST, columns=[\"HREF\", \"Skill Name\"])"
   ]
  },
  {
   "cell_type": "markdown",
   "metadata": {},
   "source": [
    "## Save as excel sheet"
   ]
  },
  {
   "cell_type": "code",
   "execution_count": null,
   "metadata": {},
   "outputs": [],
   "source": [
    "writer = pd.ExcelWriter('output.xlsx')"
   ]
  },
  {
   "cell_type": "code",
   "execution_count": null,
   "metadata": {},
   "outputs": [],
   "source": [
    "SKILLSDF.to_excel(writer,'Sheet1')\n",
    "writer.save()"
   ]
  },
  {
   "cell_type": "markdown",
   "metadata": {},
   "source": [
    "# Extract closest skills"
   ]
  },
  {
   "cell_type": "code",
   "execution_count": null,
   "metadata": {},
   "outputs": [],
   "source": [
    "\"\"\"%%time\n",
    "driver = webdriver.Chrome(ChromeDriverManager().install())\n",
    "DATA = CloseSkillsTotal(\"https://www.dice.com/skills/2D+computer+graphics\", driver)\n",
    "driver.close()\n",
    "\"\"\""
   ]
  },
  {
   "cell_type": "code",
   "execution_count": null,
   "metadata": {},
   "outputs": [],
   "source": [
    "def GetName(text):\n",
    "    ini_string = text\n",
    "    c = \">\"\n",
    "    res = None\n",
    "    for i in range(0, len(ini_string)): \n",
    "        if ini_string[i] == c: \n",
    "            res = i + 1\n",
    "            break\n",
    "    finalText = ini_string[res:]\n",
    "    finalText = finalText.replace(\"</div>\", \"\")\n",
    "    return finalText"
   ]
  },
  {
   "cell_type": "code",
   "execution_count": null,
   "metadata": {},
   "outputs": [],
   "source": [
    "def MainClosestSkill(virus):\n",
    "    return '(204, 204, 204)' in virus"
   ]
  },
  {
   "cell_type": "code",
   "execution_count": null,
   "metadata": {},
   "outputs": [],
   "source": [
    "def numberOfSkills(driver): \n",
    "    for i in range(100):\n",
    "        num = i+1\n",
    "        maxnum = 1\n",
    "        try: \n",
    "            driver.find_element_by_id(str(num))\n",
    "        except:\n",
    "            maxnum = num-1\n",
    "            break\n",
    "    CONNECTEDSKILLLIST = []\n",
    "    for i in range(maxnum):\n",
    "        CONNECTEDSKILLLIST.append(i+1)\n",
    "    return CONNECTEDSKILLLIST"
   ]
  },
  {
   "cell_type": "code",
   "execution_count": null,
   "metadata": {},
   "outputs": [],
   "source": [
    "def CloseSkillsTotal(link, driver):\n",
    "    # Using Chrome to access web\n",
    "    # Open the website\n",
    "    driver.get(link)\n",
    "    NumberOfSkillsList = numberOfSkills(driver)\n",
    "    CLOSESKILLTOTAL =[]\n",
    "    for i in NumberOfSkillsList:\n",
    "        SKILL = driver.find_element_by_id(str(i))\n",
    "        SKILLNAME = SKILL.text\n",
    "        source_code = SKILL.get_attribute(\"outerHTML\")\n",
    "        #print(SKILLNAME)\n",
    "        if SKILLNAME == '':\n",
    "            SKILLNAME =  GetName(source_code)\n",
    "            #print(\"YES\", source_code)\n",
    "        closeSkill = MainClosestSkill(source_code)\n",
    "        #True if close skill and far for other\n",
    "        temp_List = [SKILLNAME, closeSkill]\n",
    "        CLOSESKILLTOTAL.append(temp_List)\n",
    "    return CLOSESKILLTOTAL"
   ]
  },
  {
   "cell_type": "code",
   "execution_count": null,
   "metadata": {},
   "outputs": [],
   "source": []
  },
  {
   "cell_type": "code",
   "execution_count": null,
   "metadata": {},
   "outputs": [],
   "source": [
    "%%time\n",
    "similarSkillsTotalList = []\n",
    "for i in ALLSKILLSLIST:\n",
    "    link  = \"https://www.dice.com\" + str(i[0])\n",
    "    driver = webdriver.Chrome(ChromeDriverManager().install())\n",
    "    DATA = CloseSkillsTotal(link, driver)\n",
    "    driver.close()\n",
    "    similarSkillsTotalList.append(DATA)\n",
    "    print(similarSkillsTotalList)"
   ]
  },
  {
   "cell_type": "code",
   "execution_count": null,
   "metadata": {},
   "outputs": [],
   "source": []
  },
  {
   "cell_type": "code",
   "execution_count": null,
   "metadata": {},
   "outputs": [],
   "source": []
  },
  {
   "cell_type": "code",
   "execution_count": null,
   "metadata": {},
   "outputs": [],
   "source": []
  },
  {
   "cell_type": "code",
   "execution_count": null,
   "metadata": {},
   "outputs": [],
   "source": []
  },
  {
   "cell_type": "code",
   "execution_count": null,
   "metadata": {},
   "outputs": [],
   "source": []
  },
  {
   "cell_type": "code",
   "execution_count": null,
   "metadata": {},
   "outputs": [],
   "source": []
  },
  {
   "cell_type": "markdown",
   "metadata": {},
   "source": [
    "# Other base Testing"
   ]
  },
  {
   "cell_type": "code",
   "execution_count": null,
   "metadata": {},
   "outputs": [],
   "source": [
    "import requests # for making standard html requests\n",
    "from bs4 import BeautifulSoup # magical tool for parsing html data\n",
    "import json # for parsing data\n",
    "from pandas import DataFrame as df # premier library for data organization\n",
    "import pandas as pd"
   ]
  },
  {
   "cell_type": "code",
   "execution_count": null,
   "metadata": {},
   "outputs": [],
   "source": [
    "URL = \"https://www.dice.com/skills/browse/1\""
   ]
  },
  {
   "cell_type": "code",
   "execution_count": null,
   "metadata": {},
   "outputs": [],
   "source": [
    "page = requests.get(URL)\n",
    "page.encoding = 'ISO-885901'\n",
    "soup = BeautifulSoup(page.text, 'html.parser')"
   ]
  },
  {
   "cell_type": "code",
   "execution_count": null,
   "metadata": {},
   "outputs": [],
   "source": [
    "soup"
   ]
  },
  {
   "cell_type": "code",
   "execution_count": null,
   "metadata": {},
   "outputs": [],
   "source": [
    "dollar_tree_list = soup.find_all(class_ = 'col-md-3')"
   ]
  },
  {
   "cell_type": "code",
   "execution_count": null,
   "metadata": {},
   "outputs": [],
   "source": [
    "del dollar_tree_list[-1]\n",
    "len(dollar_tree_list)"
   ]
  },
  {
   "cell_type": "code",
   "execution_count": null,
   "metadata": {},
   "outputs": [],
   "source": [
    "example = dollar_tree_list[0] # a representative example\n",
    "print(example)\n",
    "print(\"\")\n",
    "example_content = example.contents\n",
    "print(example_content)\n",
    "print(\"\")\n",
    "attrs = example_content[1].attrs\n",
    "print(attrs)\n",
    "print(\"\")\n",
    "example_href = example_content[1]['href']\n",
    "print(example_href)"
   ]
  },
  {
   "cell_type": "code",
   "execution_count": null,
   "metadata": {},
   "outputs": [],
   "source": [
    "def clearName(link):\n",
    "    text = link.replace(\"/skills/\",\"\").replace(\"+\",\" \").replace(\"%26%2347\", \"/\").replace(\"%27\", \"'\").replace(\"%26%2345\",\"-\")\n",
    "    return text"
   ]
  },
  {
   "cell_type": "code",
   "execution_count": null,
   "metadata": {},
   "outputs": [],
   "source": [
    "DataCollected = []\n",
    "for i in dollar_tree_list:\n",
    "    example = i\n",
    "    content = example.contents\n",
    "    attrs = content[1].attrs\n",
    "    try:\n",
    "        HREF = content[1]['href']\n",
    "        #print(example_href)\n",
    "    except KeyError as e:\n",
    "        print(e)\n",
    "    nameOfSkill = clearName(HREF)\n",
    "    tempListMORECONTENT = [content, attrs, example_href,nameOfSkill]\n",
    "    tempList = [example_href,nameOfSkill]\n",
    "    DataCollected.append(tempList)"
   ]
  },
  {
   "cell_type": "code",
   "execution_count": null,
   "metadata": {},
   "outputs": [],
   "source": [
    "pd.DataFrame(DataCollected, columns=[\"HREF\", \"Skill Name\"])"
   ]
  },
  {
   "cell_type": "markdown",
   "metadata": {},
   "source": [
    "# Other Useless Testing Pt 2"
   ]
  }
 ],
 "metadata": {
  "kernelspec": {
   "display_name": "Python 3",
   "language": "python",
   "name": "python3"
  },
  "language_info": {
   "codemirror_mode": {
    "name": "ipython",
    "version": 3
   },
   "file_extension": ".py",
   "mimetype": "text/x-python",
   "name": "python",
   "nbconvert_exporter": "python",
   "pygments_lexer": "ipython3",
   "version": "3.7.4"
  },
  "toc": {
   "base_numbering": 1,
   "nav_menu": {},
   "number_sections": true,
   "sideBar": true,
   "skip_h1_title": false,
   "title_cell": "Table of Contents",
   "title_sidebar": "Contents",
   "toc_cell": false,
   "toc_position": {},
   "toc_section_display": true,
   "toc_window_display": true
  }
 },
 "nbformat": 4,
 "nbformat_minor": 2
}
