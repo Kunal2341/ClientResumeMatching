{
 "cells": [
  {
   "cell_type": "code",
   "execution_count": 1,
   "metadata": {},
   "outputs": [],
   "source": [
    "from PyPDF2 import PdfFileReader\n",
    "import os\n",
    "import shutil\n",
    "from shutil import copyfile"
   ]
  },
  {
   "cell_type": "code",
   "execution_count": 12,
   "metadata": {},
   "outputs": [
    {
     "name": "stdout",
     "output_type": "stream",
     "text": [
      "True\n"
     ]
    }
   ],
   "source": [
    "resumePathFolder = \"/Users/kunal/Documents/VdartResumeProject/50_resumes/\"\n",
    "singlePageResumePathFolder = \"/Users/kunal/Documents/VdartResumeProject/single/\"\n",
    "if os.path.exists(resumePathFolder) and os.path.exists(singlePageResumePathFolder):\n",
    "    print(True)\n",
    "else:\n",
    "    print(\"Resume Folder \" + str(os.path.exists(resumePathFolder)))\n",
    "    print(\"Single page Folder \" + str(os.path.exists(singlePageResumePathFolder)))"
   ]
  },
  {
   "cell_type": "code",
   "execution_count": 47,
   "metadata": {},
   "outputs": [],
   "source": []
  },
  {
   "cell_type": "code",
   "execution_count": 51,
   "metadata": {},
   "outputs": [
    {
     "name": "stdout",
     "output_type": "stream",
     "text": [
      "1\n",
      "Copied Document_488.pdf\n",
      "6\n",
      "5\n",
      "3\n",
      "2\n",
      "2\n",
      "11\n",
      "1\n",
      "Copied Document_488.pdf\n",
      "2\n",
      "2\n",
      "1\n",
      "Copied Document_488.pdf\n",
      "1\n",
      "Copied Document_488.pdf\n",
      "2\n",
      "3\n",
      "2\n",
      "2\n",
      "10\n",
      "3\n",
      "2\n",
      "2\n",
      "3\n",
      "2\n",
      "5\n",
      "2\n",
      "2\n",
      "2\n",
      "7\n",
      "1\n",
      "Copied Document_488.pdf\n",
      "6\n",
      "13\n",
      "11\n",
      "3\n",
      "3\n",
      "11\n",
      "2\n",
      "9\n",
      "3\n",
      "3\n",
      "2\n",
      "2\n",
      "3\n",
      "2\n",
      "2\n",
      "1\n",
      "Copied Document_488.pdf\n",
      "3\n",
      "2\n",
      "4\n",
      "5\n",
      "3\n",
      "Total files with 1 page is 12\n"
     ]
    }
   ],
   "source": []
  },
  {
   "cell_type": "code",
   "execution_count": null,
   "metadata": {},
   "outputs": [],
   "source": []
  }
 ],
 "metadata": {
  "kernelspec": {
   "display_name": "Python 3",
   "language": "python",
   "name": "python3"
  },
  "language_info": {
   "codemirror_mode": {
    "name": "ipython",
    "version": 3
   },
   "file_extension": ".py",
   "mimetype": "text/x-python",
   "name": "python",
   "nbconvert_exporter": "python",
   "pygments_lexer": "ipython3",
   "version": "3.7.4"
  },
  "toc": {
   "base_numbering": 1,
   "nav_menu": {},
   "number_sections": true,
   "sideBar": true,
   "skip_h1_title": false,
   "title_cell": "Table of Contents",
   "title_sidebar": "Contents",
   "toc_cell": false,
   "toc_position": {},
   "toc_section_display": true,
   "toc_window_display": false
  }
 },
 "nbformat": 4,
 "nbformat_minor": 4
}
